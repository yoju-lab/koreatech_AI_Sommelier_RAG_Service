{
 "cells": [
  {
   "cell_type": "markdown",
   "id": "7a82415a",
   "metadata": {},
   "source": [
    "### from : 01.indexing.md"
   ]
  },
  {
   "cell_type": "code",
   "execution_count": 1,
   "id": "b71d24e0",
   "metadata": {},
   "outputs": [
    {
     "name": "stdout",
     "output_type": "stream",
     "text": [
      "환경 변수 로딩 완료\n"
     ]
    }
   ],
   "source": [
    "import os\n",
    "from dotenv import load_dotenv\n",
    "\n",
    "# .env 파일 로드\n",
    "load_dotenv()\n",
    "\n",
    "# 환경 변수 설정\n",
    "OPENAI_API_KEY = os.getenv(\"OPENAI_API_KEY\")\n",
    "OPENAI_LLM_MODEL = os.getenv(\"OPENAI_LLM_MODEL\")\n",
    "OPENAI_EMBEDDING_MODEL = os.getenv(\"OPENAI_EMBEDDING_MODEL\")\n",
    "PINECONE_API_KEY = os.getenv(\"PINECONE_API_KEY\")\n",
    "PINECONE_INDEX_REGION = os.getenv(\"PINECONE_INDEX_REGION\")\n",
    "PINECONE_INDEX_CLOUD = os.getenv(\"PINECONE_INDEX_CLOUD\")\n",
    "PINECONE_INDEX_NAME = os.getenv(\"PINECONE_INDEX_NAME\")\n",
    "PINECONE_INDEX_METRIC = os.getenv(\"PINECONE_INDEX_METRIC\")\n",
    "PINECONE_INDEX_DIMENSION = int(os.getenv(\"PINECONE_INDEX_DIMENSION\"))\n",
    "\n",
    "print(\"환경 변수 로딩 완료\")"
   ]
  },
  {
   "cell_type": "code",
   "execution_count": 2,
   "id": "e13cd5a4",
   "metadata": {},
   "outputs": [
    {
     "name": "stderr",
     "output_type": "stream",
     "text": [
      "/usr/local/lib/python3.11/site-packages/tqdm/auto.py:21: TqdmWarning: IProgress not found. Please update jupyter and ipywidgets. See https://ipywidgets.readthedocs.io/en/stable/user_install.html\n",
      "  from .autonotebook import tqdm as notebook_tqdm\n"
     ]
    },
    {
     "name": "stdout",
     "output_type": "stream",
     "text": [
      "인덱스 'ir-embeddings' 생성 완료\n",
      "Pinecone 인덱스 연결 완료\n"
     ]
    }
   ],
   "source": [
    "from pinecone import Pinecone, ServerlessSpec\n",
    "\n",
    "# Pinecone 클라이언트 초기화\n",
    "pc = Pinecone(api_key=PINECONE_API_KEY)\n",
    "\n",
    "# 인덱스 생성 여부 확인 및 생성\n",
    "if PINECONE_INDEX_NAME not in pc.list_indexes().names():\n",
    "    pc.create_index(\n",
    "        name=PINECONE_INDEX_NAME,\n",
    "        dimension=PINECONE_INDEX_DIMENSION,\n",
    "        metric=PINECONE_INDEX_METRIC,\n",
    "        spec=ServerlessSpec(\n",
    "            region=PINECONE_INDEX_REGION,\n",
    "            cloud=PINECONE_INDEX_CLOUD\n",
    "        )\n",
    "    )\n",
    "    print(f\"인덱스 '{PINECONE_INDEX_NAME}' 생성 완료\")\n",
    "else:\n",
    "    print(f\"인덱스 '{PINECONE_INDEX_NAME}'가 이미 존재합니다.\")\n",
    "\n",
    "# 인덱스 객체 가져오기\n",
    "index = pc.Index(PINECONE_INDEX_NAME)\n",
    "print(\"Pinecone 인덱스 연결 완료\")\n"
   ]
  },
  {
   "cell_type": "code",
   "execution_count": 5,
   "id": "3298c1c6",
   "metadata": {},
   "outputs": [
    {
     "name": "stdout",
     "output_type": "stream",
     "text": [
      "임베딩 모델 로딩 완료\n"
     ]
    }
   ],
   "source": [
    "from langchain_openai import OpenAIEmbeddings\n",
    "\n",
    "# OpenAI 임베딩 모델 초기화\n",
    "embedding_model = OpenAIEmbeddings(\n",
    "    model=OPENAI_EMBEDDING_MODEL,\n",
    "    openai_api_key=OPENAI_API_KEY\n",
    ")\n",
    "\n",
    "print(\"임베딩 모델 로딩 완료\")"
   ]
  },
  {
   "cell_type": "code",
   "execution_count": 7,
   "id": "20a1ef15",
   "metadata": {},
   "outputs": [
    {
     "name": "stdout",
     "output_type": "stream",
     "text": [
      "총 30개의 문서를 인덱싱 준비\n"
     ]
    }
   ],
   "source": [
    "import pandas as pd\n",
    "\n",
    "# 문서 데이터 로드 (documents.csv 파일 경로를 지정하세요)\n",
    "documents_df = pd.read_csv(\"../../datas/documents.csv\")\n",
    "\n",
    "# 인덱싱용 리스트 생성: (id, 텍스트)\n",
    "docs_to_index = []\n",
    "for idx, row in documents_df.iterrows():\n",
    "    doc_id = row['doc_id']\n",
    "    content = row['content']\n",
    "    docs_to_index.append((doc_id, content))\n",
    "\n",
    "print(f\"총 {len(docs_to_index)}개의 문서를 인덱싱 준비\")"
   ]
  },
  {
   "cell_type": "code",
   "execution_count": 8,
   "id": "c4e8c331",
   "metadata": {},
   "outputs": [
    {
     "name": "stdout",
     "output_type": "stream",
     "text": [
      "벡터 스토어 연결 완료\n"
     ]
    }
   ],
   "source": [
    "from langchain_pinecone import PineconeVectorStore\n",
    "\n",
    "# Pinecone 벡터 스토어 연결\n",
    "vector_store = PineconeVectorStore(\n",
    "    index_name=PINECONE_INDEX_NAME,\n",
    "    embedding=embedding_model\n",
    ")\n",
    "\n",
    "print(\"벡터 스토어 연결 완료\")"
   ]
  },
  {
   "cell_type": "code",
   "execution_count": 9,
   "id": "c605ea1d",
   "metadata": {},
   "outputs": [
    {
     "name": "stdout",
     "output_type": "stream",
     "text": [
      "모든 문서 업서트 완료\n"
     ]
    }
   ],
   "source": [
    "# Pinecone에 문서 업서트\n",
    "from langchain.schema import Document\n",
    "\n",
    "# 문서를 벡터로 변환하여 업서트\n",
    "for doc_id, content in docs_to_index:\n",
    "    # LangChain Document 생성\n",
    "    doc = Document(page_content=content, metadata={\"doc_id\": doc_id})\n",
    "    \n",
    "    # 벡터 저장\n",
    "    vector_store.add_documents([doc])\n",
    "\n",
    "print(\"모든 문서 업서트 완료\")"
   ]
  },
  {
   "cell_type": "code",
   "execution_count": 10,
   "id": "141158e2",
   "metadata": {},
   "outputs": [
    {
     "name": "stdout",
     "output_type": "stream",
     "text": [
      "질의: 제주도 관광 명소\n",
      "1. 문서 ID: D1\n",
      "2. 문서 ID: D12\n",
      "3. 문서 ID: D2\n",
      "4. 문서 ID: D13\n",
      "5. 문서 ID: D8\n"
     ]
    }
   ],
   "source": [
    "# 테스트 검색 예시\n",
    "query = \"제주도 관광 명소\"\n",
    "results = vector_store.similarity_search(query, k=5)\n",
    "print(\"질의:\", query)\n",
    "for rank, doc in enumerate(results, start=1):\n",
    "    print(f\"{rank}. 문서 ID: {doc.metadata['doc_id']}\")"
   ]
  },
  {
   "cell_type": "code",
   "execution_count": null,
   "id": "65247da9",
   "metadata": {},
   "outputs": [],
   "source": []
  }
 ],
 "metadata": {
  "kernelspec": {
   "display_name": "Python 3",
   "language": "python",
   "name": "python3"
  },
  "language_info": {
   "codemirror_mode": {
    "name": "ipython",
    "version": 3
   },
   "file_extension": ".py",
   "mimetype": "text/x-python",
   "name": "python",
   "nbconvert_exporter": "python",
   "pygments_lexer": "ipython3",
   "version": "3.11.11"
  }
 },
 "nbformat": 4,
 "nbformat_minor": 5
}
