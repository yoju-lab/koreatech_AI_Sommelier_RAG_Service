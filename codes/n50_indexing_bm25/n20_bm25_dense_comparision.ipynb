{
 "cells": [
  {
   "cell_type": "markdown",
   "id": "161c1eb8",
   "metadata": {},
   "source": [
    "### from : 02.bm25_dense_comparision.md"
   ]
  },
  {
   "cell_type": "code",
   "execution_count": 1,
   "id": "05b25650",
   "metadata": {},
   "outputs": [
    {
     "name": "stdout",
     "output_type": "stream",
     "text": [
      "환경 변수 로딩 완료\n"
     ]
    }
   ],
   "source": [
    "import os\n",
    "from dotenv import load_dotenv\n",
    "\n",
    "# .env 파일 로드\n",
    "load_dotenv()\n",
    "\n",
    "# 환경 변수 가져오기\n",
    "OPENAI_API_KEY = os.getenv(\"OPENAI_API_KEY\")\n",
    "OPENAI_LLM_MODEL = os.getenv(\"OPENAI_LLM_MODEL\")\n",
    "OPENAI_EMBEDDING_MODEL = os.getenv(\"OPENAI_EMBEDDING_MODEL\")\n",
    "PINECONE_API_KEY = os.getenv(\"PINECONE_API_KEY\")\n",
    "PINECONE_INDEX_REGION = os.getenv(\"PINECONE_INDEX_REGION\")\n",
    "PINECONE_INDEX_CLOUD = os.getenv(\"PINECONE_INDEX_CLOUD\")\n",
    "PINECONE_INDEX_NAME = os.getenv(\"PINECONE_INDEX_NAME\")\n",
    "PINECONE_INDEX_METRIC = os.getenv(\"PINECONE_INDEX_METRIC\")\n",
    "PINECONE_INDEX_DIMENSION = int(os.getenv(\"PINECONE_INDEX_DIMENSION\"))\n",
    "\n",
    "print(\"환경 변수 로딩 완료\")"
   ]
  },
  {
   "cell_type": "code",
   "execution_count": 2,
   "id": "3330509d",
   "metadata": {},
   "outputs": [
    {
     "name": "stdout",
     "output_type": "stream",
     "text": [
      "문서 수: 30\n",
      "질의 수: 30\n"
     ]
    }
   ],
   "source": [
    "import pandas as pd\n",
    "\n",
    "# 문서 및 질의 데이터 로드\n",
    "documents_df = pd.read_csv(\"documents.csv\")\n",
    "queries_df = pd.read_csv(\"queries.csv\")\n",
    "\n",
    "print(f\"문서 수: {len(documents_df)}\")\n",
    "print(f\"질의 수: {len(queries_df)}\")"
   ]
  },
  {
   "cell_type": "code",
   "execution_count": 1,
   "id": "c1953df1",
   "metadata": {},
   "outputs": [
    {
     "name": "stdout",
     "output_type": "stream",
     "text": [
      "Collecting mecab-python3\n",
      "  Downloading mecab_python3-1.0.10-cp311-cp311-manylinux_2_17_aarch64.manylinux2014_aarch64.whl.metadata (6.2 kB)\n",
      "Downloading mecab_python3-1.0.10-cp311-cp311-manylinux_2_17_aarch64.manylinux2014_aarch64.whl (567 kB)\n",
      "\u001b[2K   \u001b[90m━━━━━━━━━━━━━━━━━━━━━━━━━━━━━━━━━━━━━━━━\u001b[0m \u001b[32m567.5/567.5 kB\u001b[0m \u001b[31m12.7 MB/s\u001b[0m eta \u001b[36m0:00:00\u001b[0m\n",
      "\u001b[?25hInstalling collected packages: mecab-python3\n",
      "Successfully installed mecab-python3-1.0.10\n",
      "\u001b[33mWARNING: Running pip as the 'root' user can result in broken permissions and conflicting behaviour with the system package manager, possibly rendering your system unusable. It is recommended to use a virtual environment instead: https://pip.pypa.io/warnings/venv. Use the --root-user-action option if you know what you are doing and want to suppress this warning.\u001b[0m\u001b[33m\n",
      "\u001b[0mNote: you may need to restart the kernel to use updated packages.\n"
     ]
    }
   ],
   "source": [
    "%pip install mecab-python3"
   ]
  },
  {
   "cell_type": "code",
   "execution_count": 3,
   "id": "882a14b8",
   "metadata": {},
   "outputs": [
    {
     "ename": "ModuleNotFoundError",
     "evalue": "No module named 'mecab'",
     "output_type": "error",
     "traceback": [
      "\u001b[31m---------------------------------------------------------------------------\u001b[39m",
      "\u001b[31mModuleNotFoundError\u001b[39m                       Traceback (most recent call last)",
      "\u001b[36mCell\u001b[39m\u001b[36m \u001b[39m\u001b[32mIn[3]\u001b[39m\u001b[32m, line 1\u001b[39m\n\u001b[32m----> \u001b[39m\u001b[32m1\u001b[39m \u001b[38;5;28;01mfrom\u001b[39;00m\u001b[38;5;250m \u001b[39m\u001b[34;01mmecab\u001b[39;00m\u001b[38;5;250m \u001b[39m\u001b[38;5;28;01mimport\u001b[39;00m MeCab\n\u001b[32m      3\u001b[39m mecab = MeCab()\n\u001b[32m      4\u001b[39m \u001b[38;5;28mprint\u001b[39m(mecab.pos(\u001b[33m\"\u001b[39m\u001b[33m한국어를 처리하는 예시입니다.\u001b[39m\u001b[33m\"\u001b[39m))\n",
      "\u001b[31mModuleNotFoundError\u001b[39m: No module named 'mecab'"
     ]
    }
   ],
   "source": [
    "from mecab import MeCab\n",
    "\n",
    "mecab = MeCab()\n",
    "print(mecab.pos(\"한국어를 처리하는 예시입니다.\"))\n"
   ]
  },
  {
   "cell_type": "code",
   "execution_count": 3,
   "id": "e51d5b5e",
   "metadata": {},
   "outputs": [
    {
     "ename": "Exception",
     "evalue": "The MeCab dictionary does not exist at \"/usr/lib/x86_64-linux-gnu/mecab/dic/ipadic\". Is the dictionary correctly installed?\nYou can also try entering the dictionary path when initializing the Mecab class: \"Mecab('/some/dic/path')\"",
     "output_type": "error",
     "traceback": [
      "\u001b[31m---------------------------------------------------------------------------\u001b[39m",
      "\u001b[31mRuntimeError\u001b[39m                              Traceback (most recent call last)",
      "\u001b[36mFile \u001b[39m\u001b[32m/usr/local/lib/python3.11/site-packages/eunjeon/_mecab.py:101\u001b[39m, in \u001b[36mMecab.__init__\u001b[39m\u001b[34m(self, dicpath)\u001b[39m\n\u001b[32m    100\u001b[39m \u001b[38;5;28;01mtry\u001b[39;00m:\n\u001b[32m--> \u001b[39m\u001b[32m101\u001b[39m     \u001b[38;5;28mself\u001b[39m.tagger = \u001b[43mTagger\u001b[49m\u001b[43m(\u001b[49m\u001b[33;43m'\u001b[39;49m\u001b[33;43m--rcfile \u001b[39;49m\u001b[38;5;132;43;01m%s\u001b[39;49;00m\u001b[33;43m'\u001b[39;49m\u001b[43m \u001b[49m\u001b[43m%\u001b[49m\u001b[43m \u001b[49m\u001b[43mdicpath\u001b[49m\u001b[43m)\u001b[49m\n\u001b[32m    102\u001b[39m \u001b[38;5;28;01mexcept\u001b[39;00m \u001b[38;5;167;01mRuntimeError\u001b[39;00m:\n",
      "\u001b[36mFile \u001b[39m\u001b[32m/usr/local/lib/python3.11/site-packages/eunjeon/mecab.py:528\u001b[39m, in \u001b[36mTagger.__init__\u001b[39m\u001b[34m(self, *args)\u001b[39m\n\u001b[32m    527\u001b[39m \u001b[38;5;28;01mdef\u001b[39;00m\u001b[38;5;250m \u001b[39m\u001b[34m__init__\u001b[39m(\u001b[38;5;28mself\u001b[39m, *args):\n\u001b[32m--> \u001b[39m\u001b[32m528\u001b[39m     this = \u001b[43m_MeCab\u001b[49m\u001b[43m.\u001b[49m\u001b[43mnew_Tagger\u001b[49m\u001b[43m(\u001b[49m\u001b[43m*\u001b[49m\u001b[43margs\u001b[49m\u001b[43m)\u001b[49m\n\u001b[32m    529\u001b[39m     \u001b[38;5;28;01mtry\u001b[39;00m:\n",
      "\u001b[31mRuntimeError\u001b[39m: ",
      "\nDuring handling of the above exception, another exception occurred:\n",
      "\u001b[31mRuntimeError\u001b[39m                              Traceback (most recent call last)",
      "\u001b[36mFile \u001b[39m\u001b[32m/usr/local/lib/python3.11/site-packages/eunjeon/_mecab.py:104\u001b[39m, in \u001b[36mMecab.__init__\u001b[39m\u001b[34m(self, dicpath)\u001b[39m\n\u001b[32m    103\u001b[39m \u001b[38;5;28;01mtry\u001b[39;00m:  \u001b[38;5;66;03m# Sometimes it works when we try twice.\u001b[39;00m\n\u001b[32m--> \u001b[39m\u001b[32m104\u001b[39m     \u001b[38;5;28mself\u001b[39m.tagger = \u001b[43mTagger\u001b[49m\u001b[43m(\u001b[49m\u001b[33;43m'\u001b[39;49m\u001b[33;43m--rcfile \u001b[39;49m\u001b[38;5;132;43;01m%s\u001b[39;49;00m\u001b[33;43m'\u001b[39;49m\u001b[43m \u001b[49m\u001b[43m%\u001b[49m\u001b[43m \u001b[49m\u001b[43mdicpath\u001b[49m\u001b[43m)\u001b[49m\n\u001b[32m    105\u001b[39m \u001b[38;5;28;01mexcept\u001b[39;00m \u001b[38;5;167;01mRuntimeError\u001b[39;00m:\n",
      "\u001b[36mFile \u001b[39m\u001b[32m/usr/local/lib/python3.11/site-packages/eunjeon/mecab.py:528\u001b[39m, in \u001b[36mTagger.__init__\u001b[39m\u001b[34m(self, *args)\u001b[39m\n\u001b[32m    527\u001b[39m \u001b[38;5;28;01mdef\u001b[39;00m\u001b[38;5;250m \u001b[39m\u001b[34m__init__\u001b[39m(\u001b[38;5;28mself\u001b[39m, *args):\n\u001b[32m--> \u001b[39m\u001b[32m528\u001b[39m     this = \u001b[43m_MeCab\u001b[49m\u001b[43m.\u001b[49m\u001b[43mnew_Tagger\u001b[49m\u001b[43m(\u001b[49m\u001b[43m*\u001b[49m\u001b[43margs\u001b[49m\u001b[43m)\u001b[49m\n\u001b[32m    529\u001b[39m     \u001b[38;5;28;01mtry\u001b[39;00m:\n",
      "\u001b[31mRuntimeError\u001b[39m: ",
      "\nDuring handling of the above exception, another exception occurred:\n",
      "\u001b[31mException\u001b[39m                                 Traceback (most recent call last)",
      "\u001b[36mCell\u001b[39m\u001b[36m \u001b[39m\u001b[32mIn[3]\u001b[39m\u001b[32m, line 6\u001b[39m\n\u001b[32m      2\u001b[39m \u001b[38;5;28;01mfrom\u001b[39;00m\u001b[38;5;250m \u001b[39m\u001b[34;01mrank_bm25\u001b[39;00m\u001b[38;5;250m \u001b[39m\u001b[38;5;28;01mimport\u001b[39;00m BM25Okapi\n\u001b[32m      4\u001b[39m \u001b[38;5;66;03m# 예시: Mecab 형태소 분석기로 문서 토큰화\u001b[39;00m\n\u001b[32m      5\u001b[39m \u001b[38;5;66;03m# mecab = Mecab()\u001b[39;00m\n\u001b[32m----> \u001b[39m\u001b[32m6\u001b[39m mecab = \u001b[43mMecab\u001b[49m\u001b[43m(\u001b[49m\u001b[33;43m'\u001b[39;49m\u001b[33;43m/usr/lib/x86_64-linux-gnu/mecab/dic/ipadic\u001b[39;49m\u001b[33;43m'\u001b[39;49m\u001b[43m)\u001b[49m\n\u001b[32m      8\u001b[39m tokenized_docs = [Mecab.morphs(content) \u001b[38;5;28;01mfor\u001b[39;00m content \u001b[38;5;129;01min\u001b[39;00m documents_df[\u001b[33m'\u001b[39m\u001b[33mcontent\u001b[39m\u001b[33m'\u001b[39m]]\n\u001b[32m      9\u001b[39m bm25 = BM25Okapi(tokenized_docs)\n",
      "\u001b[36mFile \u001b[39m\u001b[32m/usr/local/lib/python3.11/site-packages/eunjeon/_mecab.py:106\u001b[39m, in \u001b[36mMecab.__init__\u001b[39m\u001b[34m(self, dicpath)\u001b[39m\n\u001b[32m    104\u001b[39m         \u001b[38;5;28mself\u001b[39m.tagger = Tagger(\u001b[33m'\u001b[39m\u001b[33m--rcfile \u001b[39m\u001b[38;5;132;01m%s\u001b[39;00m\u001b[33m'\u001b[39m % dicpath)\n\u001b[32m    105\u001b[39m     \u001b[38;5;28;01mexcept\u001b[39;00m \u001b[38;5;167;01mRuntimeError\u001b[39;00m:\n\u001b[32m--> \u001b[39m\u001b[32m106\u001b[39m         \u001b[38;5;28;01mraise\u001b[39;00m \u001b[38;5;167;01mException\u001b[39;00m(\u001b[33m'\u001b[39m\u001b[33mThe MeCab dictionary does not exist at \u001b[39m\u001b[33m\"\u001b[39m\u001b[38;5;132;01m%s\u001b[39;00m\u001b[33m\"\u001b[39m\u001b[33m. Is the dictionary correctly installed?\u001b[39m\u001b[38;5;130;01m\\n\u001b[39;00m\u001b[33mYou can also try entering the dictionary path when initializing the Mecab class: \u001b[39m\u001b[33m\"\u001b[39m\u001b[33mMecab(\u001b[39m\u001b[38;5;130;01m\\'\u001b[39;00m\u001b[33m/some/dic/path\u001b[39m\u001b[38;5;130;01m\\'\u001b[39;00m\u001b[33m)\u001b[39m\u001b[33m\"\u001b[39m\u001b[33m'\u001b[39m % dicpath)\n\u001b[32m    107\u001b[39m \u001b[38;5;28;01mexcept\u001b[39;00m \u001b[38;5;167;01mNameError\u001b[39;00m:\n\u001b[32m    108\u001b[39m     \u001b[38;5;28;01mraise\u001b[39;00m \u001b[38;5;167;01mException\u001b[39;00m(\u001b[33m'\u001b[39m\u001b[33mInstall MeCab in order to use it: https://github.com/koshort/pyeunjeon/\u001b[39m\u001b[33m'\u001b[39m)\n",
      "\u001b[31mException\u001b[39m: The MeCab dictionary does not exist at \"/usr/lib/x86_64-linux-gnu/mecab/dic/ipadic\". Is the dictionary correctly installed?\nYou can also try entering the dictionary path when initializing the Mecab class: \"Mecab('/some/dic/path')\""
     ]
    }
   ],
   "source": [
    "from eunjeon import Mecab\n",
    "from rank_bm25 import BM25Okapi\n",
    "\n",
    "# 예시: Mecab 형태소 분석기로 문서 토큰화\n",
    "# mecab = Mecab()\n",
    "mecab = Mecab('/usr/lib/x86_64-linux-gnu/mecab/dic/ipadic')\n",
    "\n",
    "tokenized_docs = [Mecab.morphs(content) for content in documents_df['content']]\n",
    "bm25 = BM25Okapi(tokenized_docs)\n",
    "\n",
    "def bm25_search_mecab(query, top_k=5):\n",
    "    query_tokens = mecab.morphs(query)\n",
    "    scores = bm25.get_scores(query_tokens)\n",
    "    ranked_idx = sorted(range(len(scores)), key=lambda i: scores[i], reverse=True)\n",
    "    return [documents_df['doc_id'].iloc[i] for i in ranked_idx[:top_k]]\n",
    "\n",
    "print(\"Mecab 기반 BM25 검색:\", bm25_search_mecab(\"제주도 관광 명소\", top_k=5))"
   ]
  },
  {
   "cell_type": "code",
   "execution_count": null,
   "id": "d5c14bdb",
   "metadata": {},
   "outputs": [],
   "source": [
    "from pinecone import Pinecone\n",
    "from langchain_openai import OpenAIEmbeddings\n",
    "from langchain_pinecone import PineconeVectorStore\n",
    "\n",
    "pc = Pinecone(api_key=PINECONE_API_KEY)\n",
    "\n",
    "index = pc.Index(PINECONE_INDEX_NAME)  \n",
    "\n",
    "embedding_model = OpenAIEmbeddings(\n",
    "    model=OPENAI_EMBEDDING_MODEL,\n",
    "    openai_api_key=OPENAI_API_KEY\n",
    ")\n",
    "\n",
    "vector_store = PineconeVectorStore(\n",
    "    index_name=PINECONE_INDEX_NAME,\n",
    "    embedding=embedding_model\n",
    ")\n",
    "\n",
    "print(\"기존 'ir' 인덱스에 연결하여 Dense Retrieval 설정 완료\")"
   ]
  },
  {
   "cell_type": "code",
   "execution_count": null,
   "id": "d8264b9f",
   "metadata": {},
   "outputs": [],
   "source": [
    "import numpy as np\n",
    "from sklearn.metrics import precision_score, recall_score\n",
    "\n",
    "# 다중 정답 및 등급을 처리하기 위한 헬퍼 함수\n",
    "def parse_relevant(relevant_str):\n",
    "    # 'D6=3;D14=2;D26=1' 형태\n",
    "    pairs = relevant_str.split(';')\n",
    "    rel_dict = {}\n",
    "    for pair in pairs:\n",
    "        doc_id, grade = pair.split('=')\n",
    "        rel_dict[doc_id] = int(grade)\n",
    "    return rel_dict\n",
    "\n",
    "def compute_metrics(predicted, relevant_dict, k=5):\n",
    "    # Precision@k: 상위 k 중 관련(grade>=1) 문서 비율\n",
    "    hits = sum([1 for doc in predicted[:k] if doc in relevant_dict])\n",
    "    precision = hits / k\n",
    "    # Recall@k: 관련 문서 총 개수 대비 상위 k 중 회수된 관련 개수\n",
    "    total_relevant = len(relevant_dict)\n",
    "    recall = hits / total_relevant if total_relevant > 0 else 0\n",
    "    # MRR: 첫 번째 관련 문서 위치 기반\n",
    "    rr = 0\n",
    "    for idx, doc in enumerate(predicted):\n",
    "        if doc in relevant_dict:\n",
    "            rr = 1 / (idx + 1)\n",
    "            break\n",
    "    # 단일 AP 계산 (MAP를 위해)\n",
    "    num_correct = 0\n",
    "    precisions = []\n",
    "    for i, doc in enumerate(predicted[:k]):\n",
    "        if doc in relevant_dict:\n",
    "            num_correct += 1\n",
    "            precisions.append(num_correct / (i + 1))\n",
    "    ap = np.mean(precisions) if precisions else 0\n",
    "    return precision, recall, rr, ap\n",
    "\n",
    "def evaluate_all(method_results, queries_df, k=5):\n",
    "    prec_list, rec_list, rr_list, ap_list = [], [], [], []\n",
    "    for idx, row in queries_df.iterrows():\n",
    "        qid = row['query_id']\n",
    "        relevant_dict = parse_relevant(row['relevant_doc_ids'])\n",
    "        predicted = method_results[qid]\n",
    "        p, r, rr, ap = compute_metrics(predicted, relevant_dict, k)\n",
    "        prec_list.append(p)\n",
    "        rec_list.append(r)\n",
    "        rr_list.append(rr)\n",
    "        ap_list.append(ap)\n",
    "    # 평균 지표 반환\n",
    "    return {\n",
    "        'P@k': np.mean(prec_list),\n",
    "        'R@k': np.mean(rec_list),\n",
    "        'MRR': np.mean(rr_list),\n",
    "        'MAP': np.mean(ap_list)\n",
    "    }"
   ]
  },
  {
   "cell_type": "code",
   "execution_count": null,
   "id": "6547de0e",
   "metadata": {},
   "outputs": [],
   "source": [
    "# BM25 결과 저장: {query_id: [doc_ids...]}\n",
    "bm25_results = {}\n",
    "for idx, row in queries_df.iterrows():\n",
    "    qid = row['query_id']\n",
    "    query_text = row['query_text']\n",
    "    bm25_results[qid] = bm25_search_mecab(query_text, top_k=5)\n",
    "\n",
    "# Dense Retrieval 결과 저장\n",
    "dense_results = {}\n",
    "for idx, row in queries_df.iterrows():\n",
    "    qid = row['query_id']\n",
    "    query_text = row['query_text']\n",
    "    docs = vector_store.similarity_search(query_text, k=5)\n",
    "    dense_results[qid] = [doc.metadata['doc_id'] for doc in docs]\n",
    "\n",
    "print(\"BM25 & Dense Retrieval 결과 수집 완료\")"
   ]
  },
  {
   "cell_type": "code",
   "execution_count": null,
   "id": "f1b83582",
   "metadata": {},
   "outputs": [],
   "source": [
    "# BM25 평가\n",
    "bm25_metrics = evaluate_all(bm25_results, queries_df, k=5)\n",
    "# Dense 평가\n",
    "dense_metrics = evaluate_all(dense_results, queries_df, k=5)\n",
    "\n",
    "import pandas as pd\n",
    "\n",
    "df_metrics = pd.DataFrame({\n",
    "    'Metric': ['P@5', 'R@5', 'MRR', 'MAP'],\n",
    "    'BM25': [bm25_metrics['P@k'], bm25_metrics['R@k'], bm25_metrics['MRR'], bm25_metrics['MAP']],\n",
    "    'Dense': [dense_metrics['P@k'], dense_metrics['R@k'], dense_metrics['MRR'], dense_metrics['MAP']]\n",
    "})\n",
    "\n",
    "df_metrics"
   ]
  }
 ],
 "metadata": {
  "kernelspec": {
   "display_name": "Python 3",
   "language": "python",
   "name": "python3"
  },
  "language_info": {
   "codemirror_mode": {
    "name": "ipython",
    "version": 3
   },
   "file_extension": ".py",
   "mimetype": "text/x-python",
   "name": "python",
   "nbconvert_exporter": "python",
   "pygments_lexer": "ipython3",
   "version": "3.11.11"
  }
 },
 "nbformat": 4,
 "nbformat_minor": 5
}
