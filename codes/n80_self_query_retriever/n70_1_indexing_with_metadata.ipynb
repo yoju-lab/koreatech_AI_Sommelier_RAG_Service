{
 "cells": [
  {
   "cell_type": "code",
   "execution_count": 15,
   "id": "24bc53cc",
   "metadata": {},
   "outputs": [],
   "source": [
    "# %pip install python-dotenv pandas pinecone langchain langchain-openai langchain-pinecone scikit-learn matplotlib\n"
   ]
  },
  {
   "cell_type": "code",
   "execution_count": 16,
   "id": "babebe4e",
   "metadata": {},
   "outputs": [
    {
     "name": "stdout",
     "output_type": "stream",
     "text": [
      "환경 변수 로딩 완료 : ir-embeddings, us-east-1, aws\n"
     ]
    }
   ],
   "source": [
    "import os\n",
    "from dotenv import load_dotenv\n",
    "\n",
    "load_dotenv()\n",
    "\n",
    "OPENAI_API_KEY = os.getenv(\"OPENAI_API_KEY\")\n",
    "OPENAI_LLM_MODEL = os.getenv(\"OPENAI_LLM_MODEL\")  # 'gpt-4o-mini'\n",
    "OPENAI_EMBEDDING_MODEL = os.getenv(\"OPENAI_EMBEDDING_MODEL\")\n",
    "PINECONE_API_KEY = os.getenv(\"PINECONE_API_KEY\")\n",
    "PINECONE_INDEX_REGION = os.getenv(\"PINECONE_INDEX_REGION\")\n",
    "PINECONE_INDEX_CLOUD = os.getenv(\"PINECONE_INDEX_CLOUD\")\n",
    "PINECONE_INDEX_NAME = os.getenv(\"PINECONE_INDEX_NAME\")  # 'ir'\n",
    "PINECONE_INDEX_METRIC = os.getenv(\"PINECONE_INDEX_METRIC\")\n",
    "PINECONE_INDEX_DIMENSION = int(os.getenv(\"PINECONE_INDEX_DIMENSION\"))\n",
    "\n",
    "# 압축 인덱스 이름\n",
    "COMPRESSED_INDEX_NAME = f\"{PINECONE_INDEX_NAME}-compressed\"\n",
    "\n",
    "print(f\"환경 변수 로딩 완료 : {PINECONE_INDEX_NAME}, {PINECONE_INDEX_REGION}, {PINECONE_INDEX_CLOUD}\")"
   ]
  },
  {
   "cell_type": "code",
   "execution_count": 17,
   "id": "c1e8b632",
   "metadata": {},
   "outputs": [
    {
     "name": "stdout",
     "output_type": "stream",
     "text": [
      "문서 수: 30\n"
     ]
    },
    {
     "data": {
      "text/html": [
       "<div>\n",
       "<style scoped>\n",
       "    .dataframe tbody tr th:only-of-type {\n",
       "        vertical-align: middle;\n",
       "    }\n",
       "\n",
       "    .dataframe tbody tr th {\n",
       "        vertical-align: top;\n",
       "    }\n",
       "\n",
       "    .dataframe thead th {\n",
       "        text-align: right;\n",
       "    }\n",
       "</style>\n",
       "<table border=\"1\" class=\"dataframe\">\n",
       "  <thead>\n",
       "    <tr style=\"text-align: right;\">\n",
       "      <th></th>\n",
       "      <th>doc_id</th>\n",
       "      <th>title</th>\n",
       "      <th>content</th>\n",
       "      <th>author</th>\n",
       "      <th>category</th>\n",
       "    </tr>\n",
       "  </thead>\n",
       "  <tbody>\n",
       "    <tr>\n",
       "      <th>0</th>\n",
       "      <td>D1</td>\n",
       "      <td>제주도 여행 가이드</td>\n",
       "      <td>제주도는 대한민국의 대표 관광지로서, 한라산 등반, 성산 일출봉 관광, 해변 활동(...</td>\n",
       "      <td>김민수</td>\n",
       "      <td>여행</td>\n",
       "    </tr>\n",
       "    <tr>\n",
       "      <th>1</th>\n",
       "      <td>D2</td>\n",
       "      <td>전주 비빔밥과 진주 비빔밥 차이점</td>\n",
       "      <td>비빔밥은 조선 시대부터 전해 내려온 대표적 한국 음식으로, 밥 위에 고명(채소·고기...</td>\n",
       "      <td>이영희</td>\n",
       "      <td>음식</td>\n",
       "    </tr>\n",
       "    <tr>\n",
       "      <th>2</th>\n",
       "      <td>D3</td>\n",
       "      <td>걸스데이 히트곡 분석</td>\n",
       "      <td>걸스데이는 2010년 데뷔한 대한민국의 4인조 걸그룹으로, 대표곡으로는 “Somet...</td>\n",
       "      <td>박지훈</td>\n",
       "      <td>문화;음악</td>\n",
       "    </tr>\n",
       "    <tr>\n",
       "      <th>3</th>\n",
       "      <td>D4</td>\n",
       "      <td>세종대왕과 훈민정음</td>\n",
       "      <td>세종대왕(1397~1450)은 훈민정음을 창제하여 한글을 보급한 조선의 4대 임금입...</td>\n",
       "      <td>최수정</td>\n",
       "      <td>역사;교육</td>\n",
       "    </tr>\n",
       "    <tr>\n",
       "      <th>4</th>\n",
       "      <td>D5</td>\n",
       "      <td>이순신 장군의 명량 해전</td>\n",
       "      <td>이순신 장군(1545~1598)은 임진왜란 당시 명량 해전에서 13척의 배로 133...</td>\n",
       "      <td>정우성</td>\n",
       "      <td>역사;군사</td>\n",
       "    </tr>\n",
       "  </tbody>\n",
       "</table>\n",
       "</div>"
      ],
      "text/plain": [
       "  doc_id               title  \\\n",
       "0     D1          제주도 여행 가이드   \n",
       "1     D2  전주 비빔밥과 진주 비빔밥 차이점   \n",
       "2     D3         걸스데이 히트곡 분석   \n",
       "3     D4          세종대왕과 훈민정음   \n",
       "4     D5       이순신 장군의 명량 해전   \n",
       "\n",
       "                                             content author category  \n",
       "0  제주도는 대한민국의 대표 관광지로서, 한라산 등반, 성산 일출봉 관광, 해변 활동(...    김민수       여행  \n",
       "1  비빔밥은 조선 시대부터 전해 내려온 대표적 한국 음식으로, 밥 위에 고명(채소·고기...    이영희       음식  \n",
       "2  걸스데이는 2010년 데뷔한 대한민국의 4인조 걸그룹으로, 대표곡으로는 “Somet...    박지훈    문화;음악  \n",
       "3  세종대왕(1397~1450)은 훈민정음을 창제하여 한글을 보급한 조선의 4대 임금입...    최수정    역사;교육  \n",
       "4  이순신 장군(1545~1598)은 임진왜란 당시 명량 해전에서 13척의 배로 133...    정우성    역사;군사  "
      ]
     },
     "execution_count": 17,
     "metadata": {},
     "output_type": "execute_result"
    }
   ],
   "source": [
    "import pandas as pd\n",
    "\n",
    "# 다중 메타데이터가 포함된 CSV 파일 로딩\n",
    "documents_df = pd.read_csv(\"../../datas/documents_meta.csv\")\n",
    "print(f\"문서 수: {len(documents_df)}\")\n",
    "documents_df.head()"
   ]
  },
  {
   "cell_type": "code",
   "execution_count": 18,
   "id": "120ba525",
   "metadata": {},
   "outputs": [
    {
     "name": "stdout",
     "output_type": "stream",
     "text": [
      "Pinecone 및 벡터 스토어 준비 완료\n"
     ]
    }
   ],
   "source": [
    "from pinecone import Pinecone, ServerlessSpec\n",
    "from langchain_openai import OpenAIEmbeddings\n",
    "from langchain_pinecone import PineconeVectorStore\n",
    "\n",
    "# Pinecone 클라이언트 연결\n",
    "pc = Pinecone(api_key=PINECONE_API_KEY)\n",
    "\n",
    "# 인덱스가 없으면 생성\n",
    "PINECONE_INDEX_NAME = \"ir-embeddings-meta\"\n",
    "if PINECONE_INDEX_NAME not in pc.list_indexes().names():\n",
    "    pc.create_index(\n",
    "        name=PINECONE_INDEX_NAME,\n",
    "        dimension=PINECONE_INDEX_DIMENSION,\n",
    "        metric=PINECONE_INDEX_METRIC,\n",
    "        spec=ServerlessSpec(region=PINECONE_INDEX_REGION, cloud=PINECONE_INDEX_CLOUD)\n",
    "    )\n",
    "index = pc.Index(PINECONE_INDEX_NAME)\n",
    "\n",
    "# 임베딩 모델 생성\n",
    "embedding_model = OpenAIEmbeddings(model=OPENAI_EMBEDDING_MODEL, openai_api_key=os.getenv(\"OPENAI_API_KEY\"))\n",
    "# Pinecone 벡터 스토어 설정\n",
    "vector_store = PineconeVectorStore(index_name=PINECONE_INDEX_NAME, embedding=embedding_model)\n",
    "\n",
    "print(\"Pinecone 및 벡터 스토어 준비 완료\")"
   ]
  },
  {
   "cell_type": "code",
   "execution_count": 19,
   "id": "1420fd80",
   "metadata": {},
   "outputs": [
    {
     "name": "stdout",
     "output_type": "stream",
     "text": [
      "업서트할 문서 수: 30\n"
     ]
    }
   ],
   "source": [
    "from langchain.schema import Document\n",
    "\n",
    "# Document 리스트 생성\n",
    "docs_to_upsert = []\n",
    "for idx, row in documents_df.iterrows():\n",
    "    # '역사;교육' → ['역사','교육'] 처럼 분리\n",
    "    cats = row['category'].split(';')\n",
    "    metadata = {\n",
    "        'doc_id': row['doc_id'],\n",
    "        'author': row['author'],\n",
    "        'category': cats,   # 리스트로 넘기기\n",
    "    }\n",
    "    docs_to_upsert.append(Document(page_content=row['content'], metadata=metadata))\n",
    "    \n",
    "print(f\"업서트할 문서 수: {len(docs_to_upsert)}\")"
   ]
  },
  {
   "cell_type": "code",
   "execution_count": 20,
   "id": "1f4bf9c7",
   "metadata": {},
   "outputs": [
    {
     "data": {
      "text/plain": [
       "[Document(metadata={'doc_id': 'D1', 'author': '김민수', 'category': ['여행']}, page_content='제주도는 대한민국의 대표 관광지로서, 한라산 등반, 성산 일출봉 관광, 해변 활동(협재해수욕장·함덕해수욕장) 등이 인기입니다. 현지 음식으로는 흑돼지, 고기국수, 전복죽 등이 있으며, 카페 거리(서귀포시 대정읍 카페 거리)도 유명합니다. 교통은 렌터카나 시외버스를 주로 이용하며, 사전 예약 시 우도 투어나 올레길 트레킹도 즐길 수 있습니다.'),\n",
       " Document(metadata={'doc_id': 'D2', 'author': '이영희', 'category': ['음식']}, page_content='비빔밥은 조선 시대부터 전해 내려온 대표적 한국 음식으로, 밥 위에 고명(채소·고기·계란 등)을 올리고 고추장이나 간장을 섞어 먹습니다. 전주 비빔밥은 고명 종류가 다양하고 전주식 고추장을 쓰며, 잔치용으로도 유명합니다. 진주 비빔밥은 고기·회·나물 등을 섞어 더욱 풍부한 식감을 제공합니다. 두 지역 모두 역사적 배경과 재료 구성이 달라 맛과 풍미가 다릅니다.'),\n",
       " Document(metadata={'doc_id': 'D3', 'author': '박지훈', 'category': ['문화', '음악']}, page_content='걸스데이는 2010년 데뷔한 대한민국의 4인조 걸그룹으로, 대표곡으로는 “Something”, “Darling”, “Expectation” 등이 있습니다. 데뷔 초기 청순 컨셉에서 점차 섹시·여성미 컨셉으로 변화하며 음원 차트 상위권에 올랐습니다. 멤버 민아·유라·소진·혜리는 드라마·예능·광고 등 다양한 분야에도 진출해 활동 영역을 넓혔습니다.'),\n",
       " Document(metadata={'doc_id': 'D4', 'author': '최수정', 'category': ['역사', '교육']}, page_content='세종대왕(1397~1450)은 훈민정음을 창제하여 한글을 보급한 조선의 4대 임금입니다. 그가 훈민정음을 만든 배경에는 백성들의 문맹 문제 해결과 국가 통치 효율화가 있었습니다. 세종대왕의 업적은 한국 문화와 문자 체계에 지대한 영향을 미쳤으며, 훈민정음 해례본은 유네스코 세계기록유산으로 등재되었습니다.'),\n",
       " Document(metadata={'doc_id': 'D5', 'author': '정우성', 'category': ['역사', '군사']}, page_content='이순신 장군(1545~1598)은 임진왜란 당시 명량 해전에서 13척의 배로 133척의 왜선을 격파하면서 크게 승리했습니다. 전술적인 배 배치(학익진)와 기상·해류를 활용한 전략은 전투 역사에 길이 남을 전술입니다. 이순신의 업적은 한국 해군 전통과 군사 전략 연구에서 핵심 사례로 다뤄집니다.'),\n",
       " Document(metadata={'doc_id': 'D6', 'author': '한예슬', 'category': ['환경', '과학', '보고서']}, page_content='2024년 전 지구 평균 기온은 산업화 이전 대비 약 1.2℃ 상승했으며, 해수면 상승, 극지방 빙하 감소, 이상 기상 현상이 빈번해졌습니다. 탄소 배출량 감소를 위해 재생에너지 확대, 탄소 중립 정책, 전기차 보급 등이 전 세계 주요 과제로 떠올랐습니다. 특히 한국은 2050 탄소 중립 목표를 선포하고, 신재생에너지 비중 확대와 탄소세 도입을 논의 중에 있습니다.'),\n",
       " Document(metadata={'doc_id': 'D7', 'author': '강다니엘', 'category': ['기술', '윤리', 'AI']}, page_content='최근 인공지능 분야에서는 생성형 AI, 멀티모달 모델, 강화학습 기반 에이전트 개발이 활발합니다. GPT 계열(예: GPT-4, GPT-4o-mini)은 자연어 생성·이해 능력이 뛰어나며, DALL·E, Stable Diffusion은 이미지 생성, CLIP 등은 이미지·텍스트 융합 모델로 주목받고 있습니다. 또한 AI 윤리 이슈로는 데이터 편향, 프라이버시 침해, 자율성 문제 등이 논의되고 있습니다.'),\n",
       " Document(metadata={'doc_id': 'D8', 'author': '오정연', 'category': ['교통', '여행']}, page_content='서울 지하철은 1호선부터 9호선까지 운행되며, 주요 환승역으로는 서울역·강남역·종로3가역·고속터미널역 등이 있습니다. 기본 요금은 1,250원(성인 기준)이며, 거리에 따른 추가 요금이 부과됩니다. T-money 교통카드를 사용하면 자동으로 할인 적용이 됩니다. 출퇴근 시간대에는 혼잡하므로 가급적 비혼잡 시간대를 이용하고, 5호선 공덕역 환승 구간 등을 주의해야 합니다.'),\n",
       " Document(metadata={'doc_id': 'D9', 'author': '신동엽', 'category': ['문화', '음악', '역사']}, page_content='판소리는 소리꾼과 고수가 함께 공연하는 한국 전통 음악으로, 대표 작품에는 “춘향가”, “심청가”, “흥부가” 등이 있습니다. “춘향가”는 이몽룡과 성춘향의 사랑 이야기를 기반으로 하며, 욕망·권력·신분제 갈등이 서사에 녹아 있습니다. 판소리는 소리(창), 아니리, 발림(무용)으로 구성되며, 지역별 창법 차이를 보입니다.'),\n",
       " Document(metadata={'doc_id': 'D10', 'author': '윤아름', 'category': ['스포츠', '역사']}, page_content='한국 축구 대표팀은 2002 한일 월드컵 4강 진출, 2012 런던 올림픽 동메달 획득, 2022 카타르 월드컵 16강 진출 등의 성과를 이뤘습니다. 주요 선수로는 박지성·차범근·손흥민·기성용 등이 있으며, 감독으로는 거스 히딩크(2002)·슈틸리케(2022)가 있습니다. 최근에도 젊은 선수들의 활약으로 아시아 예선 및 월드컵 본선에서 경쟁력을 유지하고 있습니다.'),\n",
       " Document(metadata={'doc_id': 'D11', 'author': '김민수', 'category': ['건강', '생활']}, page_content='건강을 위해서는 규칙적 식습관, 적절한 운동(주 3회 이상, 유산소+근력), 충분한 수면(하루 7~8시간), 스트레스 관리(명상·취미활동), 정기 건강검진이 필요합니다. 특히 비만 예방을 위해 저탄수화물·고단백 식단, 주간 10,000보 걷기를 권장하며, 음주·흡연은 최소화해야 합니다. 또한 정신 건강을 위해 긍정적 마인드, 사회적 지지 체계 구축, 전문 상담 서비스 이용도 도움이 됩니다.'),\n",
       " Document(metadata={'doc_id': 'D12', 'author': '이영희', 'category': ['여행', '레저']}, page_content='서울 근교에서 당일치기로 다녀올 만한 여행지로는 가평 쁘띠프랑스, 남양주 수종사, 양평 두물머리, 용인 에버랜드 등이 있습니다. 기차·버스 노선이 잘 발달되어 있어 대중교통으로 이동이 편리하며, 차가 있다면 경춘고속도로를 이용해 접근성이 좋습니다. 사전 관광 예약 앱(예: 야놀자, 쿠팡트래블)에서도 할인 혜택을 확인할 수 있습니다.'),\n",
       " Document(metadata={'doc_id': 'D13', 'author': '박지훈', 'category': ['음식', '영양', '건강']}, page_content='비빔밥은 지역별로 칼로리, 탄수화물, 단백질, 지방 함량이 차이를 보입니다. 전주 비빔밥(약 650kcal)은 채소·고기·계란 비율이 고르지만, 진주 비빔밥(약 700kcal)은 해산물과 육류가 섞여 열량이 다소 높습니다. 안동 비빔밥은 재료가 비교적 간단해 600kcal 내외이며, 지역별 나물 종류와 기름 사용량이 칼로리 차이에 영향을 미칩니다.'),\n",
       " Document(metadata={'doc_id': 'D14', 'author': '최수정', 'category': ['기술', '환경', '과학']}, page_content='AI를 활용한 기후 예측 연구는 기계학습 모델을 통해 대규모 기상 데이터를 분석해 미래 기온·강수량을 예측합니다. 예를 들어, 한국 기상청과 KAIA가 공동으로 Deep Learning 기반 단기 기상 예보 모델을 개발했습니다. 강화학습을 적용해 극한 기상 상황 발생 확률을 시뮬레이션하는 연구도 진행 중이며, 기후 변화 대응 정책 수립에 활용되고 있습니다.'),\n",
       " Document(metadata={'doc_id': 'D15', 'author': '정우성', 'category': ['문화', '음악', '역사']}, page_content='가야금은 한국 전통 현악기로, 12개의 줄을 가진 칠현금(七絃琴) 계열 악기입니다. 역사적으로 가야 시대에 기원하며, 고려 말·조선 초기에 궁중 음악으로 발전했습니다. 현대에는 거문고·해금 등과 함께 국악 앙상블에서 주로 사용되며, 연주법은 손끝으로 줄을 튕기는 방식입니다.'),\n",
       " Document(metadata={'doc_id': 'D16', 'author': '한예슬', 'category': ['문화', '역사', '의식']}, page_content='전통 혼례는 예식 절차가 복잡하며, 폐백, 예단, 함, 폐백음식 등 여러 의례가 포함됩니다. 신랑 집 가마 행렬, 폐백상 차림, 결혼 예복(한복) 착용 방식 등이 있으며, 각 지역마다 의례 절차와 이름이 다를 수 있습니다. 최근에는 전통식을 모던하게 재해석한 혼례가 인기를 얻고 있습니다.'),\n",
       " Document(metadata={'doc_id': 'D17', 'author': '강다니엘', 'category': ['문화', '영화', '엔터테인먼트']}, page_content='2023년 한국 영화 흥행 순위 Top10에는 “헌트”, “비상선언”, “범죄도시3”, “마녀 Part2. The Other One”, “길복순”, “킹메이커”, “거룩한 밤: 데몬 헌트”, “외계+인 1부”, “외계+인 2부”, “밀수” 등이 랭크되었습니다. 장르별로는 액션·스릴러가 강세였으며, 감독·출연진 라인업이 흥행 성공에 큰 역할을 했습니다.'),\n",
       " Document(metadata={'doc_id': 'D18', 'author': '오정연', 'category': ['기술', '소프트웨어', '설치']}, page_content='윈도우즈 환경에서 한글이 깨지지 않고 시각화(그래프·차트)할 때는, 한글 폰트를 시스템에 설치한 뒤 matplotlib에 폰트 경로를 지정해야 합니다. 예를 들어, “NanumGothic” 또는 “Malgun Gothic” 폰트를 설치한 후, 파이썬 코드에 `plt.rc(\"font\", family=\"Malgun Gothic\")`를 추가합니다. 이 과정을 통해 차트 제목·축 레이블·범례 등에서 한글이 올바르게 출력됩니다.'),\n",
       " Document(metadata={'doc_id': 'D19', 'author': '신동엽', 'category': ['기술', '프로그래밍', '소프트웨어 개발']}, page_content='코드 악취(Bad Smell)는 설계·구현 단계에서 코드 구조가 비효율적이거나 유지보수에 어려움을 주는 패턴을 의미합니다. 대표적인 코드 악취 예시로는 중복 코드, 긴 메서드, 거대한 클래스, 불분명한 변수명 등이 있으며, 이를 해결하기 위해 리팩토링 기법(메서드 추출, 클래스 분할, 변수명 변경 등)을 적용합니다. 리팩토링은 코드 품질을 개선하고 버그 발생률을 줄이는 데 도움을 줍니다.'),\n",
       " Document(metadata={'doc_id': 'D20', 'author': '윤아름', 'category': ['기술', '프로그래밍', '테스팅']}, page_content='JUnit5는 모듈화된 구조(Java Platform Module System 지원), 확장 API, 더 유연한 애노테이션(`@Test`, `@BeforeEach` 등)과 더 강력한 어서션 기능을 제공하며, JUnit4와 비교해 테스트 라이프사이클 관리가 개선되었습니다. Eclipse에서 JUnit5 기반 테스트 클래스를 생성하려면, Maven/Gradle의 의존성을 설정한 뒤, `@Test` 애노테이션이 달린 메서드를 작성하면 됩니다. 반면 JUnit4는 `@RunWith`와 `@Rule`을 사용하며, 레거시 프로젝트 호환성이 높습니다.'),\n",
       " Document(metadata={'doc_id': 'D21', 'author': '김민수', 'category': ['게임', '엔터테인먼트', '기술']}, page_content='Wheel of Fortune은 랜덤으로 숫자·문자가 배치된 원판을 돌려 맞춰진 알파벳에 따라 점수를 획득하는 게임입니다. 플레이어는 자음·모음을 선택하며, 맞춘 글자 수만큼 상금을 얻고, 특정 스페셜 칸(“Bankrupt”, “Lose a Turn” 등)이 등장할 수 있습니다. 게임 로직에는 턴 기반 점수 시스템, 보너스 라운드, 시간 제한 요소가 포함되어 있으며, 알파벳 빈도에 따른 전략도 존재합니다.'),\n",
       " Document(metadata={'doc_id': 'D22', 'author': '이영희', 'category': ['기술', '프로그래밍', '소프트웨어 개발']}, page_content='싱글톤(Singleton) 패턴은 클래스의 인스턴스를 한 개만 생성하도록 보장하며, 전역 접근 지점을 제공하는 디자인 패턴입니다. Java 예제에서 `private static` 인스턴스 변수와 `getInstance()` 메서드를 사용해 단일 인스턴스를 반환합니다. 멀티스레드 환경에서는 `synchronized` 블록 또는 `volatile` 키워드를 활용해 안전을 보장해야 합니다.'),\n",
       " Document(metadata={'doc_id': 'D23', 'author': '박지훈', 'category': ['기술', '프로그래밍', '소프트웨어 개발']}, page_content='Strategy 패턴은 알고리즘 군을 캡슐화하여 상호 교환 가능하도록 만드는 패턴입니다. Java 예제에서는 인터페이스(예: PaymentStrategy)를 정의하고, `CreditCardStrategy`, `PayPalStrategy` 클래스로 구현합니다. 클라이언트는 런타임에 전략 객체를 주입해 유연한 알고리즘 선택이 가능합니다.'),\n",
       " Document(metadata={'doc_id': 'D24', 'author': '최수정', 'category': ['기술', '프로그래밍', '소프트웨어 개발']}, page_content='Command 패턴은 요청을 객체로 캡슐화하여 요청을 매개변수화하고, 호출자(invoker)와 수신자(receiver)를 분리합니다. Java 예제에서는 `Command` 인터페이스와 구체적 명령(`LightOnCommand`, `LightOffCommand`) 클래스를 만들고, `Invoker`가 명령 객체를 실행합니다. 이 패턴을 사용하면 요청 기록, 실행 취소(Undo), 큐잉 등이 용이합니다.'),\n",
       " Document(metadata={'doc_id': 'D25', 'author': '정우성', 'category': ['정책', '기술', '보고서']}, page_content='2025년 한국 정부는 “AI 국가전략 2.0”을 발표하며, 인공지능 기술 연구·개발(R&D) 예산을 3조 원으로 확대했습니다. 주요 정책으로는 AI 인재 양성, 규제 샌드박스 활성화, AI 윤리 가이드라인 강화, 공공데이터 개방 등이 포함됩니다. 특히 중소기업 대상 AI 솔루션 지원 사업이 증가하였고, 대학·연구기관 협력 프로젝트가 활발히 추진되고 있습니다.'),\n",
       " Document(metadata={'doc_id': 'D26', 'author': '한예슬', 'category': ['기술', '과학', '환경']}, page_content='딥러닝 모델(예: LSTM, Transformer 기반 시계열 모델)을 활용한 기상 예측은 과거 기상 데이터로부터 패턴을 학습해 미래 기온·강수량을 예측합니다. 한국 기상청의 Deep Learning 기반 장기 예측 시스템은 50년 치 데이터를 학습해 태풍 경로 예측 정확도를 10% 향상시켰습니다. 또한, 강화학습 기법을 적용한 극한 기상 시뮬레이션 사례도 연구 중입니다.'),\n",
       " Document(metadata={'doc_id': 'D27', 'author': '강다니엘', 'category': ['기술', '데이터베이스', '비교']}, page_content='ChromaDB와 Qdrant는 벡터 검색 라이브러리로, ChromaDB는 오픈소스 벡터 DB로 간단한 파이썬 인터페이스를 제공하며, Qdrant는 Rust 기반 고성능 벡터 DB로 GPU 가속 지원 및 필터링 기능이 강점입니다. 성능 비교 실험 시 인덱싱 속도, 검색 응답 속도, 메모리 사용량, 스케일링 용이성 등을 비교합니다. 파이썬 코드 예제와 벤치마크 결과가 공개되어 있어, 개발자가 선택하기 용이합니다.'),\n",
       " Document(metadata={'doc_id': 'D28', 'author': '오정연', 'category': ['기술', 'AI', '검색']}, page_content='Contextual Compression은 긴 텍스트에서 핵심 정보만 추출해 압축(요약)한 뒤 검색 효율을 높이는 기법입니다. 예를 들어, 긴 문서를 PEGASUS 기반 한국어 요약 모델로 요약한 뒤, 압축된 요약문을 임베딩해 검색하면 문서 길이가 길어도 핵심 검색 품질을 유지할 수 있습니다. 압축 전후 검색 성능 차이를 평가할 때 Precision@k, Recall@k, nDCG@k 지표를 사용합니다.'),\n",
       " Document(metadata={'doc_id': 'D29', 'author': '신동엽', 'category': ['기술', 'AI', '검색']}, page_content='Self-Query Retriever는 문서 메타데이터(제목·요약·키워드)를 분석해, 사용자가 실제로 검색할 만한 쿼리를 GPT-4o-mini 등 생성형 모델로 생성한 뒤, 생성된 가상 쿼리를 다시 검색에 활용하는 기법입니다. 이 과정을 통해 사용자가 입력한 실제 질의보다 검색 품질을 높이는 효과를 얻을 수 있으며, 생성된 쿼리는 ‘Self-Query’라고 불립니다.'),\n",
       " Document(metadata={'doc_id': 'D30', 'author': '윤아름', 'category': ['기술', 'AI', '검색']}, page_content='Multi-Hop Retrieval은 한 단계의 검색으로 해결되지 않는 복합 질문에 대응하기 위해, 여러 단계(홉)로 나눠서 검색을 수행하는 기법입니다. 예를 들어, “세종대왕이 훈민정음을 만든 이유를 바탕으로 AI 윤리 가이드라인 사례를 찾고 싶다”는 질문에서, 1단계로 ‘세종대왕 훈민정음 배경’(→D4 자료), 2단계로 ‘AI 윤리 가이드라인 사례’(→D7 또는 D25)로 연결해 답을 도출합니다. 단계별 결과를 종합해 최종 순위를 매깁니다.')]"
      ]
     },
     "execution_count": 20,
     "metadata": {},
     "output_type": "execute_result"
    }
   ],
   "source": [
    "docs_to_upsert"
   ]
  },
  {
   "cell_type": "code",
   "execution_count": 21,
   "id": "29c443e7",
   "metadata": {},
   "outputs": [
    {
     "name": "stdout",
     "output_type": "stream",
     "text": [
      "문서 업서트 완료 — Pinecone 인덱스에 저장됨\n"
     ]
    }
   ],
   "source": [
    "# 벡터 스토어에 다중 메타데이터 문서 업서트\n",
    "vector_store.add_documents(docs_to_upsert)\n",
    "print(\"문서 업서트 완료 — Pinecone 인덱스에 저장됨\")"
   ]
  },
  {
   "cell_type": "code",
   "execution_count": 22,
   "id": "acab8f31",
   "metadata": {},
   "outputs": [
    {
     "name": "stdout",
     "output_type": "stream",
     "text": [
      "필터링된 검색 결과 (category='역사') — 상위 5개 문서 ID:\n",
      "D4 ['역사', '교육']\n",
      "D4 ['역사', '교육']\n",
      "D15 ['문화', '음악', '역사']\n",
      "D15 ['문화', '음악', '역사']\n",
      "D9 ['문화', '음악', '역사']\n"
     ]
    }
   ],
   "source": [
    "from langchain.schema import Document\n",
    "\n",
    "# 메타데이터 필터 예시: category에 '역사'가 포함된 문서만 검색\n",
    "query = \"훈민정음\"\n",
    "results = vector_store.similarity_search(\n",
    "    query,\n",
    "    k=5,\n",
    "    filter={'category': {'$in': ['역사']}}\n",
    ")\n",
    "print(\"필터링된 검색 결과 (category='역사') — 상위 5개 문서 ID:\")\n",
    "for doc in results:\n",
    "    print(doc.metadata['doc_id'], doc.metadata['category'])"
   ]
  },
  {
   "cell_type": "code",
   "execution_count": null,
   "id": "9f2515f0",
   "metadata": {},
   "outputs": [],
   "source": []
  }
 ],
 "metadata": {
  "kernelspec": {
   "display_name": "Python 3",
   "language": "python",
   "name": "python3"
  },
  "language_info": {
   "codemirror_mode": {
    "name": "ipython",
    "version": 3
   },
   "file_extension": ".py",
   "mimetype": "text/x-python",
   "name": "python",
   "nbconvert_exporter": "python",
   "pygments_lexer": "ipython3",
   "version": "3.11.11"
  }
 },
 "nbformat": 4,
 "nbformat_minor": 5
}
