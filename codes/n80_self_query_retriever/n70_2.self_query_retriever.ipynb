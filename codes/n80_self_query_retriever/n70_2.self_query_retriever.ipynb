{
 "cells": [
  {
   "cell_type": "code",
   "execution_count": null,
   "id": "24bc53cc",
   "metadata": {},
   "outputs": [],
   "source": [
    "# %pip install python-dotenv pandas pinecone langchain langchain-openai langchain-pinecone scikit-learn matplotlib\n"
   ]
  },
  {
   "cell_type": "code",
   "execution_count": 2,
   "id": "babebe4e",
   "metadata": {},
   "outputs": [
    {
     "name": "stdout",
     "output_type": "stream",
     "text": [
      "환경 변수 로딩 완료 : ir-embeddings, us-east-1, aws\n"
     ]
    }
   ],
   "source": [
    "import os\n",
    "from dotenv import load_dotenv\n",
    "\n",
    "load_dotenv()\n",
    "\n",
    "OPENAI_API_KEY = os.getenv(\"OPENAI_API_KEY\")\n",
    "OPENAI_LLM_MODEL = os.getenv(\"OPENAI_LLM_MODEL\")  # 'gpt-4o-mini'\n",
    "OPENAI_EMBEDDING_MODEL = os.getenv(\"OPENAI_EMBEDDING_MODEL\")\n",
    "PINECONE_API_KEY = os.getenv(\"PINECONE_API_KEY\")\n",
    "PINECONE_INDEX_REGION = os.getenv(\"PINECONE_INDEX_REGION\")\n",
    "PINECONE_INDEX_CLOUD = os.getenv(\"PINECONE_INDEX_CLOUD\")\n",
    "PINECONE_INDEX_NAME = os.getenv(\"PINECONE_INDEX_NAME\")  # 'ir'\n",
    "PINECONE_INDEX_METRIC = os.getenv(\"PINECONE_INDEX_METRIC\")\n",
    "PINECONE_INDEX_DIMENSION = int(os.getenv(\"PINECONE_INDEX_DIMENSION\"))\n",
    "\n",
    "# 압축 인덱스 이름\n",
    "COMPRESSED_INDEX_NAME = f\"{PINECONE_INDEX_NAME}-compressed\"\n",
    "\n",
    "print(f\"환경 변수 로딩 완료 : {PINECONE_INDEX_NAME}, {PINECONE_INDEX_REGION}, {PINECONE_INDEX_CLOUD}\")"
   ]
  },
  {
   "cell_type": "code",
   "execution_count": 3,
   "id": "c1e8b632",
   "metadata": {},
   "outputs": [
    {
     "name": "stdout",
     "output_type": "stream",
     "text": [
      "질의 수: 30\n"
     ]
    },
    {
     "data": {
      "text/html": [
       "<div>\n",
       "<style scoped>\n",
       "    .dataframe tbody tr th:only-of-type {\n",
       "        vertical-align: middle;\n",
       "    }\n",
       "\n",
       "    .dataframe tbody tr th {\n",
       "        vertical-align: top;\n",
       "    }\n",
       "\n",
       "    .dataframe thead th {\n",
       "        text-align: right;\n",
       "    }\n",
       "</style>\n",
       "<table border=\"1\" class=\"dataframe\">\n",
       "  <thead>\n",
       "    <tr style=\"text-align: right;\">\n",
       "      <th></th>\n",
       "      <th>query_id</th>\n",
       "      <th>query_text</th>\n",
       "      <th>relevant_doc_ids</th>\n",
       "    </tr>\n",
       "  </thead>\n",
       "  <tbody>\n",
       "    <tr>\n",
       "      <th>0</th>\n",
       "      <td>Q01</td>\n",
       "      <td>저자 김민수의 문서를 모두 보여줘</td>\n",
       "      <td>D1=1;D11=1;D21=1</td>\n",
       "    </tr>\n",
       "    <tr>\n",
       "      <th>1</th>\n",
       "      <td>Q02</td>\n",
       "      <td>저자 이영희의 문서를 모두 보여줘</td>\n",
       "      <td>D2=1;D12=1;D22=1</td>\n",
       "    </tr>\n",
       "    <tr>\n",
       "      <th>2</th>\n",
       "      <td>Q03</td>\n",
       "      <td>저자 박지훈의 문서를 모두 보여줘</td>\n",
       "      <td>D3=1;D13=1;D23=1</td>\n",
       "    </tr>\n",
       "    <tr>\n",
       "      <th>3</th>\n",
       "      <td>Q04</td>\n",
       "      <td>저자 최수정의 문서를 모두 보여줘</td>\n",
       "      <td>D4=1;D14=1;D24=1</td>\n",
       "    </tr>\n",
       "    <tr>\n",
       "      <th>4</th>\n",
       "      <td>Q05</td>\n",
       "      <td>저자 정우성의 문서를 모두 보여줘</td>\n",
       "      <td>D5=1;D15=1;D25=1</td>\n",
       "    </tr>\n",
       "  </tbody>\n",
       "</table>\n",
       "</div>"
      ],
      "text/plain": [
       "  query_id          query_text  relevant_doc_ids\n",
       "0      Q01  저자 김민수의 문서를 모두 보여줘  D1=1;D11=1;D21=1\n",
       "1      Q02  저자 이영희의 문서를 모두 보여줘  D2=1;D12=1;D22=1\n",
       "2      Q03  저자 박지훈의 문서를 모두 보여줘  D3=1;D13=1;D23=1\n",
       "3      Q04  저자 최수정의 문서를 모두 보여줘  D4=1;D14=1;D24=1\n",
       "4      Q05  저자 정우성의 문서를 모두 보여줘  D5=1;D15=1;D25=1"
      ]
     },
     "execution_count": 3,
     "metadata": {},
     "output_type": "execute_result"
    }
   ],
   "source": [
    "import pandas as pd\n",
    "\n",
    "# queries_meta.csv 로드\n",
    "queries_df = pd.read_csv(\"../../datas/queries_meta.csv\")\n",
    "print(f\"질의 수: {len(queries_df)}\")\n",
    "queries_df.head()"
   ]
  },
  {
   "cell_type": "code",
   "execution_count": 4,
   "id": "120ba525",
   "metadata": {},
   "outputs": [
    {
     "name": "stderr",
     "output_type": "stream",
     "text": [
      "/usr/local/lib/python3.11/site-packages/tqdm/auto.py:21: TqdmWarning: IProgress not found. Please update jupyter and ipywidgets. See https://ipywidgets.readthedocs.io/en/stable/user_install.html\n",
      "  from .autonotebook import tqdm as notebook_tqdm\n"
     ]
    },
    {
     "name": "stdout",
     "output_type": "stream",
     "text": [
      "Pinecone 및 벡터 스토어 준비 완료\n"
     ]
    }
   ],
   "source": [
    "from pinecone import Pinecone, ServerlessSpec\n",
    "from langchain_openai import OpenAIEmbeddings\n",
    "from langchain_pinecone import PineconeVectorStore\n",
    "\n",
    "# Pinecone 클라이언트 연결\n",
    "pc = Pinecone(api_key=PINECONE_API_KEY)\n",
    "\n",
    "# 인덱스가 없으면 생성\n",
    "PINECONE_INDEX_NAME = \"ir-embeddings-meta\"\n",
    "if PINECONE_INDEX_NAME not in pc.list_indexes().names():\n",
    "    pc.create_index(\n",
    "        name=PINECONE_INDEX_NAME,\n",
    "        dimension=PINECONE_INDEX_DIMENSION,\n",
    "        metric=PINECONE_INDEX_METRIC,\n",
    "        spec=ServerlessSpec(region=PINECONE_INDEX_REGION, cloud=PINECONE_INDEX_CLOUD)\n",
    "    )\n",
    "index = pc.Index(PINECONE_INDEX_NAME)\n",
    "\n",
    "# 임베딩 모델 생성\n",
    "embedding_model = OpenAIEmbeddings(model=OPENAI_EMBEDDING_MODEL, openai_api_key=os.getenv(\"OPENAI_API_KEY\"))\n",
    "# Pinecone 벡터 스토어 설정\n",
    "vector_store = PineconeVectorStore(index_name=PINECONE_INDEX_NAME, embedding=embedding_model)\n",
    "\n",
    "print(\"Pinecone 및 벡터 스토어 준비 완료\")"
   ]
  },
  {
   "cell_type": "code",
   "execution_count": 5,
   "id": "9f2515f0",
   "metadata": {},
   "outputs": [
    {
     "name": "stdout",
     "output_type": "stream",
     "text": [
      "Self-Query Retriever 구성 완료\n"
     ]
    }
   ],
   "source": [
    "from langchain_openai import ChatOpenAI\n",
    "from langchain.retrievers.self_query.base import SelfQueryRetriever\n",
    "from langchain.chains.query_constructor.schema import AttributeInfo\n",
    "\n",
    "# ChatOpenAI 인스턴스 생성 (LLM: OpenAI Chat 모델 사용)\n",
    "chat_model = ChatOpenAI(\n",
    "    model_name=OPENAI_LLM_MODEL,\n",
    "    openai_api_key=OPENAI_API_KEY,\n",
    "    temperature=0.0\n",
    ")\n",
    "\n",
    "# 메타데이터 필드 정보 설정\n",
    "metadata_field_info = [\n",
    "    AttributeInfo(name='author', type='string', description='문서를 작성한 저자 이름'),\n",
    "    AttributeInfo(name='category', type='list[string]', description='문서의 분류 리스트'),\n",
    "    AttributeInfo(name='text', type='string', description='문서 본문 요약 또는 대표 텍스트')\n",
    "]\n",
    "\n",
    "# SelfQueryRetriever 생성 (LLM을 통해 질의 분석 및 벡터스토어 검색)\n",
    "self_query_retriever = SelfQueryRetriever.from_llm(\n",
    "    llm=chat_model,\n",
    "    vectorstore=vector_store,\n",
    "    document_contents=\"\",          # 문서 내용 필드 (여기서는 생략 또는 기본값 사용)\n",
    "    metadata_field_info=metadata_field_info,\n",
    "    verbose=True\n",
    ")\n",
    "\n",
    "print(\"Self-Query Retriever 구성 완료\")"
   ]
  },
  {
   "cell_type": "code",
   "execution_count": 6,
   "id": "6667a636",
   "metadata": {},
   "outputs": [],
   "source": [
    "import numpy as np\n",
    "\n",
    "def parse_relevant(relevant_str):\n",
    "    pairs = relevant_str.split(';')\n",
    "    rel_dict = {}\n",
    "    for pair in pairs:\n",
    "        doc_id, grade = pair.split('=')\n",
    "        rel_dict[doc_id] = int(grade)\n",
    "    return rel_dict\n",
    "\n",
    "def compute_metrics(predicted, relevant_dict, k=5):\n",
    "    # Precision@k: 상위 k개 예측 중 정답 수 (hits) / k\n",
    "    hits = sum(1 for doc in predicted[:k] if doc in relevant_dict)\n",
    "    precision = hits / k\n",
    "    # Recall@k: 정답 중 상위 k에 들어온 비율\n",
    "    total_relevant = len(relevant_dict)\n",
    "    recall = hits / total_relevant if total_relevant > 0 else 0\n",
    "    # Reciprocal Rank: 첫 번째로 맞힌 정답의 역순위\n",
    "    rr = 0\n",
    "    for idx, doc in enumerate(predicted):\n",
    "        if doc in relevant_dict:\n",
    "            rr = 1 / (idx + 1)  # (idx는 0부터 시작하므로 +1이 실제 순위)\n",
    "            break\n",
    "    # Average Precision: 정답을 찾을 때마다의 precision의 평균\n",
    "    num_correct = 0\n",
    "    precisions = []\n",
    "    for i, doc in enumerate(predicted[:k]):\n",
    "        if doc in relevant_dict:\n",
    "            num_correct += 1\n",
    "            precisions.append(num_correct / (i + 1))\n",
    "    ap = np.mean(precisions) if precisions else 0\n",
    "    return precision, recall, rr, ap\n",
    "\n",
    "def evaluate_all(results_dict, queries_df, k=5):\n",
    "    prec_list, rec_list, rr_list, ap_list = [], [], [], []\n",
    "    for idx, row in queries_df.iterrows():\n",
    "        qid = row['query_id']\n",
    "        relevant = parse_relevant(row['relevant_doc_ids'])\n",
    "        predicted = results_dict[qid]\n",
    "        p, r, rr, ap = compute_metrics(predicted, relevant, k)\n",
    "        prec_list.append(p)\n",
    "        rec_list.append(r)\n",
    "        rr_list.append(rr)\n",
    "        ap_list.append(ap)\n",
    "    return {\n",
    "        'P@5': np.mean(prec_list),\n",
    "        'R@5': np.mean(rec_list),\n",
    "        'MRR': np.mean(rr_list),\n",
    "        'MAP': np.mean(ap_list)\n",
    "    }"
   ]
  },
  {
   "cell_type": "code",
   "execution_count": 7,
   "id": "d1def05a",
   "metadata": {},
   "outputs": [
    {
     "data": {
      "text/plain": [
       "[Document(id='b0887060-84d6-4d28-b1c6-211b230845c4', metadata={'author': '이영희', 'category': ['기술', '프로그래밍', '소프트웨어 개발'], 'doc_id': 'D22'}, page_content='싱글톤(Singleton) 패턴은 클래스의 인스턴스를 한 개만 생성하도록 보장하며, 전역 접근 지점을 제공하는 디자인 패턴입니다. Java 예제에서 `private static` 인스턴스 변수와 `getInstance()` 메서드를 사용해 단일 인스턴스를 반환합니다. 멀티스레드 환경에서는 `synchronized` 블록 또는 `volatile` 키워드를 활용해 안전을 보장해야 합니다.'),\n",
       " Document(id='807a33e2-341f-4cd1-903d-e2971fc3284a', metadata={'author': '이영희', 'category': ['기술', '프로그래밍', '소프트웨어 개발'], 'doc_id': 'D22'}, page_content='싱글톤(Singleton) 패턴은 클래스의 인스턴스를 한 개만 생성하도록 보장하며, 전역 접근 지점을 제공하는 디자인 패턴입니다. Java 예제에서 `private static` 인스턴스 변수와 `getInstance()` 메서드를 사용해 단일 인스턴스를 반환합니다. 멀티스레드 환경에서는 `synchronized` 블록 또는 `volatile` 키워드를 활용해 안전을 보장해야 합니다.'),\n",
       " Document(id='7767e82e-7a56-43dd-9767-e1f5939ad21e', metadata={'author': '이영희', 'category': ['여행', '레저'], 'doc_id': 'D12'}, page_content='서울 근교에서 당일치기로 다녀올 만한 여행지로는 가평 쁘띠프랑스, 남양주 수종사, 양평 두물머리, 용인 에버랜드 등이 있습니다. 기차·버스 노선이 잘 발달되어 있어 대중교통으로 이동이 편리하며, 차가 있다면 경춘고속도로를 이용해 접근성이 좋습니다. 사전 관광 예약 앱(예: 야놀자, 쿠팡트래블)에서도 할인 혜택을 확인할 수 있습니다.'),\n",
       " Document(id='a163e17f-ea09-4f96-aaab-fce88717beef', metadata={'author': '이영희', 'category': ['여행', '레저'], 'doc_id': 'D12'}, page_content='서울 근교에서 당일치기로 다녀올 만한 여행지로는 가평 쁘띠프랑스, 남양주 수종사, 양평 두물머리, 용인 에버랜드 등이 있습니다. 기차·버스 노선이 잘 발달되어 있어 대중교통으로 이동이 편리하며, 차가 있다면 경춘고속도로를 이용해 접근성이 좋습니다. 사전 관광 예약 앱(예: 야놀자, 쿠팡트래블)에서도 할인 혜택을 확인할 수 있습니다.')]"
      ]
     },
     "execution_count": 7,
     "metadata": {},
     "output_type": "execute_result"
    }
   ],
   "source": [
    "self_query_retriever.invoke('저자 이영희의 문서를 모두 보여줘')"
   ]
  },
  {
   "cell_type": "code",
   "execution_count": null,
   "id": "0b8e348c",
   "metadata": {},
   "outputs": [],
   "source": [
    "dense_results = {}\n",
    "selfquery_results = {}\n",
    "\n",
    "for idx, row in queries_df.iterrows():\n",
    "    qid = row['query_id']\n",
    "    query_text = row['query_text']\n",
    "    # 1) Dense Retrieval: 임베딩 유사도 검색\n",
    "    docs_dense = vector_store.similarity_search(query_text, k=5)\n",
    "    dense_results[qid] = [doc.metadata['doc_id'] for doc in docs_dense]\n",
    "    # 2) Self-Query Retriever: LLM 기반 검색\n",
    "    docs_self = self_query_retriever.invoke(query_text)\n",
    "    selfquery_results[qid] = [doc.metadata['doc_id'] for doc in docs_self[:5]]\n",
    "\n",
    "print(\"검색 결과 수집 완료\")"
   ]
  },
  {
   "cell_type": "code",
   "execution_count": null,
   "id": "0a3efbd5",
   "metadata": {},
   "outputs": [],
   "source": [
    "import pandas as pd\n",
    "\n",
    "dense_metrics = evaluate_all(dense_results, queries_df, k=5)\n",
    "selfquery_metrics = evaluate_all(selfquery_results, queries_df, k=5)\n",
    "\n",
    "df_metrics = pd.DataFrame({\n",
    "    'Metric': ['P@5', 'R@5', 'MRR', 'MAP'],\n",
    "    'Dense': [dense_metrics['P@5'], dense_metrics['R@5'], dense_metrics['MRR'], dense_metrics['MAP']],\n",
    "    'SelfQuery': [selfquery_metrics['P@5'], selfquery_metrics['R@5'], selfquery_metrics['MRR'], selfquery_metrics['MAP']]\n",
    "})\n",
    "df_metrics"
   ]
  },
  {
   "cell_type": "code",
   "execution_count": null,
   "id": "988a9a36",
   "metadata": {},
   "outputs": [],
   "source": []
  }
 ],
 "metadata": {
  "kernelspec": {
   "display_name": "Python 3",
   "language": "python",
   "name": "python3"
  },
  "language_info": {
   "codemirror_mode": {
    "name": "ipython",
    "version": 3
   },
   "file_extension": ".py",
   "mimetype": "text/x-python",
   "name": "python",
   "nbconvert_exporter": "python",
   "pygments_lexer": "ipython3",
   "version": "3.11.11"
  }
 },
 "nbformat": 4,
 "nbformat_minor": 5
}
