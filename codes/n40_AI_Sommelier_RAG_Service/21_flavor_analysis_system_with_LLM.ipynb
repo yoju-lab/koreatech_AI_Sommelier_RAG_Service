{
 "cells": [
  {
   "cell_type": "code",
   "execution_count": 16,
   "id": "58126c63",
   "metadata": {},
   "outputs": [
    {
     "data": {
      "text/plain": [
       "True"
      ]
     },
     "execution_count": 16,
     "metadata": {},
     "output_type": "execute_result"
    }
   ],
   "source": [
    "from dotenv import load_dotenv\n",
    "\n",
    "load_dotenv()"
   ]
  },
  {
   "cell_type": "code",
   "execution_count": 17,
   "id": "618789a5",
   "metadata": {},
   "outputs": [],
   "source": [
    "import os\n",
    "\n",
    "OPENAI_API_KEY = os.getenv(\"OPENAI_API_KEY\")\n",
    "OPENAI_LLM_MODEL = os.getenv(\"OPENAI_LLM_MODEL\")\n",
    "OPENAI_EMBEDDING_MODEL = os.getenv(\"OPENAI_EMBEDDING_MODEL\")\n",
    "PINECONE_API_KEY = os.getenv(\"PINECONE_API_KEY\")\n",
    "PINECONE_ENVIRONMENT = os.getenv(\"PINECONE_ENVIRONMENT\")\n",
    "PINECONE_INDEX_REGION = os.getenv(\"PINECONE_INDEX_REGION\")\n",
    "PINECONE_INDEX_CLOUD = os.getenv(\"PINECONE_INDEX_CLOUD\")\n",
    "PINECONE_INDEX_NAME = os.getenv(\"PINECONE_INDEX_NAME\")\n",
    "PINECONE_INDEX_METRIC = os.getenv(\"PINECONE_INDEX_METRIC\")\n",
    "PINECONE_INDEX_DIMENSION = int(os.getenv(\"PINECONE_INDEX_DIMENSION\"))\n"
   ]
  },
  {
   "cell_type": "code",
   "execution_count": 18,
   "id": "481d3bcb",
   "metadata": {},
   "outputs": [],
   "source": [
    "from langchain_openai import ChatOpenAI\n",
    "from langchain_openai import OpenAIEmbeddings\n",
    "from langchain_pinecone import PineconeVectorStore\n",
    "\n",
    "llm = ChatOpenAI(model=OPENAI_LLM_MODEL, temperature=0.2, openai_api_key=OPENAI_API_KEY)\n",
    "embeddings = OpenAIEmbeddings(model=OPENAI_EMBEDDING_MODEL, openai_api_key=OPENAI_API_KEY)\n",
    "vector_store = PineconeVectorStore(\n",
    "    index_name=PINECONE_INDEX_NAME,\n",
    "    embedding=embeddings,\n",
    "    pinecone_api_key=PINECONE_API_KEY\n",
    ")"
   ]
  },
  {
   "cell_type": "code",
   "execution_count": 19,
   "id": "ae9b4914",
   "metadata": {},
   "outputs": [],
   "source": [
    "from langchain_core.prompts import ChatPromptTemplate, HumanMessagePromptTemplate\n",
    "from langchain_core.output_parsers import StrOutputParser\n",
    "\n",
    "def recommand_dishs(query):\n",
    "    prompt = ChatPromptTemplate.from_messages([\n",
    "        (\"system\", \"\"\"\n",
    "\n",
    "            Persona:\n",
    "\n",
    "            As a sommelier, I possess an extensive knowledge of wines, including grape varieties, regions, tasting notes, and food pairings. I am highly skilled in recommending wines based on individual preferences, specific occasions, and particular dishes. My expertise includes understanding wine production methods, flavor profiles, and how they interact with different foods. I also stay updated on the latest trends in the wine world and am capable of suggesting wines that are both traditional and adventurous. I strive to provide personalized, thoughtful recommendations to enhance the dining experience.\n",
    "\n",
    "            Role:\n",
    "\n",
    "            1. Wine & Food Pairing: I offer detailed wine recommendations that pair harmoniously with specific dishes, balancing flavors and enhancing the overall dining experience. Whether it's a simple snack or an elaborate meal, I suggest wines that complement the texture, taste, and style of the food.\n",
    "            2. Wine Selection Guidance: For various occasions (celebrations, formal dinners, casual gatherings), I assist in selecting wines that suit the event and align with the preferences of the individuals involved.\n",
    "            3. Wine Tasting Expertise: I can help identify wines based on tasting notes like acidity, tannin levels, sweetness, and body, providing insights into what makes a wine unique.\n",
    "            4. Explaining Wine Terminology: I simplify complex wine terminology, making it easy for everyone to understand grape varieties, regions, and tasting profiles.\n",
    "            5. Educational Role: I inform and educate about different wine regions, production techniques, and wine styles, fostering an appreciation for the diversity of wines available.\n",
    "\n",
    "            Examples:\n",
    "\n",
    "            - Wine Pairing Example (Dish First):\n",
    "            For a grilled butter garlic shrimp dish, I would recommend a Sauvignon Blanc or a Chardonnay with crisp acidity to cut through the richness of the butter and enhance the seafood’s flavors.\n",
    "\n",
    "            - Wine Pairing Example (Wine First):  \n",
    "            If you're enjoying a Cabernet Sauvignon, its bold tannins and dark fruit flavors pair wonderfully with grilled steak or lamb. The richness of the meat complements the intensity of the wine.\n",
    "\n",
    "            - Wine Pairing Example (Wine First):\n",
    "            A Pinot Noir, known for its lighter body and subtle flavors of red berries, is perfect alongside roasted duck or mushroom risotto, as its earthy notes complement the dishes.\n",
    "\n",
    "            - Occasion-Based Selection:\n",
    "            If you are celebrating a romantic anniversary dinner, I would suggest a classic Champagne or an elegant Pinot Noir, perfect for a special and intimate evening.\n",
    "\n",
    "            - Guiding by Taste Preferences:\n",
    "            If you enjoy wines with bold flavors and intense tannins, a Cabernet Sauvignon from Napa Valley would suit your palate perfectly. For something lighter and fruitier, a Riesling could be a delightful alternative, pairing well with spicy dishes or fresh salads.\n",
    "\n",
    "        \"\"\")\n",
    "    ])\n",
    "\n",
    "    template = [{\"text\": query[\"text\"]}]\n",
    "    if query[\"image_urls\"]:\n",
    "        template += [{\"image_url\": url} for url in query[\"image_urls\"]]\n",
    "\n",
    "    prompt += HumanMessagePromptTemplate.from_template(template)\n",
    "\n",
    "    chain = prompt | llm | StrOutputParser()\n",
    "    return chain.invoke({\"text\": query[\"text\"], \"image_urls\": query[\"image_urls\"]})"
   ]
  },
  {
   "cell_type": "code",
   "execution_count": 20,
   "id": "b11d5b3a",
   "metadata": {},
   "outputs": [
    {
     "name": "stdout",
     "output_type": "stream",
     "text": [
      "Chateau Musar는 레바논의 유명한 레드 와인으로, 복합적인 향과 풍부한 맛이 특징입니다. 이 와인에 어울리는 요리로는 다음을 추천합니다:\n",
      "\n",
      "1. **양고기 스튜**: 양고기의 풍미와 와인의 구조가 잘 어우러집니다.\n",
      "2. **그릴에 구운 야채와 퀴노아 샐러드**: 채소의 자연스러운 단맛이 와인의 복합성과 조화를 이룹니다.\n",
      "3. **버섯 리조또**: 버섯의 깊은 맛이 와인의 향미를 더욱 강조해 줍니다.\n",
      "4. **스파이스가 가미된 소고기 요리**: 예를 들어, 인도식 커리나 바비큐 소고기와 잘 어울립니다.\n",
      "\n",
      "이 요리들은 Chateau Musar의 풍부한 맛과 향을 더욱 돋보이게 해 줄 것입니다.\n"
     ]
    }
   ],
   "source": [
    "response = recommand_dishs({\n",
    "    \"text\": \"이 와인에 어울리는 요리를 추천해줘\",\n",
    "    \"image_urls\": [\n",
    "        \"https://images.vivino.com/thumbs/pGBPuKapTwGBpeJmdq7uTw_pb_x600.png\"\n",
    "    ]\n",
    "})\n",
    "\n",
    "print(response)"
   ]
  },
  {
   "cell_type": "code",
   "execution_count": 21,
   "id": "fa1870a4",
   "metadata": {},
   "outputs": [],
   "source": [
    "def describe_dish_flavor(query):\n",
    "    prompt = ChatPromptTemplate.from_messages([\n",
    "        (\"system\", \"\"\"\n",
    "            Persona:\n",
    "            As a flavor analysis system, I am equipped with a deep understanding of food ingredients, cooking methods, and sensory properties such as taste, texture, and aroma. I can assess and break down the flavor profiles of dishes by identifying the dominant tastes (sweet, sour, salty, bitter, umami) as well as subtler elements like spice levels, richness, freshness, and aftertaste. I am able to compare different foods based on their ingredients and cooking techniques, while also considering cultural influences and typical pairings. My goal is to provide a detailed analysis of a dish’s flavor profile to help users better understand what makes it unique or to aid in choosing complementary foods and drinks.\n",
    "\n",
    "            Role:\n",
    "\n",
    "            1. Flavor Identification: I analyze the dominant and secondary flavors of a dish, highlighting key taste elements such as sweetness, acidity, bitterness, saltiness, umami, and the presence of spices or herbs.\n",
    "            2. Texture and Aroma Analysis: Beyond taste, I assess the mouthfeel and aroma of the dish, taking into account how texture (e.g., creamy, crunchy) and scents (e.g., smoky, floral) contribute to the overall experience.\n",
    "            3. Ingredient Breakdown: I evaluate the role each ingredient plays in the dish’s flavor, including their impact on the dish's balance, richness, or intensity.\n",
    "            4. Culinary Influence: I consider the cultural or regional influences that shape the dish, understanding how traditional cooking methods or unique ingredients affect the overall taste.\n",
    "            5. Food and Drink Pairing: Based on the dish's flavor profile, I suggest complementary food or drink pairings that enhance or balance the dish’s qualities.\n",
    "\n",
    "            Examples:\n",
    "\n",
    "            - Dish Flavor Breakdown:\n",
    "            For a butter garlic shrimp, I identify the richness from the butter, the pungent aroma of garlic, and the subtle sweetness of the shrimp. The dish balances richness with a touch of saltiness, and the soft, tender texture of the shrimp is complemented by the slight crispness from grilling.\n",
    "\n",
    "            - Texture and Aroma Analysis:\n",
    "            A creamy mushroom risotto has a smooth, velvety texture due to the creamy broth and butter. The earthy aroma from the mushrooms enhances the umami flavor, while a sprinkle of Parmesan adds a savory touch with a mild sharpness.\n",
    "\n",
    "            - Ingredient Role Assessment:\n",
    "            In a spicy Thai curry, the coconut milk provides a rich, creamy base, while the lemongrass and lime add freshness and citrus notes. The chilies bring the heat, and the balance between sweet, sour, and spicy elements creates a dynamic flavor profile.\n",
    "\n",
    "            - Cultural Influence:\n",
    "            A traditional Italian margherita pizza draws on the classic combination of fresh tomatoes, mozzarella, and basil. The simplicity of the ingredients allows the flavors to shine, with the tanginess of the tomato sauce balancing the richness of the cheese and the freshness of the basil.\n",
    "\n",
    "            - Food Pairing Example:\n",
    "            For a rich chocolate cake, I would recommend a sweet dessert wine like Port to complement the bitterness of the chocolate, or a light espresso to contrast the sweetness and enhance the richness of the dessert.\n",
    "\n",
    "        \"\"\")\n",
    "    ])\n",
    "\n",
    "    template = [{\"text\": query[\"text\"]}]\n",
    "    if query[\"image_urls\"]:\n",
    "        template += [{\"image_url\": url} for url in query[\"image_urls\"]]\n",
    "\n",
    "    prompt += HumanMessagePromptTemplate.from_template(template)\n",
    "\n",
    "    chain = prompt | llm | StrOutputParser()\n",
    "    return chain.invoke({\"text\": query[\"text\"], \"image_urls\": query[\"image_urls\"]})"
   ]
  },
  {
   "cell_type": "code",
   "execution_count": 22,
   "id": "acc73133",
   "metadata": {},
   "outputs": [
    {
     "name": "stdout",
     "output_type": "stream",
     "text": [
      "이 요리는 달콤하고 짭짤한 맛이 조화를 이루는 글레이즈드 연어가 부드러운 흰 쌀밥과 아삭한 채소와 함께 제공되어, 풍부한 향과 함께 식감의 다양성을 즐길 수 있는 한 접시입니다.\n"
     ]
    }
   ],
   "source": [
    "response = describe_dish_flavor({\n",
    "    \"text\": \"이 요리의 이름과 맛과 향과 같은 특징을 한 문장으로 설명해줘.\",\n",
    "    \"image_urls\": [\n",
    "        \"https://media01.stockfood.com/largepreviews/MzkyOTA0Mjky/12674332-Sweet-soy-salmon-with-rice-and-bok-choy-China.jpg\"\n",
    "    ]\n",
    "})\n",
    "\n",
    "print(response)"
   ]
  },
  {
   "cell_type": "code",
   "execution_count": 23,
   "id": "2f283cfc",
   "metadata": {},
   "outputs": [],
   "source": [
    "def search_wine(dish_flavor):\n",
    "    results = vector_store.similarity_search(\n",
    "        dish_flavor,\n",
    "        k=2\n",
    "    )\n",
    "\n",
    "    return {\n",
    "        \"dish_flavor\": dish_flavor,\n",
    "        \"wine_reviews\": \"\\n\\n\".join([doc.page_content for doc in results])\n",
    "    }"
   ]
  },
  {
   "cell_type": "code",
   "execution_count": 24,
   "id": "4370789c",
   "metadata": {},
   "outputs": [
    {
     "name": "stdout",
     "output_type": "stream",
     "text": [
      "달콤한 맛을 가진 와인\n",
      ": 11089\n",
      "country: US\n",
      "description: Ripe hay, vanilla, and apricot mark the nose; deep orange flavors with cinnamon spice notes and a very smooth mouthfeel are the already promising attributes of this infant. All the right elements are there, and in good balance. Best cellared for three to five years.\n",
      "designation: \n",
      "points: 93\n",
      "price: 75.0\n",
      "province: California\n",
      "region_1: Napa Valley\n",
      "region_2: Napa\n",
      "taster_name: \n",
      "taster_twitter_handle: \n",
      "title: Dolce 1998 White (Napa Valley)\n",
      "variety: White Blend\n",
      "winery: Dolce\n",
      "\n",
      ": 6319\n",
      "country: US\n",
      "description: Aromas of candy corn, spice and almond butter are followed by full-bodied, tropical-fruit flavors that show a pleasing sense of richness and intensity. It's a delicious example of the variety, with a lingering finish.\n",
      "designation: Barrel Fermented\n",
      "points: 91\n",
      "price: 25.0\n",
      "province: Washington\n",
      "region_1: Columbia Valley (WA)\n",
      "region_2: Columbia Valley\n",
      "taster_name: Sean P. Sullivan\n",
      "taster_twitter_handle: @wawinereport\n",
      "title: Ashan 2016 Barrel Fermented Chardonnay (Columbia Valley (WA))\n",
      "variety: Chardonnay\n",
      "winery: Ashan\n"
     ]
    }
   ],
   "source": [
    "from langchain_core.runnables import RunnableLambda\n",
    "\n",
    "runnable = RunnableLambda(search_wine)\n",
    "response = runnable.invoke(\"달콤한 맛을 가진 와인\")\n",
    "\n",
    "print(response[\"dish_flavor\"])\n",
    "print(response[\"wine_reviews\"])"
   ]
  },
  {
   "cell_type": "code",
   "execution_count": 25,
   "id": "42c3e9e3",
   "metadata": {},
   "outputs": [
    {
     "name": "stdout",
     "output_type": "stream",
     "text": [
      "이 요리는 달콤하고 짭짤한 맛이 조화를 이루는 글레이즈드 연어와 부드러운 밥, 아삭한 채소가 어우러져 풍부한 풍미와 신선한 향을 제공합니다. \n",
      "\n",
      ": 10639\n",
      "country: Israel\n",
      "description: Delicate aromas of toasted egg bread, baked apple and orange rind dance in the bouquet, while the brisk and effervescent mouth shows more red apple-skin flavor alongside acidic notes of pineapple core and lime zest. Balanced and refreshing.\n",
      "designation: Yarden Blanc de Blancs Brut\n",
      "points: 87\n",
      "price: 25.0\n",
      "province: Galilee\n",
      "region_1: \n",
      "region_2: \n",
      "taster_name: Lauren Buzzeo\n",
      "taster_twitter_handle: @laurbuzz\n",
      "title: Golan Heights Winery 2005 Yarden Blanc de Blancs Brut Chardonnay (Galilee)\n",
      "variety: Chardonnay\n",
      "winery: Golan Heights Winery\n",
      "\n",
      ": 265\n",
      "country: South Africa\n",
      "description: Fairly intense and flavorful, this Chard expresses assertive aromas and flavors of wood-grilled peaches, buttercream frosting, lemon custard and toasted brioche. Medium weight in the mouth with good balance and a touch of baking spice on the close.\n",
      "designation: Nine Yards\n",
      "points: 89\n",
      "price: 40.0\n",
      "province: Stellenbosch\n",
      "region_1: \n",
      "region_2: \n",
      "taster_name: Lauren Buzzeo\n",
      "taster_twitter_handle: @laurbuzz\n",
      "title: Jardin 2009 Nine Yards Chardonnay (Stellenbosch)\n",
      "variety: Chardonnay\n",
      "winery: Jardin\n"
     ]
    }
   ],
   "source": [
    "runnable1 = RunnableLambda(describe_dish_flavor)\n",
    "runnable2 = RunnableLambda(search_wine)\n",
    "\n",
    "chain = runnable1 | runnable2\n",
    "\n",
    "response = chain.invoke({\n",
    "    \"text\": \"이 요리의 이름과 맛과 향과 같은 특징을 한 문장으로 설명해줘.\",\n",
    "    \"image_urls\": [\n",
    "        \"https://media01.stockfood.com/largepreviews/MzkyOTA0Mjky/12674332-Sweet-soy-salmon-with-rice-and-bok-choy-China.jpg\"\n",
    "    ]\n",
    "})  \n",
    "\n",
    "print(response[\"dish_flavor\"], \"\\n\")\n",
    "print(response[\"wine_reviews\"])"
   ]
  }
 ],
 "metadata": {
  "kernelspec": {
   "display_name": "langchain_part_2",
   "language": "python",
   "name": "python3"
  },
  "language_info": {
   "codemirror_mode": {
    "name": "ipython",
    "version": 3
   },
   "file_extension": ".py",
   "mimetype": "text/x-python",
   "name": "python",
   "nbconvert_exporter": "python",
   "pygments_lexer": "ipython3",
   "version": "3.12.10"
  }
 },
 "nbformat": 4,
 "nbformat_minor": 5
}
