{
 "cells": [
  {
   "cell_type": "code",
   "execution_count": null,
   "id": "58126c63",
   "metadata": {},
   "outputs": [],
   "source": [
    "from dotenv import load_dotenv\n",
    "\n",
    "load_dotenv()"
   ]
  },
  {
   "cell_type": "code",
   "execution_count": null,
   "id": "618789a5",
   "metadata": {},
   "outputs": [],
   "source": [
    "import os\n",
    "\n",
    "OPENAI_API_KEY = os.getenv(\"OPENAI_API_KEY\")\n",
    "OPENAI_LLM_MODEL = os.getenv(\"OPENAI_LLM_MODEL\")\n",
    "OPENAI_EMBEDDING_MODEL = os.getenv(\"OPENAI_EMBEDDING_MODEL\")\n",
    "PINECONE_API_KEY = os.getenv(\"PINECONE_API_KEY\")\n",
    "PINECONE_ENVIRONMENT = os.getenv(\"PINECONE_ENVIRONMENT\")\n",
    "PINECONE_INDEX_REGION = os.getenv(\"PINECONE_INDEX_REGION\")\n",
    "PINECONE_INDEX_CLOUD = os.getenv(\"PINECONE_INDEX_CLOUD\")\n",
    "PINECONE_INDEX_NAME = os.getenv(\"PINECONE_INDEX_NAME\")\n",
    "PINECONE_INDEX_METRIC = os.getenv(\"PINECONE_INDEX_METRIC\")\n",
    "PINECONE_INDEX_DIMENSION = int(os.getenv(\"PINECONE_INDEX_DIMENSION\"))\n"
   ]
  },
  {
   "cell_type": "code",
   "execution_count": null,
   "id": "481d3bcb",
   "metadata": {},
   "outputs": [],
   "source": [
    "from langchain_openai import ChatOpenAI\n",
    "from langchain_openai import OpenAIEmbeddings\n",
    "from langchain_pinecone import PineconeVectorStore\n",
    "\n",
    "llm = ChatOpenAI(model=OPENAI_LLM_MODEL, temperature=0.2, openai_api_key=OPENAI_API_KEY)\n",
    "embeddings = OpenAIEmbeddings(model=OPENAI_EMBEDDING_MODEL, openai_api_key=OPENAI_API_KEY)\n",
    "vector_store = PineconeVectorStore(\n",
    "    index_name=PINECONE_INDEX_NAME,\n",
    "    embedding=embeddings,\n",
    "    pinecone_api_key=PINECONE_API_KEY\n",
    ")"
   ]
  },
  {
   "cell_type": "code",
   "execution_count": null,
   "id": "91e3ce2f",
   "metadata": {},
   "outputs": [],
   "source": [
    "sommelier = f\"\"\"\n",
    "\n",
    "            Persona:\n",
    "\n",
    "            As a sommelier, I possess an extensive knowledge of wines, including grape varieties, regions, tasting notes, and food pairings. I am highly skilled in recommending wines based on individual preferences, specific occasions, and particular dishes. My expertise includes understanding wine production methods, flavor profiles, and how they interact with different foods. I also stay updated on the latest trends in the wine world and am capable of suggesting wines that are both traditional and adventurous. I strive to provide personalized, thoughtful recommendations to enhance the dining experience.\n",
    "\n",
    "            Role:\n",
    "\n",
    "            1. Wine & Food Pairing: I offer detailed wine recommendations that pair harmoniously with specific dishes, balancing flavors and enhancing the overall dining experience. Whether it's a simple snack or an elaborate meal, I suggest wines that complement the texture, taste, and style of the food.\n",
    "            2. Wine Selection Guidance: For various occasions (celebrations, formal dinners, casual gatherings), I assist in selecting wines that suit the event and align with the preferences of the individuals involved.\n",
    "            3. Wine Tasting Expertise: I can help identify wines based on tasting notes like acidity, tannin levels, sweetness, and body, providing insights into what makes a wine unique.\n",
    "            4. Explaining Wine Terminology: I simplify complex wine terminology, making it easy for everyone to understand grape varieties, regions, and tasting profiles.\n",
    "            5. Educational Role: I inform and educate about different wine regions, production techniques, and wine styles, fostering an appreciation for the diversity of wines available.\n",
    "\n",
    "            Examples:\n",
    "\n",
    "            - Wine Pairing Example (Dish First):\n",
    "            For a grilled butter garlic shrimp dish, I would recommend a Sauvignon Blanc or a Chardonnay with crisp acidity to cut through the richness of the butter and enhance the seafood’s flavors.\n",
    "\n",
    "            - Wine Pairing Example (Wine First):  \n",
    "            If you're enjoying a Cabernet Sauvignon, its bold tannins and dark fruit flavors pair wonderfully with grilled steak or lamb. The richness of the meat complements the intensity of the wine.\n",
    "\n",
    "            - Wine Pairing Example (Wine First):\n",
    "            A Pinot Noir, known for its lighter body and subtle flavors of red berries, is perfect alongside roasted duck or mushroom risotto, as its earthy notes complement the dishes.\n",
    "\n",
    "            - Occasion-Based Selection:\n",
    "            If you are celebrating a romantic anniversary dinner, I would suggest a classic Champagne or an elegant Pinot Noir, perfect for a special and intimate evening.\n",
    "\n",
    "            - Guiding by Taste Preferences:\n",
    "            If you enjoy wines with bold flavors and intense tannins, a Cabernet Sauvignon from Napa Valley would suit your palate perfectly. For something lighter and fruitier, a Riesling could be a delightful alternative, pairing well with spicy dishes or fresh salads.\n",
    "\n",
    "        \"\"\""
   ]
  },
  {
   "cell_type": "code",
   "execution_count": null,
   "id": "ae9b4914",
   "metadata": {},
   "outputs": [],
   "source": [
    "from langchain_core.prompts import ChatPromptTemplate, HumanMessagePromptTemplate\n",
    "from langchain_core.output_parsers import StrOutputParser\n",
    "\n",
    "def recommand_dishs(query):\n",
    "    prompt = ChatPromptTemplate.from_messages([\n",
    "        (\"system\", sommelier)\n",
    "    ])\n",
    "\n",
    "    template = [{\"text\": query[\"text\"]}]\n",
    "    if query[\"image_urls\"]:\n",
    "        template += [{\"image_url\": url} for url in query[\"image_urls\"]]\n",
    "\n",
    "    prompt += HumanMessagePromptTemplate.from_template(template)\n",
    "\n",
    "    chain = prompt | llm | StrOutputParser()\n",
    "    return chain.invoke({\"text\": query[\"text\"], \"image_urls\": query[\"image_urls\"]})"
   ]
  },
  {
   "cell_type": "code",
   "execution_count": null,
   "id": "b11d5b3a",
   "metadata": {},
   "outputs": [],
   "source": [
    "response = recommand_dishs({\n",
    "    \"text\": \"이 와인에 어울리는 요리를 추천해줘\",\n",
    "    \"image_urls\": [\n",
    "        \"https://images.vivino.com/thumbs/pGBPuKapTwGBpeJmdq7uTw_pb_x600.png\"\n",
    "    ]\n",
    "})\n",
    "\n",
    "print(response)"
   ]
  },
  {
   "cell_type": "code",
   "execution_count": null,
   "id": "acdf0ae2",
   "metadata": {},
   "outputs": [],
   "source": [
    "flavor_analysis = f\"\"\"\n",
    "            Persona:\n",
    "            As a flavor analysis system, I am equipped with a deep understanding of food ingredients, cooking methods, and sensory properties such as taste, texture, and aroma. I can assess and break down the flavor profiles of dishes by identifying the dominant tastes (sweet, sour, salty, bitter, umami) as well as subtler elements like spice levels, richness, freshness, and aftertaste. I am able to compare different foods based on their ingredients and cooking techniques, while also considering cultural influences and typical pairings. My goal is to provide a detailed analysis of a dish’s flavor profile to help users better understand what makes it unique or to aid in choosing complementary foods and drinks.\n",
    "\n",
    "            Role:\n",
    "\n",
    "            1. Flavor Identification: I analyze the dominant and secondary flavors of a dish, highlighting key taste elements such as sweetness, acidity, bitterness, saltiness, umami, and the presence of spices or herbs.\n",
    "            2. Texture and Aroma Analysis: Beyond taste, I assess the mouthfeel and aroma of the dish, taking into account how texture (e.g., creamy, crunchy) and scents (e.g., smoky, floral) contribute to the overall experience.\n",
    "            3. Ingredient Breakdown: I evaluate the role each ingredient plays in the dish’s flavor, including their impact on the dish's balance, richness, or intensity.\n",
    "            4. Culinary Influence: I consider the cultural or regional influences that shape the dish, understanding how traditional cooking methods or unique ingredients affect the overall taste.\n",
    "            5. Food and Drink Pairing: Based on the dish's flavor profile, I suggest complementary food or drink pairings that enhance or balance the dish’s qualities.\n",
    "\n",
    "            Examples:\n",
    "\n",
    "            - Dish Flavor Breakdown:\n",
    "            For a butter garlic shrimp, I identify the richness from the butter, the pungent aroma of garlic, and the subtle sweetness of the shrimp. The dish balances richness with a touch of saltiness, and the soft, tender texture of the shrimp is complemented by the slight crispness from grilling.\n",
    "\n",
    "            - Texture and Aroma Analysis:\n",
    "            A creamy mushroom risotto has a smooth, velvety texture due to the creamy broth and butter. The earthy aroma from the mushrooms enhances the umami flavor, while a sprinkle of Parmesan adds a savory touch with a mild sharpness.\n",
    "\n",
    "            - Ingredient Role Assessment:\n",
    "            In a spicy Thai curry, the coconut milk provides a rich, creamy base, while the lemongrass and lime add freshness and citrus notes. The chilies bring the heat, and the balance between sweet, sour, and spicy elements creates a dynamic flavor profile.\n",
    "\n",
    "            - Cultural Influence:\n",
    "            A traditional Italian margherita pizza draws on the classic combination of fresh tomatoes, mozzarella, and basil. The simplicity of the ingredients allows the flavors to shine, with the tanginess of the tomato sauce balancing the richness of the cheese and the freshness of the basil.\n",
    "\n",
    "            - Food Pairing Example:\n",
    "            For a rich chocolate cake, I would recommend a sweet dessert wine like Port to complement the bitterness of the chocolate, or a light espresso to contrast the sweetness and enhance the richness of the dessert.\n",
    "\n",
    "        \"\"\""
   ]
  },
  {
   "cell_type": "code",
   "execution_count": null,
   "id": "fa1870a4",
   "metadata": {},
   "outputs": [],
   "source": [
    "def describe_dish_flavor(query):\n",
    "    prompt = ChatPromptTemplate.from_messages([\n",
    "        (\"system\", flavor_analysis)\n",
    "    ])\n",
    "\n",
    "    template = [{\"text\": query[\"text\"]}]\n",
    "    if query[\"image_urls\"]:\n",
    "        template += [{\"image_url\": url} for url in query[\"image_urls\"]]\n",
    "\n",
    "    prompt += HumanMessagePromptTemplate.from_template(template)\n",
    "\n",
    "    chain = prompt | llm | StrOutputParser()\n",
    "    return chain.invoke({\"text\": query[\"text\"], \"image_urls\": query[\"image_urls\"]})"
   ]
  },
  {
   "cell_type": "code",
   "execution_count": null,
   "id": "acc73133",
   "metadata": {},
   "outputs": [],
   "source": [
    "response = describe_dish_flavor({\n",
    "    \"text\": \"이 요리의 이름과 맛과 향과 같은 특징을 한 문장으로 설명해줘.\",\n",
    "    \"image_urls\": [\n",
    "        \"https://media01.stockfood.com/largepreviews/MzkyOTA0Mjky/12674332-Sweet-soy-salmon-with-rice-and-bok-choy-China.jpg\"\n",
    "    ]\n",
    "})\n",
    "\n",
    "print(response)"
   ]
  },
  {
   "cell_type": "code",
   "execution_count": null,
   "id": "2f283cfc",
   "metadata": {},
   "outputs": [],
   "source": [
    "def search_wine(dish_flavor):\n",
    "    results = vector_store.similarity_search(\n",
    "        dish_flavor,\n",
    "        k=2\n",
    "    )\n",
    "\n",
    "    return {\n",
    "        \"dish_flavor\": dish_flavor,\n",
    "        \"wine_reviews\": \"\\n\\n\".join([doc.page_content for doc in results])\n",
    "    }"
   ]
  },
  {
   "cell_type": "code",
   "execution_count": null,
   "id": "4370789c",
   "metadata": {},
   "outputs": [],
   "source": [
    "from langchain_core.runnables import RunnableLambda\n",
    "\n",
    "runnable = RunnableLambda(search_wine)\n",
    "response = runnable.invoke(\"달콤한 맛을 가진 와인\")\n",
    "\n",
    "print(response[\"dish_flavor\"])\n",
    "print(response[\"wine_reviews\"])"
   ]
  },
  {
   "cell_type": "code",
   "execution_count": null,
   "id": "42c3e9e3",
   "metadata": {},
   "outputs": [],
   "source": [
    "runnable1 = RunnableLambda(describe_dish_flavor)\n",
    "runnable2 = RunnableLambda(search_wine)\n",
    "\n",
    "chain = runnable1 | runnable2\n",
    "\n",
    "response = chain.invoke({\n",
    "    \"text\": \"이 요리의 이름과 맛과 향과 같은 특징을 한 문장으로 설명해줘.\",\n",
    "    \"image_urls\": [\n",
    "        \"https://media01.stockfood.com/largepreviews/MzkyOTA0Mjky/12674332-Sweet-soy-salmon-with-rice-and-bok-choy-China.jpg\"\n",
    "    ]\n",
    "})  \n",
    "\n",
    "print(response[\"dish_flavor\"], \"\\n\")\n",
    "print(response[\"wine_reviews\"])"
   ]
  },
  {
   "cell_type": "code",
   "execution_count": null,
   "id": "fd358809",
   "metadata": {},
   "outputs": [],
   "source": [
    "def recommand_wine(query):\n",
    "    prompt = ChatPromptTemplate.from_messages([\n",
    "        (\"system\", sommelier), \n",
    "        (\"human\", \"\"\"\n",
    "            와인 페어링 추천에 아래 요리의 풍미와 완인 리뷰를 참조해 한글로 답변.\n",
    "            The dish flavor description is: {dish_flavor}\n",
    "         \n",
    "            The wine reviews are: {wine_reviews}\n",
    "        \"\"\")\n",
    "    ])\n",
    "    chain = prompt | llm | StrOutputParser()\n",
    "    return chain.invoke(query)"
   ]
  },
  {
   "cell_type": "code",
   "execution_count": null,
   "id": "db07cb7d",
   "metadata": {},
   "outputs": [],
   "source": [
    "runnable1 = RunnableLambda(describe_dish_flavor)\n",
    "runnable2 = RunnableLambda(search_wine)\n",
    "runnable3 = RunnableLambda(recommand_wine)\n",
    "chain = runnable1 | runnable2 | runnable3\n",
    "response = chain.invoke({\n",
    "    \"text\": \"이 요리의 이름과 맛과 향과 같은 특징을 한 문장으로 설명해줘.\",\n",
    "    \"image_urls\": [\n",
    "        # \"https://media01.stockfood.com/largepreviews/MzkyOTA0Mjky/12674332-Sweet-soy-salmon-with-rice-and-bok-choy-China.jpg\",\n",
    "        \"http://www.lampcook.com/wi_files/food_top100/top5/5_4.jpg\",\n",
    "    ]\n",
    "})\n",
    "print(response)"
   ]
  },
  {
   "cell_type": "code",
   "execution_count": null,
   "id": "dc559525",
   "metadata": {},
   "outputs": [],
   "source": []
  }
 ],
 "metadata": {
  "kernelspec": {
   "display_name": "Python 3",
   "language": "python",
   "name": "python3"
  },
  "language_info": {
   "codemirror_mode": {
    "name": "ipython",
    "version": 3
   },
   "file_extension": ".py",
   "mimetype": "text/x-python",
   "name": "python",
   "nbconvert_exporter": "python",
   "pygments_lexer": "ipython3",
   "version": "3.11.11"
  }
 },
 "nbformat": 4,
 "nbformat_minor": 5
}
