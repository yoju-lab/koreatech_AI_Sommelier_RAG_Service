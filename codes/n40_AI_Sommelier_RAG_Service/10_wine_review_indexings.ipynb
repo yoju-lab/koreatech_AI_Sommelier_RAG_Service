{
 "cells": [
  {
   "cell_type": "code",
   "execution_count": null,
   "id": "d10bae09",
   "metadata": {},
   "outputs": [],
   "source": [
    "from dotenv import load_dotenv\n",
    "\n",
    "load_dotenv()"
   ]
  },
  {
   "cell_type": "code",
   "execution_count": null,
   "id": "688be631",
   "metadata": {},
   "outputs": [],
   "source": [
    "import os\n",
    "\n",
    "OPENAI_API_KEY = os.getenv(\"OPENAI_API_KEY\")\n",
    "OPENAI_LLM_MODEL = os.getenv(\"OPENAI_LLM_MODEL\")\n",
    "OPENAI_EMBEDDING_MODEL = os.getenv(\"OPENAI_EMBEDDING_MODEL\")\n",
    "PINECONE_API_KEY = os.getenv(\"PINECONE_API_KEY\")\n",
    "PINECONE_ENVIRONMENT = os.getenv(\"PINECONE_ENVIRONMENT\")\n",
    "PINECONE_INDEX_REGION = os.getenv(\"PINECONE_INDEX_REGION\")\n",
    "PINECONE_INDEX_CLOUD = os.getenv(\"PINECONE_INDEX_CLOUD\")\n",
    "PINECONE_INDEX_NAME = os.getenv(\"PINECONE_INDEX_NAME\")\n",
    "PINECONE_INDEX_METRIC = os.getenv(\"PINECONE_INDEX_METRIC\")\n",
    "PINECONE_INDEX_DIMENSION = int(os.getenv(\"PINECONE_INDEX_DIMENSION\"))\n",
    "# PINECONE_API_KEY\n"
   ]
  },
  {
   "cell_type": "code",
   "execution_count": null,
   "id": "a7a5b1d1",
   "metadata": {},
   "outputs": [],
   "source": [
    "from pinecone import Pinecone, ServerlessSpec\n",
    "\n",
    "pc = Pinecone(\n",
    "    api_key=PINECONE_API_KEY\n",
    ")\n",
    "\n",
    "pc.create_index(\n",
    "    name=PINECONE_INDEX_NAME,\n",
    "    dimension=PINECONE_INDEX_DIMENSION,\n",
    "    metric=PINECONE_INDEX_METRIC,\n",
    "    spec=ServerlessSpec(\n",
    "        region=PINECONE_INDEX_REGION,\n",
    "        cloud=PINECONE_INDEX_CLOUD\n",
    "    )\n",
    ")"
   ]
  },
  {
   "cell_type": "code",
   "execution_count": null,
   "id": "0b9c7674",
   "metadata": {},
   "outputs": [],
   "source": [
    "wine_index = pc.Index(PINECONE_INDEX_NAME)\n",
    "wine_index.describe_index_stats()"
   ]
  },
  {
   "cell_type": "code",
   "execution_count": null,
   "id": "58296cca",
   "metadata": {},
   "outputs": [],
   "source": [
    "from langchain_community.document_loaders import CSVLoader\n",
    "\n",
    "loader = CSVLoader(\"../../datas/winemag-data-130k-v2.csv\", encoding=\"utf-8\")\n",
    "docs = loader.load()\n",
    "\n",
    "docs[0]"
   ]
  },
  {
   "cell_type": "code",
   "execution_count": null,
   "id": "1ebedabf",
   "metadata": {},
   "outputs": [],
   "source": [
    "print(len(docs))\n",
    "print(max(len(doc.page_content) for doc in docs))"
   ]
  },
  {
   "cell_type": "code",
   "execution_count": 7,
   "id": "4c47cc1f",
   "metadata": {},
   "outputs": [],
   "source": [
    "from langchain_openai import OpenAIEmbeddings\n",
    "\n",
    "embedding = OpenAIEmbeddings(model=OPENAI_EMBEDDING_MODEL, openai_api_key=OPENAI_API_KEY)"
   ]
  },
  {
   "cell_type": "code",
   "execution_count": null,
   "id": "04799901",
   "metadata": {},
   "outputs": [],
   "source": [
    "from langchain_pinecone import PineconeVectorStore"
   ]
  },
  {
   "cell_type": "code",
   "execution_count": null,
   "id": "168d5909",
   "metadata": {},
   "outputs": [],
   "source": [
    "BATCH_SIZE = 300\n",
    "for i in range(0, len(docs), BATCH_SIZE):\n",
    "    batch = docs[i:i + BATCH_SIZE]\n",
    "    try:\n",
    "        PineconeVectorStore.from_documents(\n",
    "            documents=batch,\n",
    "            index_name=PINECONE_INDEX_NAME,\n",
    "            embedding=embedding\n",
    "        )\n",
    "\n",
    "        print(f\"{i}~{i+len(batch)-1} documents indexed\")\n",
    "    except Exception as e:\n",
    "        print(f\"Error indexing documents {i}~{i+len(batch)-1}: {e}\")\n"
   ]
  },
  {
   "cell_type": "code",
   "execution_count": 11,
   "id": "0e415bad",
   "metadata": {},
   "outputs": [
    {
     "name": "stdout",
     "output_type": "stream",
     "text": [
      "Content: : 11089\n",
      "country: US\n",
      "description: Ripe hay, vanilla, and apricot mark the nose; deep orange flavors w...\n",
      "Content: : 6319\n",
      "country: US\n",
      "description: Aromas of candy corn, spice and almond butter are followed by full-b...\n",
      "Content: : 7687\n",
      "country: US\n",
      "description: Smoothly seductive in bright red-berry and pomegranate fruit, this y...\n",
      "Content: : 10299\n",
      "country: US\n",
      "description: High on the deliciousness-factor, this shows soft, seemingly sweet ...\n",
      "Content: : 10062\n",
      "country: US\n",
      "description: This rich cream-textured blend of Chardonnay and Viognier evokes wa...\n"
     ]
    }
   ],
   "source": [
    "vector_store = PineconeVectorStore(\n",
    "    index_name=PINECONE_INDEX_NAME,\n",
    "    embedding=embedding\n",
    ")\n",
    "\n",
    "query = \"달콤한 맛을 가진 와인\"\n",
    "results = vector_store.similarity_search(query, k=5)\n",
    "for result in results:\n",
    "    print(f\"Content: {result.page_content[:100]}...\")"
   ]
  },
  {
   "cell_type": "code",
   "execution_count": null,
   "id": "6f78c185",
   "metadata": {},
   "outputs": [],
   "source": []
  }
 ],
 "metadata": {
  "kernelspec": {
   "display_name": "Python 3",
   "language": "python",
   "name": "python3"
  },
  "language_info": {
   "codemirror_mode": {
    "name": "ipython",
    "version": 3
   },
   "file_extension": ".py",
   "mimetype": "text/x-python",
   "name": "python",
   "nbconvert_exporter": "python",
   "pygments_lexer": "ipython3",
   "version": "3.11.11"
  }
 },
 "nbformat": 4,
 "nbformat_minor": 5
}
