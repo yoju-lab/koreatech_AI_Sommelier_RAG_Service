{
 "cells": [
  {
   "cell_type": "markdown",
   "id": "66363189",
   "metadata": {},
   "source": [
    "### from : rag_cot_peactice.md"
   ]
  },
  {
   "cell_type": "markdown",
   "id": "e2dc03fa",
   "metadata": {},
   "source": [
    "## 환경 정보"
   ]
  },
  {
   "cell_type": "code",
   "execution_count": 1,
   "id": "eea508b2",
   "metadata": {},
   "outputs": [],
   "source": [
    "import os\n",
    "from dotenv import load_dotenv\n",
    "from langchain_openai import ChatOpenAI\n",
    "\n",
    "# .env 로드\n",
    "load_dotenv()\n",
    "OPENAI_API_KEY = os.getenv(\"OPENAI_API_KEY\")\n",
    "OPENAI_LLM_MODEL = os.getenv(\"OPENAI_LLM_MODEL\")  # ex: \"gpt-4o-mini\"\n",
    "\n",
    "# LLM 초기화: n개의 샘플 생성\n",
    "llm = ChatOpenAI(\n",
    "    model_name=OPENAI_LLM_MODEL,\n",
    "    openai_api_key=OPENAI_API_KEY,\n",
    "    temperature=0.7,\n",
    "    # temperature=0.0,\n",
    "    n=5\n",
    ")"
   ]
  },
  {
   "cell_type": "markdown",
   "id": "37d0d029",
   "metadata": {},
   "source": [
    "## AnswerParser"
   ]
  },
  {
   "cell_type": "code",
   "execution_count": 2,
   "id": "74af23da",
   "metadata": {},
   "outputs": [],
   "source": [
    "from langchain.schema import Document\n",
    "from langchain.output_parsers import RegexParser\n",
    "\n",
    "# 가정: 이미 Retriever가 Top-3 문서를 가져옴\n",
    "docs = [\n",
    "    Document(page_content=\"파리는 프랑스의 수도로, 연간 관광객 수 약 3000만 명입니다.\"),\n",
    "    Document(page_content=\"런던은 영국의 수도로, 연간 관광객 수 약 2000만 명입니다.\"),\n",
    "    Document(page_content=\"교토는 일본의 옛 수도로, 연간 관광객 수 약 1500만 명입니다.\")\n",
    "]\n"
   ]
  },
  {
   "cell_type": "markdown",
   "id": "6cc9649c",
   "metadata": {},
   "source": [
    "### 난이도 하 (Easy)"
   ]
  },
  {
   "cell_type": "code",
   "execution_count": 5,
   "id": "e93c4031",
   "metadata": {},
   "outputs": [
    {
     "name": "stdout",
     "output_type": "stream",
     "text": [
      "일본\n"
     ]
    }
   ],
   "source": [
    "from langchain.prompts import PromptTemplate\n",
    "\n",
    "# 예시 두 개를 포함하는 Few-Shot\n",
    "template = PromptTemplate.from_template(\n",
    "    '''문서:\n",
    "{docs}\n",
    "\n",
    "예시:\n",
    "Q: 파리의 국가는?\n",
    "A: 프랑스\n",
    "\n",
    "Q: 런던의 국가는?\n",
    "A: 영국\n",
    "\n",
    "Q: {query}\n",
    "A:'''  \n",
    ")\n",
    "parser = RegexParser(regex=r'(?s)(.*)', output_keys=['answer'])\n",
    "chain = template | llm | parser\n",
    "res = chain.invoke({\n",
    "    'docs': '\\n\\n'.join(doc.page_content for doc in docs),\n",
    "    'query': '교토의 국가는?'\n",
    "})\n",
    "print(res['answer'])"
   ]
  },
  {
   "cell_type": "markdown",
   "id": "fdb0505e",
   "metadata": {},
   "source": [
    "### 난이도 중 (Medium)"
   ]
  },
  {
   "cell_type": "code",
   "execution_count": 21,
   "id": "f9b9fbb9",
   "metadata": {},
   "outputs": [
    {
     "name": "stdout",
     "output_type": "stream",
     "text": [
      "{'json_str': '[{\"city\":\"교토\",\"visitors\":\"1500만\"}]'}\n",
      "[{'city': '교토', 'visitors': '1500만'}]\n"
     ]
    }
   ],
   "source": [
    "import json\n",
    "# 두 개의 JSON Q-A 예시 포함\n",
    "template = PromptTemplate.from_template(\n",
    "    '''문서:\n",
    "{docs}\n",
    "\n",
    "예시:\n",
    "Q: 파리의 관광객 수는?\n",
    "A: [{{\"city\":\"파리\",\"visitors\":\"3000만\"}}]\n",
    "\n",
    "Q: 런던의 관광객 수는?\n",
    "A: [{{\"city\":\"런던\",\"visitors\":\"2000만\"}}]\n",
    "\n",
    "Q: {query}\n",
    "A:\n",
    "응답은 JSON 배열만 출력하세요.\n",
    "'''  \n",
    ")\n",
    "parser = RegexParser(regex=r'(\\[.*\\])', output_keys=['json_str'])\n",
    "# chain = template | llm\n",
    "chain = template | llm | parser\n",
    "res = chain.invoke({\n",
    "    'docs': '\\n\\n'.join(doc.page_content for doc in docs),\n",
    "    'query': '교토의 관광객 수는?'\n",
    "})\n",
    "print(res)\n",
    "data = json.loads(res['json_str'])\n",
    "print(data)"
   ]
  },
  {
   "cell_type": "markdown",
   "id": "175d18ce",
   "metadata": {},
   "source": [
    "### 난이도 상 (Hard)"
   ]
  },
  {
   "cell_type": "code",
   "execution_count": 12,
   "id": "2dc899f4",
   "metadata": {},
   "outputs": [
    {
     "name": "stdout",
     "output_type": "stream",
     "text": [
      "[]\n"
     ]
    }
   ],
   "source": [
    "# 세 개의 JSON 예시 포함 (조건부)\n",
    "template = PromptTemplate.from_template(\n",
    "    '''문서:\n",
    "{docs}\n",
    "\n",
    "예시:\n",
    "Q: 파리 연간 성장률은?\n",
    "A: [{{\"year\":\"2023\",\"growth\":\"2.5%\"}}]\n",
    "\n",
    "Q: 런던 연간 성장률은?\n",
    "A: [{{\"year\":\"2023\",\"growth\":\"1.8%\"}}]\n",
    "\n",
    "Q: {query}\n",
    "응답은 JSON 배열만 출력하세요. 데이터 없으면 빈 배열.\n",
    "A:'''  \n",
    ")\n",
    "parser = RegexParser(regex=r'(\\[.*\\])', output_keys=['json_str'])\n",
    "chain = template | llm | parser\n",
    "res = chain.invoke({\n",
    "    'docs': '\\n\\n'.join(doc.page_content for doc in docs),\n",
    "    # 'query': '파리 연간 성장률은?',   # 데이터 있음\n",
    "    'query': '교토 연간 성장률은?',     # 데이터 없으면 빈 배열\n",
    "})\n",
    "data = json.loads(res['json_str'])\n",
    "print(data)"
   ]
  },
  {
   "cell_type": "code",
   "execution_count": null,
   "id": "f3e8653e",
   "metadata": {},
   "outputs": [],
   "source": []
  }
 ],
 "metadata": {
  "kernelspec": {
   "display_name": "Python 3",
   "language": "python",
   "name": "python3"
  },
  "language_info": {
   "codemirror_mode": {
    "name": "ipython",
    "version": 3
   },
   "file_extension": ".py",
   "mimetype": "text/x-python",
   "name": "python",
   "nbconvert_exporter": "python",
   "pygments_lexer": "ipython3",
   "version": "3.11.11"
  }
 },
 "nbformat": 4,
 "nbformat_minor": 5
}
