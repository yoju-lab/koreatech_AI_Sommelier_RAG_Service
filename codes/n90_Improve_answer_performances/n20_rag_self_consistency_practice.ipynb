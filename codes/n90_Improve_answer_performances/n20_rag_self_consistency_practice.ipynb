{
 "cells": [
  {
   "cell_type": "markdown",
   "id": "66363189",
   "metadata": {},
   "source": [
    "### from : rag_cot_peactice.md"
   ]
  },
  {
   "cell_type": "markdown",
   "id": "e2dc03fa",
   "metadata": {},
   "source": [
    "## 환경 정보"
   ]
  },
  {
   "cell_type": "code",
   "execution_count": 24,
   "id": "eea508b2",
   "metadata": {},
   "outputs": [],
   "source": [
    "import os\n",
    "from dotenv import load_dotenv\n",
    "from langchain_openai import ChatOpenAI\n",
    "from pydantic import PrivateAttr\n",
    "from langchain.schema import BaseOutputParser\n",
    "from langchain.embeddings import OpenAIEmbeddings\n",
    "import numpy as np\n",
    "import re\n",
    "\n",
    "# .env 로드\n",
    "load_dotenv()\n",
    "OPENAI_API_KEY = os.getenv(\"OPENAI_API_KEY\")\n",
    "OPENAI_LLM_MODEL = os.getenv(\"OPENAI_LLM_MODEL\")  # ex: \"gpt-4o-mini\"\n",
    "\n",
    "# LLM 초기화: n개의 샘플 생성\n",
    "llm = ChatOpenAI(\n",
    "    model_name=OPENAI_LLM_MODEL,\n",
    "    openai_api_key=OPENAI_API_KEY,\n",
    "    temperature=0.7,\n",
    "    # temperature=0.0,\n",
    "    n=5\n",
    ")"
   ]
  },
  {
   "cell_type": "markdown",
   "id": "37d0d029",
   "metadata": {},
   "source": [
    "## AnswerParser"
   ]
  },
  {
   "cell_type": "code",
   "execution_count": 3,
   "id": "74af23da",
   "metadata": {},
   "outputs": [],
   "source": [
    "# Fake Retriever: Top-3 문서 반환\n",
    "docs = {\n",
    "    \"doc1\": \"파리의 상징은 에펠탑이며, 1889년에 세워졌습니다.\",\n",
    "    \"doc2\": \"파리는 세느강을 따라 발달한 도시로, 루브르 박물관이 유명합니다.\",\n",
    "    \"doc3\": \"파리는 연간 약 2천만 명의 관광객이 방문하는 세계적 관광 도시입니다.\"\n",
    "}\n",
    "def fake_retriever(query: str, top_k: int=3):\n",
    "    return [docs[f\"doc{i}\"] for i in range(1, top_k+1)]\n",
    "\n",
    "class RobustSelfConsistencyParser(BaseOutputParser):\n",
    "    threshold: float = 0.9\n",
    "    _embeddings: OpenAIEmbeddings = PrivateAttr()\n",
    "\n",
    "    def __init__(self, *, threshold: float = 0.9):\n",
    "        super().__init__(threshold=threshold)\n",
    "        self._embeddings = OpenAIEmbeddings()\n",
    "\n",
    "    def parse(self, generations: list[str]) -> str:\n",
    "        # 1) 우선 “최종 답변” 패턴으로 뽑아보기\n",
    "        answers = []\n",
    "        pattern = re.compile(r\"(?:\\d+\\.\\s*)?\\**최종\\s*답변\\**[:\\s]*(.+)\", re.IGNORECASE|re.DOTALL)\n",
    "        for text in generations:\n",
    "            m = pattern.search(text)\n",
    "            if m:\n",
    "                answers.append(m.group(1).strip())\n",
    "        # 2) 패턴 매칭이 하나도 안 되면, raw generation 전체를 답변 후보로 사용\n",
    "        if not answers:\n",
    "            answers = [text.strip() for text in generations]\n",
    "\n",
    "        # 3) 의미 기반 클러스터링\n",
    "        embs = np.array(self._embeddings.embed_documents(answers))\n",
    "        rep_embs, counts, clusters = [], [], []\n",
    "        for ans, emb in zip(answers, embs):\n",
    "            for idx, rep in enumerate(rep_embs):\n",
    "                sim = np.dot(emb, rep)/(np.linalg.norm(emb)*np.linalg.norm(rep))\n",
    "                if sim >= self.threshold:\n",
    "                    counts[idx] += 1\n",
    "                    clusters[idx].append(ans)\n",
    "                    break\n",
    "            else:\n",
    "                rep_embs.append(emb); counts.append(1); clusters.append([ans])\n",
    "\n",
    "        # 4) 최빈 클러스터의 대표 답변 반환\n",
    "        best = int(np.argmax(counts))\n",
    "        return clusters[best][0]"
   ]
  },
  {
   "cell_type": "markdown",
   "id": "6cc9649c",
   "metadata": {},
   "source": [
    "### 난이도 하 (Easy)"
   ]
  },
  {
   "cell_type": "code",
   "execution_count": 4,
   "id": "22027612",
   "metadata": {},
   "outputs": [
    {
     "data": {
      "text/plain": [
       "['파리의 상징은 에펠탑이며, 1889년에 세워졌습니다.', '파리는 세느강을 따라 발달한 도시로, 루브르 박물관이 유명합니다.']"
      ]
     },
     "execution_count": 4,
     "metadata": {},
     "output_type": "execute_result"
    }
   ],
   "source": [
    "\n",
    "query = \"파리의 상징은 무엇인가요?\"\n",
    "retrieved = fake_retriever(query, top_k=2)\n",
    "retrieved\n"
   ]
  },
  {
   "cell_type": "code",
   "execution_count": 6,
   "id": "e93c4031",
   "metadata": {},
   "outputs": [],
   "source": [
    "from langchain import PromptTemplate\n",
    "\n",
    "# 1) Prompt → messages\n",
    "prompt_easy = PromptTemplate(\n",
    "    input_variables=[\"doc1\",\"doc2\",\"question\"],\n",
    "    template=\"\"\"\n",
    "=== 문서1 ===\n",
    "{doc1}\n",
    "\n",
    "=== 문서2 ===\n",
    "{doc2}\n",
    "\n",
    "질문: {question}\n",
    "\n",
    "**최종 답변**:\n",
    "\"\"\"\n",
    ")\n",
    "\n",
    "prompt_value = prompt_easy.format_prompt(\n",
    "    doc1=retrieved[0],\n",
    "    doc2=retrieved[1],\n",
    "    question=query\n",
    ")\n",
    "\n",
    "messages = prompt_value.to_messages()  # ChatMessage 리스트\n",
    "\n"
   ]
  },
  {
   "cell_type": "code",
   "execution_count": 19,
   "id": "cd61c170",
   "metadata": {},
   "outputs": [
    {
     "data": {
      "text/plain": [
       "[ChatGeneration(generation_info={'finish_reason': 'stop', 'logprobs': None}, message=AIMessage(content='파리의 에펠탑과 루브르 박물관을 포함한 역사와 문화를 체험하는 3일 여행 일정.', additional_kwargs={'refusal': None}, response_metadata={'finish_reason': 'stop', 'logprobs': None}, id='run--b9a4b2bc-f141-47f8-a8cb-31f7bb5ab03b-0', usage_metadata={'input_tokens': 188, 'output_tokens': 198, 'total_tokens': 386, 'input_token_details': {'audio': 0, 'cache_read': 0}, 'output_token_details': {'audio': 0, 'reasoning': 0}}), text='파리의 에펠탑과 루브르 박물관을 포함한 역사와 문화를 체험하는 3일 여행 일정.'),\n",
       " ChatGeneration(generation_info={'finish_reason': 'stop', 'logprobs': None}, message=AIMessage(content='파리의 에펠탑과 루브르 박물관을 포함한 3일 여행 일정으로, 첫째 날은 에펠탑 방문, 둘째 날은 루브르 박물관 탐방, 셋째 날은 세느강 산책과 카페 문화 체험을 추천합니다.', additional_kwargs={}, response_metadata={'finish_reason': 'stop', 'logprobs': None}, id='run--b9a4b2bc-f141-47f8-a8cb-31f7bb5ab03b-1', usage_metadata={'input_tokens': 188, 'output_tokens': 198, 'total_tokens': 386, 'input_token_details': {'audio': 0, 'cache_read': 0}, 'output_token_details': {'audio': 0, 'reasoning': 0}}), text='파리의 에펠탑과 루브르 박물관을 포함한 3일 여행 일정으로, 첫째 날은 에펠탑 방문, 둘째 날은 루브르 박물관 탐방, 셋째 날은 세느강 산책과 카페 문화 체험을 추천합니다.'),\n",
       " ChatGeneration(generation_info={'finish_reason': 'stop', 'logprobs': None}, message=AIMessage(content='파리의 에펠탑과 루브르 박물관을 포함한 역사와 문화를 체험하는 3일 여행 일정.', additional_kwargs={}, response_metadata={'finish_reason': 'stop', 'logprobs': None}, id='run--b9a4b2bc-f141-47f8-a8cb-31f7bb5ab03b-2', usage_metadata={'input_tokens': 188, 'output_tokens': 198, 'total_tokens': 386, 'input_token_details': {'audio': 0, 'cache_read': 0}, 'output_token_details': {'audio': 0, 'reasoning': 0}}), text='파리의 에펠탑과 루브르 박물관을 포함한 역사와 문화를 체험하는 3일 여행 일정.'),\n",
       " ChatGeneration(generation_info={'finish_reason': 'stop', 'logprobs': None}, message=AIMessage(content='파리의 에펠탑과 루브르 박물관을 포함한 역사와 문화를 체험하는 3일 여행 일정.', additional_kwargs={}, response_metadata={'finish_reason': 'stop', 'logprobs': None}, id='run--b9a4b2bc-f141-47f8-a8cb-31f7bb5ab03b-3', usage_metadata={'input_tokens': 188, 'output_tokens': 198, 'total_tokens': 386, 'input_token_details': {'audio': 0, 'cache_read': 0}, 'output_token_details': {'audio': 0, 'reasoning': 0}}), text='파리의 에펠탑과 루브르 박물관을 포함한 역사와 문화를 체험하는 3일 여행 일정.'),\n",
       " ChatGeneration(generation_info={'finish_reason': 'stop', 'logprobs': None}, message=AIMessage(content='파리의 에펠탑과 루브르 박물관을 중심으로 세느강을 따라 3일 동안 문화와 역사를 탐방하는 일정.', additional_kwargs={}, response_metadata={'finish_reason': 'stop', 'logprobs': None}, id='run--b9a4b2bc-f141-47f8-a8cb-31f7bb5ab03b-4', usage_metadata={'input_tokens': 188, 'output_tokens': 198, 'total_tokens': 386, 'input_token_details': {'audio': 0, 'cache_read': 0}, 'output_token_details': {'audio': 0, 'reasoning': 0}}), text='파리의 에펠탑과 루브르 박물관을 중심으로 세느강을 따라 3일 동안 문화와 역사를 탐방하는 일정.')]"
      ]
     },
     "execution_count": 19,
     "metadata": {},
     "output_type": "execute_result"
    }
   ],
   "source": [
    "# 2) LLM으로 여러 답변 생성\n",
    "response = llm.generate([messages])  \n",
    "generations = response.generations[0]        # 5개의 Generation 객체\n",
    "generations"
   ]
  },
  {
   "cell_type": "code",
   "execution_count": 23,
   "id": "e03ad217",
   "metadata": {},
   "outputs": [
    {
     "name": "stdout",
     "output_type": "stream",
     "text": [
      "파리의 에펠탑과 루브르 박물관을 포함한 역사와 문화를 체험하는 3일 여행 일정.\n",
      "파리의 에펠탑과 루브르 박물관을 포함한 3일 여행 일정으로, 첫째 날은 에펠탑 방문, 둘째 날은 루브르 박물관 탐방, 셋째 날은 세느강 산책과 카페 문화 체험을 추천합니다.\n",
      "파리의 에펠탑과 루브르 박물관을 포함한 역사와 문화를 체험하는 3일 여행 일정.\n",
      "파리의 에펠탑과 루브르 박물관을 포함한 역사와 문화를 체험하는 3일 여행 일정.\n",
      "파리의 에펠탑과 루브르 박물관을 중심으로 세느강을 따라 3일 동안 문화와 역사를 탐방하는 일정.\n"
     ]
    }
   ],
   "source": [
    "for gen in generations:\n",
    "    print(f\"{gen.text}\")\n",
    "    "
   ]
  },
  {
   "cell_type": "code",
   "execution_count": 13,
   "id": "d7f6ec1c",
   "metadata": {},
   "outputs": [
    {
     "name": "stdout",
     "output_type": "stream",
     "text": [
      "Easy raw texts: ['파리의 에펠탑, 루브르 박물관, 세느강 유람선을 포함한 3일 여행 일정을 추천합니다.', '파리의 에펠탑과 루브르 박물관을 중심으로 한 3일 여행 일정 추천: 첫째 날 에펠탑 방문, 둘째 날 루브르 박물관 탐방, 셋째 날 세느강 주변 산책 및 관광.', '파리의 상징인 에펠탑을 방문하고, 루브르 박물관에서 세계적인 예술작품을 감상하며, 세느강 주변을 산책하는 3일 여행 일정을 추천합니다.', '파리의 에펠탑, 루브르 박물관, 세느강 유람선을 포함한 3일 여행 일정을 추천합니다.', '파리의 에펠탑, 루브르 박물관, 세느강 유람선을 즐기는 3일 여행 일정.']\n",
      "Easy 최종 답변: 파리의 에펠탑, 루브르 박물관, 세느강 유람선을 포함한 3일 여행 일정을 추천합니다.\n"
     ]
    }
   ],
   "source": [
    "# 3) 파서에 raw text 리스트 전달\n",
    "raw_texts = [gen.text for gen in generations]\n",
    "print(\"Easy raw texts:\", raw_texts)\n",
    "parser = RobustSelfConsistencyParser(threshold=0.85)\n",
    "final_answer = parser.parse(raw_texts)\n",
    "\n",
    "print(\"Easy 최종 답변:\", final_answer)"
   ]
  },
  {
   "cell_type": "markdown",
   "id": "fdb0505e",
   "metadata": {},
   "source": [
    "### 난이도 중 (Medium)"
   ]
  },
  {
   "cell_type": "code",
   "execution_count": 8,
   "id": "f9b9fbb9",
   "metadata": {},
   "outputs": [
    {
     "data": {
      "text/plain": [
       "['파리의 상징은 에펠탑이며, 1889년에 세워졌습니다.',\n",
       " '파리는 세느강을 따라 발달한 도시로, 루브르 박물관이 유명합니다.',\n",
       " '파리는 연간 약 2천만 명의 관광객이 방문하는 세계적 관광 도시입니다.']"
      ]
     },
     "execution_count": 8,
     "metadata": {},
     "output_type": "execute_result"
    }
   ],
   "source": [
    "query = \"파리의 주요 관광지 두 곳과 방문 시기를 알려주세요.\"\n",
    "retrieved = fake_retriever(query, top_k=3)\n",
    "retrieved\n"
   ]
  },
  {
   "cell_type": "code",
   "execution_count": 9,
   "id": "9ccfe142",
   "metadata": {},
   "outputs": [
    {
     "name": "stdout",
     "output_type": "stream",
     "text": [
      "raw_texts_med: ['파리의 주요 관광지는 에펠탑과 루브르 박물관이며, 방문하기 좋은 시기는 봄과 가을입니다.', '주요 관광지는 에펠탑과 루브르 박물관이며, 방문하기 좋은 시기는 봄과 가을입니다.', '파리의 주요 관광지는 에펠탑과 루브르 박물관이며, 연중 내내 방문할 수 있습니다.', '파리의 주요 관광지는 에펠탑과 루브르 박물관이며, 연중 언제든지 방문할 수 있습니다.', '에펠탑과 루브르 박물관은 파리의 주요 관광지로, 연중 내내 관광객이 방문합니다.']\n",
      "Medium 최종 답변: 파리의 주요 관광지는 에펠탑과 루브르 박물관이며, 방문하기 좋은 시기는 봄과 가을입니다.\n"
     ]
    }
   ],
   "source": [
    "from langchain import PromptTemplate\n",
    "\n",
    "# 1) Prompt → messages\n",
    "prompt_med = PromptTemplate(\n",
    "    input_variables=[\"doc1\",\"doc2\",\"doc3\",\"question\"],\n",
    "    template=\"\"\"\n",
    "아래 문서를 참고하여 **한 번에 하나의 샘플**을 생성하세요.\n",
    "\n",
    "=== 문서1 ===\n",
    "{doc1}\n",
    "\n",
    "=== 문서2 ===\n",
    "{doc2}\n",
    "\n",
    "=== 문서3 ===\n",
    "{doc3}\n",
    "\n",
    "질문: {question}\n",
    "\n",
    "[지시사항]\n",
    "- **최종 답변**: <답변 문장>\n",
    "- 질문 문구를 반복하지 마세요.\n",
    "- 부가 설명, 번호 없이 딱 한 줄로만 작성하세요.\n",
    "\"\"\"\n",
    ")\n",
    "\n",
    "prompt_value = prompt_med.format_prompt(\n",
    "    doc1=retrieved[0],\n",
    "    doc2=retrieved[1],\n",
    "    doc3=retrieved[2],\n",
    "    question=\"파리의 주요 관광지 두 곳과 방문 시기를 알려주세요.\"\n",
    ")\n",
    "\n",
    "messages = prompt_value.to_messages()\n",
    "\n",
    "# 2) LLM으로 여러 답변 생성\n",
    "response = llm.generate([messages])\n",
    "generations = response.generations[0]  # 5개의 Generation 객체\n",
    "\n",
    "# 3) raw text 리스트 준비\n",
    "raw_texts_med = [gen.text for gen in generations]\n",
    "\n",
    "print(f\"raw_texts_med: {raw_texts_med}\")\n",
    "\n",
    "# 4) 파싱\n",
    "parser = RobustSelfConsistencyParser(threshold=0.9)\n",
    "final_med = parser.parse(raw_texts_med)\n",
    "print(\"Medium 최종 답변:\", final_med)"
   ]
  },
  {
   "cell_type": "markdown",
   "id": "175d18ce",
   "metadata": {},
   "source": [
    "### 난이도 상 (Hard)"
   ]
  },
  {
   "cell_type": "code",
   "execution_count": 10,
   "id": "9376ff3f",
   "metadata": {},
   "outputs": [
    {
     "data": {
      "text/plain": [
       "['파리의 상징은 에펠탑이며, 1889년에 세워졌습니다.',\n",
       " '파리는 세느강을 따라 발달한 도시로, 루브르 박물관이 유명합니다.',\n",
       " '파리는 연간 약 2천만 명의 관광객이 방문하는 세계적 관광 도시입니다.']"
      ]
     },
     "execution_count": 10,
     "metadata": {},
     "output_type": "execute_result"
    }
   ],
   "source": [
    "query = \"파리의 역사, 관광지, 방문 시기를 종합해 3일 여행 일정을 추천해주세요.\"\n",
    "retrieved = fake_retriever(query, top_k=3)\n",
    "retrieved\n"
   ]
  },
  {
   "cell_type": "code",
   "execution_count": 11,
   "id": "89c37738",
   "metadata": {},
   "outputs": [
    {
     "name": "stdout",
     "output_type": "stream",
     "text": [
      "Hard raw texts: ['파리의 에펠탑, 루브르 박물관, 세느강 유람선을 포함한 3일 여행 일정을 추천합니다.', '파리의 에펠탑, 루브르 박물관, 세느강 유람선을 즐기는 3일 여행 일정을 추천합니다.', '파리의 에펠탑, 루브르 박물관, 세느강 크루즈를 포함한 3일 일정으로 역사와 문화를 만끽하세요.', '파리의 에펠탑, 루브르 박물관, 세느강 유람선을 포함한 3일 여행 일정을 추천합니다.', '에펠탑 관람, 루브르 박물관 탐방, 세느강 유람선 투어로 구성된 파리 3일 여행 일정.']\n",
      "Hard 최종 답변: 파리의 에펠탑, 루브르 박물관, 세느강 유람선을 포함한 3일 여행 일정을 추천합니다.\n"
     ]
    }
   ],
   "source": [
    "# 1) Prompt → messages\n",
    "\n",
    "prompt_hard_single = PromptTemplate(\n",
    "    input_variables=[\"doc1\",\"doc2\",\"doc3\",\"question\"],\n",
    "    template=\"\"\"\n",
    "아래 문서를 참고하여 **한 번에 하나의** 3일 일정 추천 샘플을 생성하세요.\n",
    "\n",
    "=== 문서1 ===\n",
    "{doc1}\n",
    "\n",
    "=== 문서2 ===\n",
    "{doc2}\n",
    "\n",
    "=== 문서3 ===\n",
    "{doc3}\n",
    "\n",
    "질문: {question}\n",
    "\n",
    "[지시사항]\n",
    "- **최종 추천 일정**: <3일 일정 요약 한 줄>\n",
    "- “### 일정 추천 샘플” 제목 없이, 한 줄짜리 요약만 작성하세요.\n",
    "\"\"\"\n",
    ")\n",
    "\n",
    "prompt_value = prompt_hard_single.format_prompt(\n",
    "    doc1=retrieved[0],\n",
    "    doc2=retrieved[1],\n",
    "    doc3=retrieved[2],\n",
    "    question=\"파리의 역사, 관광지, 방문 시기를 종합해 3일 여행 일정을 추천해주세요.\"\n",
    ")\n",
    "\n",
    "messages = prompt_value.to_messages()\n",
    "\n",
    "# 2) LLM으로 여러 답변 생성\n",
    "response = llm.generate([messages])\n",
    "generations = response.generations[0]\n",
    "\n",
    "# 3) raw text 리스트 준비\n",
    "raw_texts_hard = [gen.text for gen in generations]\n",
    "print(\"Hard raw texts:\", raw_texts_hard)\n",
    "\n",
    "# 4) 파싱\n",
    "final_hard = parser.parse(raw_texts_hard)\n",
    "print(\"Hard 최종 답변:\", final_hard)"
   ]
  },
  {
   "cell_type": "code",
   "execution_count": null,
   "id": "2dc899f4",
   "metadata": {},
   "outputs": [],
   "source": []
  }
 ],
 "metadata": {
  "kernelspec": {
   "display_name": "Python 3",
   "language": "python",
   "name": "python3"
  },
  "language_info": {
   "codemirror_mode": {
    "name": "ipython",
    "version": 3
   },
   "file_extension": ".py",
   "mimetype": "text/x-python",
   "name": "python",
   "nbconvert_exporter": "python",
   "pygments_lexer": "ipython3",
   "version": "3.11.11"
  }
 },
 "nbformat": 4,
 "nbformat_minor": 5
}
