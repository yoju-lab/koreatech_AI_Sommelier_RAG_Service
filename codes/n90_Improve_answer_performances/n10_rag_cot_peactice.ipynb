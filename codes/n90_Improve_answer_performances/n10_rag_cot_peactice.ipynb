{
 "cells": [
  {
   "cell_type": "markdown",
   "id": "66363189",
   "metadata": {},
   "source": [
    "### from : rag_cot_peactice.md"
   ]
  },
  {
   "cell_type": "markdown",
   "id": "e2dc03fa",
   "metadata": {},
   "source": [
    "## 환경 정보"
   ]
  },
  {
   "cell_type": "code",
   "execution_count": 1,
   "id": "eea508b2",
   "metadata": {},
   "outputs": [],
   "source": [
    "# .env 로드 & LLM 초기화\n",
    "import os\n",
    "from dotenv import load_dotenv\n",
    "from langchain_openai import ChatOpenAI\n",
    "\n",
    "load_dotenv()\n",
    "llm = ChatOpenAI(\n",
    "    model_name=os.getenv(\"OPENAI_LLM_MODEL\"),\n",
    "    openai_api_key=os.getenv(\"OPENAI_API_KEY\"),\n",
    "    temperature=0.0\n",
    ")"
   ]
  },
  {
   "cell_type": "markdown",
   "id": "37d0d029",
   "metadata": {},
   "source": [
    "## AnswerParser"
   ]
  },
  {
   "cell_type": "code",
   "execution_count": 3,
   "id": "74af23da",
   "metadata": {},
   "outputs": [],
   "source": [
    "# 가짜 Retriever (Top-3 문서 반환)\n",
    "docs = {\n",
    "    \"doc1\": \"대한민국의 수도는 서울입니다. 서울은 한강을 끼고 발달한 도시입니다.\",\n",
    "    \"doc2\": \"서울의 대표적 관광지는 경복궁, 남산타워, 명동 등이 있습니다.\",\n",
    "    \"doc3\": \"서울의 인구는 약 천만 명이며, 교통·문화 인프라가 잘 갖춰져 있습니다.\"\n",
    "}\n",
    "def fake_retriever(query: str, top_k: int = 3):\n",
    "    return [docs[f\"doc{i}\"] for i in range(1, top_k+1)]\n",
    "\n",
    "# OutputParser 정의\n",
    "import re\n",
    "from langchain.schema import BaseOutputParser\n",
    "\n",
    "class FinalAnswerParser(BaseOutputParser):\n",
    "    def parse(self, text: str) -> str:\n",
    "        pattern = r\"3\\.\\s*\\*\\*?최종\\s*답변\\*{0,2}[:\\s]*(.+)$\"\n",
    "        m = re.search(pattern, text, re.DOTALL | re.MULTILINE)\n",
    "        if m:\n",
    "            return m.group(1).strip()\n",
    "        fb = re.search(r\"최종\\s*답변[:\\s]*(.+)\", text, re.DOTALL)\n",
    "        return fb.group(1).strip() if fb else text.strip()"
   ]
  },
  {
   "cell_type": "markdown",
   "id": "6cc9649c",
   "metadata": {},
   "source": [
    "### 난이도 하 (Easy)"
   ]
  },
  {
   "cell_type": "code",
   "execution_count": 8,
   "id": "22027612",
   "metadata": {},
   "outputs": [
    {
     "data": {
      "text/plain": [
       "['대한민국의 수도는 서울입니다. 서울은 한강을 끼고 발달한 도시입니다.',\n",
       " '서울의 대표적 관광지는 경복궁, 남산타워, 명동 등이 있습니다.']"
      ]
     },
     "execution_count": 8,
     "metadata": {},
     "output_type": "execute_result"
    }
   ],
   "source": [
    "query = \"서울의 수도는 어디인가요?\"\n",
    "retrieved = fake_retriever(query, top_k=2)\n",
    "retrieved\n"
   ]
  },
  {
   "cell_type": "code",
   "execution_count": 26,
   "id": "cd61c170",
   "metadata": {},
   "outputs": [],
   "source": [
    "template_normal = \"\"\"=== 문서1 ===\n",
    "{doc1}\n",
    "=== 문서2 ===\n",
    "{doc2}\n",
    "=== 문서3 ===\n",
    "{doc3}\n",
    "질문: {question}\n",
    "지시사항:\n",
    "1. 핵심 정보 추출  \n",
    "2. 정보를 조합  \n",
    "3. **최종 답변**\n",
    "\"\"\"     # Normal Instructions \n",
    "\n",
    "template_cot = \"\"\"=== 문서1 ===\n",
    "{doc1}\n",
    "\n",
    "=== 문서2 ===\n",
    "{doc2}\n",
    "\n",
    "=== 문서3 ===\n",
    "{doc3}\n",
    "\n",
    "질문: {question}\n",
    "\n",
    "[지시사항]\n",
    "1. 핵심 정보 추출  \n",
    "2. 정보를 조합  \n",
    "3. **최종 답변**\n",
    "\n",
    "\"\"\"     # COT Instructions "
   ]
  },
  {
   "cell_type": "code",
   "execution_count": 28,
   "id": "8a6ab7d8",
   "metadata": {},
   "outputs": [
    {
     "name": "stdout",
     "output_type": "stream",
     "text": [
      "Easy 결과: \n",
      " 1. **핵심 정보 추출**  \n",
      "   - 서울의 인구: 약 천만 명  \n",
      "   - 서울의 대표적 관광지: 경복궁, 남산타워, 명동 등  \n",
      "   - 교통·문화 인프라: 잘 갖춰져 있음  \n",
      "\n",
      "2. **정보 조합**  \n",
      "   서울은 약 천만 명의 인구를 가진 대도시로, 다양한 문화와 활기찬 도시 생활을 경험할 수 있습니다. 대표적인 관광지인 경복궁, 남산타워, 명동은 각각 역사적 가치, 아름다운 경관, 쇼핑과 음식 문화를 제공하여 관광객들에게 매력적인 선택지를 제공합니다. 또한, 서울은 교통과 문화 인프라가 잘 갖춰져 있어, 대중교통을 이용해 쉽게 이동할 수 있으며, 다양한 문화 행사와 활동에 참여할 수 있는 기회가 많습니다.\n",
      "\n",
      "3. **최종 답변**  \n",
      "서울은 약 천만 명의 인구가 살고 있는 대도시로, 다양한 문화적 경험을 제공합니다. 경복궁, 남산타워, 명동과 같은 대표적인 관광지는 역사적 가치와 현대적 매력을 동시에 지니고 있어 관광객들에게 풍부한 볼거리를 제공합니다. 더불어, 잘 갖춰진 교통·문화 인프라 덕분에 관광객들은 편리하게 이동하며 다양한 문화 활동에 참여할 수 있습니다. 이러한 요소들이 결합되어 서울은 여행하기에 매우 매력적인 도시입니다.\n"
     ]
    }
   ],
   "source": [
    "from langchain_core.prompts import PromptTemplate\n",
    "from langchain_core.output_parsers import StrOutputParser\n",
    "\n",
    "prompt_easy = PromptTemplate(\n",
    "    input_variables=[\"doc1\", \"doc2\", \"doc3\", \"question\"],   # Contexts\n",
    "    # template=template_normal,\n",
    "    template=template_cot,\n",
    ")\n",
    "\n",
    "chain_easy = prompt_easy | llm | StrOutputParser()\n",
    "result_easy = chain_easy.invoke({\n",
    "    \"doc1\": retrieved[0],\n",
    "    \"doc2\": retrieved[1],\n",
    "    \"doc3\": retrieved[2] if len(retrieved) > 2 else \"\",\n",
    "    \"question\": query\n",
    "})\n",
    "print(\"Easy 결과: \\n\", result_easy)"
   ]
  },
  {
   "cell_type": "code",
   "execution_count": 24,
   "id": "056f10d1",
   "metadata": {},
   "outputs": [
    {
     "name": "stdout",
     "output_type": "stream",
     "text": [
      "Easy 결과: 서울은 약 천만 명의 인구가 거주하는 대도시로, 다양한 문화와 활기찬 도시 생활을 경험할 수 있는 매력적인 여행지입니다. 경복궁, 남산타워, 명동과 같은 대표적인 관광지는 역사적 가치와 아름다운 경관, 쇼핑과 음식 문화를 제공하여 관광객들에게 풍부한 경험을 선사합니다. 더불어, 잘 갖춰진 교통·문화 인프라 덕분에 대중교통을 통해 쉽게 이동할 수 있어 여행의 편리함을 더합니다. 이러한 요소들이 결합되어 서울은 여행하기에 매우 좋은 도시입니다.\n"
     ]
    }
   ],
   "source": [
    "chain_easy = prompt_easy | llm | FinalAnswerParser()\n",
    "result_easy = chain_easy.invoke({\n",
    "    \"doc1\": retrieved[0],\n",
    "    \"doc2\": retrieved[1],\n",
    "    \"doc3\": retrieved[2] if len(retrieved) > 2 else \"\",\n",
    "    \"question\": query\n",
    "})\n",
    "print(\"Easy 결과:\", result_easy)"
   ]
  },
  {
   "cell_type": "markdown",
   "id": "fdb0505e",
   "metadata": {},
   "source": [
    "### 난이도 중 (Medium)"
   ]
  },
  {
   "cell_type": "code",
   "execution_count": 10,
   "id": "f9b9fbb9",
   "metadata": {},
   "outputs": [
    {
     "data": {
      "text/plain": [
       "['대한민국의 수도는 서울입니다. 서울은 한강을 끼고 발달한 도시입니다.',\n",
       " '서울의 대표적 관광지는 경복궁, 남산타워, 명동 등이 있습니다.',\n",
       " '서울의 인구는 약 천만 명이며, 교통·문화 인프라가 잘 갖춰져 있습니다.']"
      ]
     },
     "execution_count": 10,
     "metadata": {},
     "output_type": "execute_result"
    }
   ],
   "source": [
    "query = \"서울의 주요 관광지 3곳과 특징을 알려주세요.\"\n",
    "retrieved = fake_retriever(query, top_k=3)\n",
    "retrieved\n"
   ]
  },
  {
   "cell_type": "code",
   "execution_count": 41,
   "id": "9ccfe142",
   "metadata": {},
   "outputs": [
    {
     "name": "stdout",
     "output_type": "stream",
     "text": [
      "Medium 결과: 1) 각 문서에서 핵심 키워드 추출  \n",
      "- 문서1: 수도, 서울, 한강, 발달  \n",
      "- 문서2: 관광지, 경복궁, 남산타워, 명동  \n",
      "- 문서3: 인구, 천만 명, 교통, 문화 인프라  \n",
      "\n",
      "2) 관광지별 특징 정리  \n",
      "- 경복궁: 알 수 없음  \n",
      "- 남산타워: 알 수 없음  \n",
      "- 명동: 알 수 없음  \n",
      "\n",
      "3) **최종 답변**  \n",
      "\n",
      "| 요소         | 내용                                                                                     |\n",
      "|--------------|------------------------------------------------------------------------------------------|\n",
      "| 인구         | 서울의 인구는 약 천만 명으로, 많은 사람들이 거주하고 있어 다양한 문화와 활동이 존재합니다. |\n",
      "| 관광지       | 서울의 대표적 관광지로는 경복궁, 남산타워, 명동이 있으며, 각 관광지는 고유의 매력을 가지고 있습니다. |\n",
      "| 교통 인프라  | 서울은 교통과 문화 인프라가 잘 갖춰져 있어 여행자들이 편리하게 이동하고 다양한 문화 체험을 할 수 있습니다. |\n",
      "| 여행하기 좋은 이유 | 서울은 인구가 많아 다양한 문화와 활동이 존재하고, 주요 관광지가 잘 발달되어 있으며, 교통 인프라가 잘 갖춰져 있어 여행하기에 매우 편리합니다. |\n"
     ]
    }
   ],
   "source": [
    "prompt_med = PromptTemplate(\n",
    "    input_variables=[\"doc1\",\"doc2\",\"doc3\",\"question\"],\n",
    "    template=\"\"\"문서들을 읽고 단계별로 답하세요.\n",
    "\n",
    "=== 문서1 ===\n",
    "{doc1}\n",
    "\n",
    "=== 문서2 ===\n",
    "{doc2}\n",
    "\n",
    "=== 문서3 ===\n",
    "{doc3}\n",
    "\n",
    "질문: {question}\n",
    "\n",
    "[지시사항]\n",
    "1) 각 문서에서 핵심 키워드 추출  \n",
    "2) 관광지별 특징 정리\n",
    "3) **최종 답변**을 표 형태로 제시\n",
    "\"\"\"\n",
    ")\n",
    "# 2) 관광지별 특징 정리 : 제공된 문서에 없는 것은 알 수 없음 표시.\n",
    "# 3) **최종 답변**을 json 형태로 제시\n",
    "\n",
    "chain_med = prompt_med | llm | StrOutputParser()\n",
    "# chain_med = prompt_med | llm | FinalAnswerParser()\n",
    "result_med = chain_med.invoke({\n",
    "    \"doc1\": retrieved[0],\n",
    "    \"doc2\": retrieved[1],\n",
    "    \"doc3\": retrieved[2] if len(retrieved) > 2 else \"\",\n",
    "    \"question\": query\n",
    "})\n",
    "print(\"Medium 결과:\", result_med)"
   ]
  },
  {
   "cell_type": "markdown",
   "id": "175d18ce",
   "metadata": {},
   "source": [
    "### 난이도 상 (Hard)"
   ]
  },
  {
   "cell_type": "code",
   "execution_count": 12,
   "id": "9376ff3f",
   "metadata": {},
   "outputs": [
    {
     "data": {
      "text/plain": [
       "['대한민국의 수도는 서울입니다. 서울은 한강을 끼고 발달한 도시입니다.',\n",
       " '서울의 대표적 관광지는 경복궁, 남산타워, 명동 등이 있습니다.',\n",
       " '서울의 인구는 약 천만 명이며, 교통·문화 인프라가 잘 갖춰져 있습니다.']"
      ]
     },
     "execution_count": 12,
     "metadata": {},
     "output_type": "execute_result"
    }
   ],
   "source": [
    "query = \"서울의 인구, 관광지, 교통 인프라를 종합해 여행하기 좋은 이유를 논리적으로 설명해주세요.\"\n",
    "retrieved = fake_retriever(query, top_k=3)\n",
    "retrieved\n"
   ]
  },
  {
   "cell_type": "code",
   "execution_count": 48,
   "id": "89c37738",
   "metadata": {},
   "outputs": [
    {
     "name": "stdout",
     "output_type": "stream",
     "text": [
      "Hard 결과: \n",
      " ### 1. 문서별 핵심 데이터 정리\n",
      "- **문서1**: 서울은 대한민국의 수도이며, 한강을 끼고 발달한 도시이다.\n",
      "- **문서2**: 서울의 대표적 관광지는 경복궁, 남산타워, 명동 등이다.\n",
      "- **문서3**: 서울의 인구는 약 천만 명이며, 교통·문화 인프라가 잘 갖춰져 있다.\n",
      "\n",
      "### 2. 데이터 간 상호관계 분석\n",
      "- **인구와 관광지**: 서울의 인구가 약 천만 명이라는 것은 도시가 활기차고 다양한 문화적 활동이 이루어짐을 의미한다. 많은 인구는 관광객들에게 다양한 서비스와 편의시설을 제공할 수 있는 기반이 된다. 또한, 많은 관광객이 방문할 경우, 관광지의 활성화와 경제적 이익이 증가하게 된다.\n",
      "  \n",
      "- **관광지와 교통 인프라**: 서울의 대표 관광지인 경복궁, 남산타워, 명동은 모두 교통 인프라가 잘 갖춰져 있는 지역에 위치해 있다. 이는 관광객들이 쉽게 접근할 수 있도록 하여 관광의 편리함을 더한다. 잘 발달된 교통망은 관광지 간 이동을 원활하게 하여 여행의 효율성을 높인다.\n",
      "\n",
      "- **인구와 교통 인프라**: 약 천만 명의 인구는 교통 인프라의 필요성을 증가시킨다. 서울은 이러한 인구를 수용하기 위해 대중교통 시스템을 지속적으로 발전시켜 왔으며, 이는 관광객들에게도 큰 장점이 된다. 대중교통이 잘 발달되어 있어 관광객들이 쉽게 이동할 수 있다.\n",
      "\n",
      "### 3. 분석 기반 이유 서술\n",
      "서울은 약 천만 명의 인구를 가진 대도시로, 다양한 문화와 역사적 자원을 보유하고 있다. 경복궁, 남산타워, 명동과 같은 대표 관광지는 서울의 풍부한 역사와 현대적 매력을 동시에 경험할 수 있는 장소들이다. 이러한 관광지는 잘 발달된 교통 인프라 덕분에 쉽게 접근할 수 있어, 관광객들이 편리하게 여행할 수 있는 환경을 제공한다. 대중교통이 잘 갖춰져 있어 이동이 용이하며, 이는 관광의 효율성을 높여준다. 따라서 서울은 인구, 관광지, 교통 인프라가 조화를 이루어 여행하기에 매우 적합한 도시라고 할 수 있다.\n",
      "\n",
      "### 최종 답변\n",
      "**서론**: 서울은 대한민국의 수도로서, 약 천만 명의 인구를 가진 대도시입니다. 이 도시는 풍부한 역사적 자원과 현대적 매력을 동시에 지니고 있으며, 잘 발달된 교통 인프라를 통해 관광객들에게 편리한 여행 환경을 제공합니다.\n",
      "\n",
      "**본론**: 서울의 대표적 관광지인 경복궁, 남산타워, 명동은 모두 많은 인구가 밀집해 있는 지역에 위치해 있어, 다양한 문화적 경험을 제공합니다. 이러한 관광지는 대중교통이 잘 발달되어 있어 관광객들이 쉽게 접근할 수 있으며, 이는 여행의 편리함을 더합니다. 또한, 서울의 인구는 관광객들에게 다양한 서비스와 편의시설을 제공할 수 있는 기반이 되어, 관광의 활성화에 기여합니다.\n",
      "\n",
      "**결론**: 종합적으로 볼 때, 서울은 인구, 관광지, 교통 인프라가 조화를 이루어 여행하기에 매우 적합한 도시입니다. 이러한 요소들은 관광객들에게 풍부한 경험을 제공하며, 서울을 매력적인 여행지로 만들어 줍니다.\n"
     ]
    }
   ],
   "source": [
    "prompt_hard = PromptTemplate(\n",
    "    input_variables=[\"doc1\",\"doc2\",\"doc3\",\"question\"],\n",
    "    # template=\"\"\"아래 문서들을 바탕으로 심층 분석을 수행하세요.\n",
    "    template=\"\"\"아래 문서들을 바탕으로 지시사항에 따라 심층 분석을 수행하세요.\n",
    "\n",
    "=== 문서1 ===\n",
    "{doc1}\n",
    "\n",
    "=== 문서2 ===\n",
    "{doc2}\n",
    "\n",
    "=== 문서3 ===\n",
    "{doc3}\n",
    "\n",
    "질문: {question}\n",
    "\n",
    "[지시사항]\n",
    "1. 문서별 핵심 데이터(인구·관광·교통) 정리  \n",
    "2. 데이터 간 상호관계 분석  \n",
    "3. 분석 기반 이유 서술  \n",
    "4. **최종 답변**: 서론·본론·결론 구조로 제시\n",
    "\"\"\"\n",
    ")\n",
    "\n",
    "chain_hard = prompt_hard | llm | StrOutputParser()\n",
    "# chain_hard = prompt_hard | llm | FinalAnswerParser()\n",
    "result_hard = chain_hard.invoke({\n",
    "    \"doc1\": retrieved[0],\n",
    "    \"doc2\": retrieved[1],\n",
    "    \"doc3\": retrieved[2] if len(retrieved) > 2 else \"\",\n",
    "    \"question\": query\n",
    "})\n",
    "print(\"Hard 결과: \\n\", result_hard)"
   ]
  },
  {
   "cell_type": "code",
   "execution_count": null,
   "id": "2dc899f4",
   "metadata": {},
   "outputs": [],
   "source": []
  }
 ],
 "metadata": {
  "kernelspec": {
   "display_name": "Python 3",
   "language": "python",
   "name": "python3"
  },
  "language_info": {
   "codemirror_mode": {
    "name": "ipython",
    "version": 3
   },
   "file_extension": ".py",
   "mimetype": "text/x-python",
   "name": "python",
   "nbconvert_exporter": "python",
   "pygments_lexer": "ipython3",
   "version": "3.11.11"
  }
 },
 "nbformat": 4,
 "nbformat_minor": 5
}
