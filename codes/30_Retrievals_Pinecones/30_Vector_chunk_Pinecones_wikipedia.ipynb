{
 "cells": [
  {
   "cell_type": "code",
   "execution_count": 1,
   "id": "b295c59e",
   "metadata": {},
   "outputs": [],
   "source": [
    "from dotenv import load_dotenv\n",
    "import os\n",
    "\n",
    "load_dotenv()\n",
    "\n",
    "PINECONE_API_KEY = os.getenv(\"PINECONE_API_KEY\")\n",
    "OPENAI_API_KEY = os.getenv(\"OPENAI_API_KEY\")"
   ]
  },
  {
   "cell_type": "code",
   "execution_count": 2,
   "id": "ebfc0c1e",
   "metadata": {},
   "outputs": [],
   "source": [
    "from langchain_openai import OpenAIEmbeddings\n",
    "\n",
    "embeddings = OpenAIEmbeddings(\n",
    "    model=\"text-embedding-3-small\", \n",
    "    api_key=OPENAI_API_KEY\n",
    ")"
   ]
  },
  {
   "cell_type": "code",
   "execution_count": 3,
   "id": "ec06665f",
   "metadata": {},
   "outputs": [
    {
     "name": "stderr",
     "output_type": "stream",
     "text": [
      "/usr/local/lib/python3.11/site-packages/tqdm/auto.py:21: TqdmWarning: IProgress not found. Please update jupyter and ipywidgets. See https://ipywidgets.readthedocs.io/en/stable/user_install.html\n",
      "  from .autonotebook import tqdm as notebook_tqdm\n"
     ]
    }
   ],
   "source": [
    "from pinecone import Pinecone, ServerlessSpec\n",
    "\n",
    "# API 키 설정 (본인의 API 키로 교체하세요)\n",
    "pcone = Pinecone(api_key=PINECONE_API_KEY)   # Pinecone API 키 입력\n",
    "\n",
    "# Pinecone 인덱스 생성\n",
    "index_name = \"wiki-vector-index\"  # 인덱스 이름 설정\n",
    "if not pcone.has_index(index_name):\n",
    "    pcone.create_index(\n",
    "        name=index_name,\n",
    "        dimension=1536,            # 임베딩 벡터 차원 (모델 output 크기와 맞춤)\n",
    "        metric=\"cosine\",           # 유사도 metric 선택\n",
    "        spec=ServerlessSpec(\n",
    "            cloud=\"aws\",\n",
    "            region=\"us-east-1\"\n",
    "        )\n",
    "    )\n",
    "# 생성된 인덱스에 연결\n",
    "wiki_index = pcone.Index(index_name)"
   ]
  },
  {
   "cell_type": "code",
   "execution_count": 5,
   "id": "e0d6ef6e",
   "metadata": {},
   "outputs": [],
   "source": [
    "from datasets import load_dataset\n",
    "data = load_dataset(\"wikipedia\", \"20220301.simple\", split=\"train[:100]\", trust_remote_code=True)"
   ]
  },
  {
   "cell_type": "code",
   "execution_count": 12,
   "id": "727532e4",
   "metadata": {},
   "outputs": [
    {
     "name": "stdout",
     "output_type": "stream",
     "text": [
      "id\n",
      "url\n",
      "title\n",
      "text\n"
     ]
    }
   ],
   "source": [
    "for record in data[:3]:\n",
    "    print(record)"
   ]
  },
  {
   "cell_type": "code",
   "execution_count": 7,
   "id": "a9ce9ed2",
   "metadata": {},
   "outputs": [
    {
     "data": {
      "text/plain": [
       "100"
      ]
     },
     "execution_count": 7,
     "metadata": {},
     "output_type": "execute_result"
    }
   ],
   "source": [
    "len(data)"
   ]
  },
  {
   "cell_type": "code",
   "execution_count": 8,
   "id": "45d67987",
   "metadata": {},
   "outputs": [],
   "source": [
    "from langchain.text_splitter import RecursiveCharacterTextSplitter\n",
    "\n",
    "splitter = RecursiveCharacterTextSplitter(\n",
    "    chunk_size=400,\n",
    "    chunk_overlap=20,\n",
    "    length_function=len,\n",
    "    separators=[\"\\n\\n\", \"\\n\", \" \", \"\"]\n",
    ")"
   ]
  },
  {
   "cell_type": "code",
   "execution_count": 9,
   "id": "843d9776",
   "metadata": {},
   "outputs": [
    {
     "data": {
      "text/plain": [
       "dict_keys(['id', 'url', 'title', 'text'])"
      ]
     },
     "execution_count": 9,
     "metadata": {},
     "output_type": "execute_result"
    }
   ],
   "source": [
    "data[0].keys()"
   ]
  },
  {
   "cell_type": "code",
   "execution_count": 10,
   "id": "464f55f8",
   "metadata": {},
   "outputs": [
    {
     "name": "stdout",
     "output_type": "stream",
     "text": [
      "Upserted 100 records\n",
      "Upserted 200 records\n",
      "Upserted 300 records\n",
      "Upserted 400 records\n",
      "Upserted 500 records\n",
      "Upserted 600 records\n",
      "Upserted 700 records\n",
      "Upserted 800 records\n",
      "Upserted 900 records\n",
      "Upserted 1000 records\n",
      "Upserted 1100 records\n",
      "Upserted 1200 records\n",
      "Upserted 1300 records\n",
      "Upserted 1400 records\n",
      "Upserted 1500 records\n"
     ]
    }
   ],
   "source": [
    "texts = []\n",
    "metas = []\n",
    "batch_size = 100\n",
    "count = 0\n",
    "\n",
    "for i, sample in enumerate(data):\n",
    "    text = sample[\"text\"]\n",
    "    metadata = {\n",
    "        \"title\": sample[\"title\"],\n",
    "        \"wiki_id\": sample[\"id\"],\n",
    "        \"url\": sample[\"url\"]\n",
    "    }\n",
    "\n",
    "    chunks = splitter.split_text(text)\n",
    "    for i, chunk in enumerate(chunks):\n",
    "        record = {\n",
    "            \"chunk_id\": i,\n",
    "            \"text\": text,\n",
    "            **metadata\n",
    "        }\n",
    "\n",
    "        texts.append(chunk)\n",
    "        metas.append(record)\n",
    "        count += 1\n",
    "\n",
    "        if count % batch_size == 0:\n",
    "            vectors = embeddings.embed_documents(texts)\n",
    "            ids = [f\"{record['wiki_id']}_{record['chunk_id']}\" for record in metas]\n",
    "            wiki_index.upsert(zip(ids, vectors, metas))\n",
    "            texts = []\n",
    "            metas = []\n",
    "            print(f\"Upserted {count} records\")\n",
    "\n",
    "            \n",
    "\n",
    "\n"
   ]
  },
  {
   "cell_type": "code",
   "execution_count": 11,
   "id": "9b319fa5",
   "metadata": {},
   "outputs": [
    {
     "name": "stdout",
     "output_type": "stream",
     "text": [
      "{'chunk_id': 0.0, 'title': 'Belgium', 'url': 'https://simple.wikipedia.org/wiki/Belgium', 'wiki_id': '103'}\n",
      "{'chunk_id': 20.0, 'title': 'Belgium', 'url': 'https://simple.wikipedia.org/wiki/Belgium', 'wiki_id': '103'}\n",
      "{'chunk_id': 2.0, 'title': 'Belgium', 'url': 'https://simple.wikipedia.org/wiki/Belgium', 'wiki_id': '103'}\n",
      "{'chunk_id': 19.0, 'title': 'Belgium', 'url': 'https://simple.wikipedia.org/wiki/Belgium', 'wiki_id': '103'}\n",
      "{'chunk_id': 4.0, 'title': 'Belgium', 'url': 'https://simple.wikipedia.org/wiki/Belgium', 'wiki_id': '103'}\n"
     ]
    }
   ],
   "source": [
    "from langchain_pinecone import PineconeVectorStore\n",
    "\n",
    "vector_store = PineconeVectorStore(\n",
    "    index=wiki_index,\n",
    "    embedding=embeddings,\n",
    "    text_key=\"text\"\n",
    ")\n",
    "\n",
    "question = \"벨기에(Belgium)는 어디 있나요?\"\n",
    "\n",
    "docs = vector_store.similarity_search(query=question, k=5)\n",
    "for doc in docs:\n",
    "    print(doc.metadata)"
   ]
  }
 ],
 "metadata": {
  "kernelspec": {
   "display_name": "Python 3",
   "language": "python",
   "name": "python3"
  },
  "language_info": {
   "codemirror_mode": {
    "name": "ipython",
    "version": 3
   },
   "file_extension": ".py",
   "mimetype": "text/x-python",
   "name": "python",
   "nbconvert_exporter": "python",
   "pygments_lexer": "ipython3",
   "version": "3.11.11"
  }
 },
 "nbformat": 4,
 "nbformat_minor": 5
}
