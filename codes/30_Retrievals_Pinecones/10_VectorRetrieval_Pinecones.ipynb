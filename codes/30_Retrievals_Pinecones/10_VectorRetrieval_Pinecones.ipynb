{
 "cells": [
  {
   "cell_type": "markdown",
   "id": "0683fc1a",
   "metadata": {},
   "source": [
    "#### 11.벡터 검색.md"
   ]
  },
  {
   "cell_type": "code",
   "execution_count": 1,
   "id": "f73d3da9",
   "metadata": {},
   "outputs": [
    {
     "name": "stderr",
     "output_type": "stream",
     "text": [
      "/usr/local/lib/python3.11/site-packages/tqdm/auto.py:21: TqdmWarning: IProgress not found. Please update jupyter and ipywidgets. See https://ipywidgets.readthedocs.io/en/stable/user_install.html\n",
      "  from .autonotebook import tqdm as notebook_tqdm\n"
     ]
    }
   ],
   "source": [
    "# !pip install -qU pinecone openai\n",
    "import os\n",
    "from dotenv import load_dotenv\n",
    "load_dotenv()  # .env 파일의 환경변수 로드\n",
    "\n",
    "# Pinecone 연결 및 인덱스 초기화\n",
    "import pinecone\n",
    "from pinecone import Pinecone as PineconeClient\n",
    "\n",
    "# API 키와 환경명 가져오기\n",
    "PINECONE_API_KEY = os.getenv(\"PINECONE_API_KEY\")\n",
    "OPENAI_API_KEY = os.getenv(\"OPENAI_API_KEY\")"
   ]
  },
  {
   "cell_type": "code",
   "execution_count": 2,
   "id": "b1609d70",
   "metadata": {},
   "outputs": [],
   "source": [
    "from pinecone import Pinecone, ServerlessSpec\n",
    "\n",
    "# API 키 설정 (본인의 API 키로 교체하세요)\n",
    "pcone = Pinecone(api_key=PINECONE_API_KEY)   # Pinecone API 키 입력\n",
    "\n",
    "# Pinecone 인덱스 생성\n",
    "index_name = \"movie-vector-index\"  # 인덱스 이름 설정\n",
    "if not pcone.has_index(index_name):\n",
    "    pcone.create_index(\n",
    "        name=index_name,\n",
    "        dimension=1536,            # 임베딩 벡터 차원 (모델 output 크기와 맞춤)\n",
    "        metric=\"cosine\",           # 유사도 metric 선택\n",
    "        spec=ServerlessSpec(\n",
    "            cloud=\"aws\",\n",
    "            region=\"us-east-1\"\n",
    "        )\n",
    "    )\n",
    "# 생성된 인덱스에 연결\n",
    "index = pcone.Index(index_name)"
   ]
  },
  {
   "cell_type": "code",
   "execution_count": 3,
   "id": "ff0dc976",
   "metadata": {},
   "outputs": [],
   "source": [
    "# 예시 한글 영화 데이터셋 정의\n",
    "movies = [\n",
    "    {\n",
    "        \"id\": \"movie1\",\n",
    "        \"title\": \"7번방의 선물\",\n",
    "        \"year\": 2013,\n",
    "        \"genre\": \"드라마\",\n",
    "        \"description\": \"억울한 누명을 쓰고 교도소에 수감된 아빠와 그의 어린 딸의 감동적인 스토리\"\n",
    "    },\n",
    "    {\n",
    "        \"id\": \"movie2\",\n",
    "        \"title\": \"미나리\",\n",
    "        \"year\": 2020,\n",
    "        \"genre\": \"드라마\",\n",
    "        \"description\": \"한국계 미국인 가족의 따뜻하고 감성적인 성장 이야기\"\n",
    "    },\n",
    "    {\n",
    "        \"id\": \"movie3\",\n",
    "        \"title\": \"기생충\",\n",
    "        \"year\": 2019,\n",
    "        \"genre\": \"드라마\",\n",
    "        \"description\": \"가난한 가족과 부자 가족 사이의 빈부격차를 그린 사회 풍자 드라마\"\n",
    "    },\n",
    "    {\n",
    "        \"id\": \"movie4\",\n",
    "        \"title\": \"범죄도시\",\n",
    "        \"year\": 2017,\n",
    "        \"genre\": \"범죄\",\n",
    "        \"description\": \"형사가 범죄 조직을 소탕하는 범죄 액션 영화\"\n",
    "    },\n",
    "    {\n",
    "        \"id\": \"movie5\",\n",
    "        \"title\": \"범죄도시 2\",\n",
    "        \"year\": 2022,\n",
    "        \"genre\": \"범죄\",\n",
    "        \"description\": \"형사와 범죄 조직의 대결을 그린 범죄 액션 영화의 속편\"\n",
    "    },\n",
    "    {\n",
    "        \"id\": \"movie6\",\n",
    "        \"title\": \"헤어질 결심\",\n",
    "        \"year\": 2022,\n",
    "        \"genre\": \"범죄\",\n",
    "        \"description\": \"산에서 발생한 의문의 죽음(살인 사건)을 수사하던 형사가 피의자에게 이끌리며 벌어지는 미스터리 멜로 영화\"\n",
    "    },\n",
    "    {\n",
    "        \"id\": \"movie7\",\n",
    "        \"title\": \"다만 악에서 구하소서\",\n",
    "        \"year\": 2020,\n",
    "        \"genre\": \"범죄\",\n",
    "        \"description\": \"청부 살인업자와 범죄 조직의 마지막 거래를 그린 범죄 액션 영화\"\n",
    "    }\n",
    "]"
   ]
  },
  {
   "cell_type": "code",
   "execution_count": 4,
   "id": "d6a1d85e",
   "metadata": {},
   "outputs": [],
   "source": [
    "from langchain_openai import OpenAIEmbeddings\n",
    "\n",
    "openai_embeddings = OpenAIEmbeddings(\n",
    "    model=\"text-embedding-3-small\",  # OpenAI 임베딩 모델 선택\n",
    "    api_key=OPENAI_API_KEY  # OpenAI API 키 설정\n",
    ")"
   ]
  },
  {
   "cell_type": "code",
   "execution_count": 5,
   "id": "cb507875",
   "metadata": {},
   "outputs": [
    {
     "name": "stdout",
     "output_type": "stream",
     "text": [
      "임베딩 벡터 차원: 1536\n"
     ]
    }
   ],
   "source": [
    "# 모든 영화 설명에 대해 임베딩 벡터 생성\n",
    "descriptions = [movie[\"description\"] for movie in movies]        # 설명문 리스트\n",
    "movie_vectors = openai_embeddings.embed_documents(descriptions)         # 각 설명문에 대한 임베딩 벡터 리스트 생성\n",
    "\n",
    "# 임베딩 벡터의 차원 확인 (예상: 1536차원)\n",
    "print(f\"임베딩 벡터 차원: {len(movie_vectors[0])}\")"
   ]
  },
  {
   "cell_type": "code",
   "execution_count": 6,
   "id": "0617a526",
   "metadata": {},
   "outputs": [
    {
     "data": {
      "text/plain": [
       "{'upserted_count': 7}"
      ]
     },
     "execution_count": 6,
     "metadata": {},
     "output_type": "execute_result"
    }
   ],
   "source": [
    "# Pinecone에 벡터 업로드 (upsert)\n",
    "# 각 레코드는 (id, 벡터, metadata)의 형태로 준비\n",
    "vector_data = []\n",
    "for movie, vector in zip(movies, movie_vectors):\n",
    "    # metadata로 title, genre, year, description 저장\n",
    "    meta = {\n",
    "        \"title\": movie[\"title\"],\n",
    "        \"genre\": movie[\"genre\"],\n",
    "        \"year\": movie[\"year\"],\n",
    "        \"description\": movie[\"description\"]\n",
    "    }\n",
    "    vector_data.append((movie[\"id\"], vector, meta))\n",
    "\n",
    "# 벡터들을 Pinecone 인덱스에 업서트\n",
    "index.upsert(vectors=vector_data)"
   ]
  },
  {
   "cell_type": "code",
   "execution_count": null,
   "id": "88965871",
   "metadata": {},
   "outputs": [
    {
     "name": "stdout",
     "output_type": "stream",
     "text": [
      "기생충 - 2019.0 (드라마) : , Score: 0.3915\n",
      "7번방의 선물 - 2013.0 (드라마) : , Score: 0.3618\n",
      "범죄도시 - 2017.0 (범죄) : , Score: 0.3376\n"
     ]
    }
   ],
   "source": [
    "# 검색 쿼리 예시\n",
    "query = \"감성적인 드라마 영화 추천해줘\"\n",
    "\n",
    "# 쿼리 임베딩 생성\n",
    "query_vector = openai_embeddings.embed_query(query)\n",
    "# Pinecone에서 벡터 유사도 검색 수행 (코사인 유사도 기반)\n",
    "# 상위 3개의 가장 가까운 벡터를 찾고, 메타데이터를 포함하여 반환\n",
    "result = index.query(vector=query_vector, top_k=3, threshold=0.5\n",
    "                     , filter=None, include_metadata=True)\n",
    "\n",
    "# 결과 출력: 각 결과의 제목, 연도, 장르를 표시\n",
    "for match in result[\"matches\"]:\n",
    "    info = match[\"metadata\"]\n",
    "    print(f\"{info['title']} - {info['year']} ({info['genre']}) : , Score: {match['score']:.4f}\")"
   ]
  },
  {
   "cell_type": "code",
   "execution_count": 12,
   "id": "1add106c",
   "metadata": {},
   "outputs": [
    {
     "data": {
      "text/plain": [
       "3"
      ]
     },
     "execution_count": 12,
     "metadata": {},
     "output_type": "execute_result"
    }
   ],
   "source": [
    "# result?\n",
    "len(result[\"matches\"])"
   ]
  },
  {
   "cell_type": "code",
   "execution_count": 8,
   "id": "c670a6d0",
   "metadata": {},
   "outputs": [
    {
     "name": "stdout",
     "output_type": "stream",
     "text": [
      "범죄도시 2 - 2022.0 (범죄) : , Score: 0.5317\n",
      "헤어질 결심 - 2022.0 (범죄) : , Score: 0.2816\n"
     ]
    }
   ],
   "source": [
    "# 하이브리드 검색 예시: \"2020년 이후의 범죄 영화 보여줘\"\n",
    "hybrid_query = \"2020년 이후의 범죄 영화 보여줘\"\n",
    "hybrid_query = \"2022년 이후의 범죄 영화 보여줘\"\n",
    "\n",
    "# 쿼리 임베딩 벡터 생성\n",
    "hybrid_vector = openai_embeddings.embed_query(hybrid_query)\n",
    "\n",
    "# 필터 조건 설정: 2020년 이후 & 장르 범죄\n",
    "hybrid_filter = {\n",
    "    # \"year\": {\"$gte\": 2020},\n",
    "    \"year\": {\"$gte\": 2022},\n",
    "    \"genre\": {\"$eq\": \"범죄\"}\n",
    "}\n",
    "\n",
    "# Pinecone 검색 실행 (쿼리+필터)\n",
    "# threshold 값을 적절히 조정하려면, 결과의 score 분포를 확인하고 원하는 상위 결과만 필터링할 수 있습니다.\n",
    "# 예를 들어, 상위 결과 중 score가 0.3 이상인 것만 보고 싶다면 threshold=0.3으로 설정합니다.\n",
    "# 여러 쿼리에서 score 분포를 확인한 뒤, 실제로 원하는 결과가 포함되는 최소 score를 threshold로 정하면 됩니다.\n",
    "\n",
    "# 예시: score가 0.3 이상인 결과만 반환\n",
    "result3 = index.query(\n",
    "    vector=hybrid_vector,\n",
    "    top_k=3,\n",
    "    threshold=0.3,  # 원하는 최소 score로 조정\n",
    "    filter=hybrid_filter,\n",
    "    include_metadata=True\n",
    ")\n",
    "\n",
    "for match in result3[\"matches\"]:\n",
    "    info = match[\"metadata\"]\n",
    "    print(f\"{info['title']} - {info['year']} ({info['genre']}) : , Score: {match['score']:.4f}\")"
   ]
  },
  {
   "cell_type": "code",
   "execution_count": null,
   "id": "3ab156e8",
   "metadata": {},
   "outputs": [],
   "source": []
  }
 ],
 "metadata": {
  "kernelspec": {
   "display_name": "Python 3",
   "language": "python",
   "name": "python3"
  },
  "language_info": {
   "codemirror_mode": {
    "name": "ipython",
    "version": 3
   },
   "file_extension": ".py",
   "mimetype": "text/x-python",
   "name": "python",
   "nbconvert_exporter": "python",
   "pygments_lexer": "ipython3",
   "version": "3.11.11"
  }
 },
 "nbformat": 4,
 "nbformat_minor": 5
}
