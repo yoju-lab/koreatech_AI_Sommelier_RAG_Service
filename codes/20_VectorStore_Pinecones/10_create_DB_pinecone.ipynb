{
 "cells": [
  {
   "cell_type": "code",
   "execution_count": 2,
   "id": "5dcc5b32",
   "metadata": {},
   "outputs": [],
   "source": [
    "import os\n",
    "from dotenv import load_dotenv\n",
    "load_dotenv()  # .env 파일의 환경변수 로드\n",
    "\n",
    "# API 키와 환경명 가져오기\n",
    "PINECONE_API_KEY = os.getenv(\"PINECONE_API_KEY\")\n",
    "OPENAI_API_KEY = os.getenv(\"OPENAI_API_KEY\")"
   ]
  },
  {
   "cell_type": "code",
   "execution_count": null,
   "id": "551f3108",
   "metadata": {},
   "outputs": [
    {
     "data": {
      "text/plain": [
       "{\n",
       "    \"name\": \"aws-embeddings-demo\",\n",
       "    \"metric\": \"cosine\",\n",
       "    \"host\": \"aws-embeddings-demo-07jmqhn.svc.aped-4627-b74a.pinecone.io\",\n",
       "    \"spec\": {\n",
       "        \"serverless\": {\n",
       "            \"cloud\": \"aws\",\n",
       "            \"region\": \"us-east-1\"\n",
       "        }\n",
       "    },\n",
       "    \"status\": {\n",
       "        \"ready\": true,\n",
       "        \"state\": \"Ready\"\n",
       "    },\n",
       "    \"vector_type\": \"dense\",\n",
       "    \"dimension\": 1536,\n",
       "    \"deletion_protection\": \"disabled\",\n",
       "    \"tags\": null\n",
       "}"
      ]
     },
     "execution_count": 7,
     "metadata": {},
     "output_type": "execute_result"
    }
   ],
   "source": [
    "from pinecone import Pinecone, ServerlessSpec\n",
    "\n",
    "pcone = Pinecone(\n",
    "    api_key=PINECONE_API_KEY,\n",
    ")\n",
    "\n",
    "# 서버리스 인덱스 생성\n",
    "pcone.create_index(\n",
    "    name=\"aws-embeddings-demo\",  # 인덱스 이름\n",
    "    dimension=1536,  # OpenAI 임베딩 차원\n",
    "    metric=\"cosine\",  # 유사도 측정 방법, Embedding 모델에 따라 다름\n",
    "    spec=ServerlessSpec(\n",
    "        cloud=\"aws\",  # 클라우드 제공자\n",
    "        region=\"us-east-1\",  # 리전 설정\n",
    "    ),\n",
    ")"
   ]
  },
  {
   "cell_type": "code",
   "execution_count": null,
   "id": "0b37eee4",
   "metadata": {},
   "outputs": [],
   "source": []
  },
  {
   "cell_type": "code",
   "execution_count": null,
   "id": "faeac74b",
   "metadata": {},
   "outputs": [],
   "source": []
  }
 ],
 "metadata": {
  "kernelspec": {
   "display_name": "Python 3",
   "language": "python",
   "name": "python3"
  },
  "language_info": {
   "codemirror_mode": {
    "name": "ipython",
    "version": 3
   },
   "file_extension": ".py",
   "mimetype": "text/x-python",
   "name": "python",
   "nbconvert_exporter": "python",
   "pygments_lexer": "ipython3",
   "version": "3.11.11"
  }
 },
 "nbformat": 4,
 "nbformat_minor": 5
}
