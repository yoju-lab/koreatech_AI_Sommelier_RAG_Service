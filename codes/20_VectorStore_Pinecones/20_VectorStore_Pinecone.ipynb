{
 "cells": [
  {
   "cell_type": "code",
   "execution_count": 9,
   "id": "5dcc5b32",
   "metadata": {},
   "outputs": [
    {
     "name": "stdout",
     "output_type": "stream",
     "text": [
      "Index 'aws-embeddings-demo' is ready: {'dimension': 1536,\n",
      " 'index_fullness': 0.0,\n",
      " 'metric': 'cosine',\n",
      " 'namespaces': {'': {'vector_count': 3}},\n",
      " 'total_vector_count': 3,\n",
      " 'vector_type': 'dense'}\n"
     ]
    }
   ],
   "source": [
    "import os\n",
    "from dotenv import load_dotenv\n",
    "load_dotenv()  # .env 파일의 환경변수 로드\n",
    "\n",
    "# Pinecone 연결 및 인덱스 초기화\n",
    "import pinecone\n",
    "from pinecone import Pinecone as PineconeClient\n",
    "\n",
    "# API 키와 환경명 가져오기\n",
    "pinecone_api_key = os.getenv(\"PINECONE_API_KEY\")\n",
    "pinecone_env = os.getenv(\"PINECONE_ENVIRONMENT\")\n",
    "\n",
    "# Pinecone 클라이언트 초기화\n",
    "pc = PineconeClient(api_key=pinecone_api_key, environment=pinecone_env)\n",
    "\n",
    "# 사용할 인덱스 이름과 임베딩 차원 설정, 10_create_DB_pinecone.py에서 정의한 것과 동일\n",
    "index_name = \"aws-embeddings-demo\"\n",
    "embedding_dim = 1536  # text-embedding-3-small의 벡터 차원\n",
    "\n",
    "# 인덱스 생성 (없으면 새로 생성, 이미 존재하면 넘어감)\n",
    "if not pc.has_index(index_name):\n",
    "    pc.create_index(name=index_name, dimension=embedding_dim)\n",
    "\n",
    "# 인덱스 객체 연결\n",
    "index = pc.Index(index_name)\n",
    "# 인덱스 상태 확인\n",
    "print(f\"Index '{index_name}' is ready: {index.describe_index_stats()}\")"
   ]
  },
  {
   "cell_type": "code",
   "execution_count": 10,
   "id": "a3ea84ae",
   "metadata": {},
   "outputs": [],
   "source": [
    "# OpenAI 임베딩 모델 설정 (text-embedding-3-small 사용)\n",
    "from langchain_openai import OpenAIEmbeddings\n",
    "embeddings = OpenAIEmbeddings(model=\"text-embedding-3-small\")"
   ]
  },
  {
   "cell_type": "code",
   "execution_count": 11,
   "id": "551f3108",
   "metadata": {},
   "outputs": [
    {
     "name": "stdout",
     "output_type": "stream",
     "text": [
      "현재 벡터 DB 내 벡터 개수: 6\n"
     ]
    }
   ],
   "source": [
    "from langchain_core.documents import Document\n",
    "\n",
    "# 예시 문서 생성 (내용과 메타데이터)\n",
    "doc1 = Document(page_content=\"Building an exciting new project with LangChain - come check it out!\",\n",
    "                metadata={\"source\": \"tweet\"})\n",
    "doc2 = Document(page_content=\"The weather forecast for tomorrow is cloudy and overcast, with a high of 62 degrees.\",\n",
    "                metadata={\"source\": \"news\"})\n",
    "doc3 = Document(page_content=\"LangGraph is the best framework for building stateful, agentic applications!\",\n",
    "                metadata={\"source\": \"tweet\"})\n",
    "\n",
    "# 벡터스토어 초기화 (PineconeVectorStore에 Pinecone 인덱스와 임베딩 객체 연결)\n",
    "from langchain_pinecone import PineconeVectorStore\n",
    "vector_store = PineconeVectorStore(index=index, embedding=embeddings)\n",
    "\n",
    "# 문서들을 벡터 임베딩하여 Pinecone에 저장\n",
    "vector_store.add_documents([doc1, doc2, doc3])\n",
    "print(f\"현재 벡터 DB 내 벡터 개수: {index.describe_index_stats()['total_vector_count']}\")  # 벡터 총량 출력"
   ]
  },
  {
   "cell_type": "code",
   "execution_count": null,
   "id": "a54a1198",
   "metadata": {},
   "outputs": [],
   "source": []
  }
 ],
 "metadata": {
  "kernelspec": {
   "display_name": "Python 3",
   "language": "python",
   "name": "python3"
  },
  "language_info": {
   "codemirror_mode": {
    "name": "ipython",
    "version": 3
   },
   "file_extension": ".py",
   "mimetype": "text/x-python",
   "name": "python",
   "nbconvert_exporter": "python",
   "pygments_lexer": "ipython3",
   "version": "3.11.11"
  }
 },
 "nbformat": 4,
 "nbformat_minor": 5
}
