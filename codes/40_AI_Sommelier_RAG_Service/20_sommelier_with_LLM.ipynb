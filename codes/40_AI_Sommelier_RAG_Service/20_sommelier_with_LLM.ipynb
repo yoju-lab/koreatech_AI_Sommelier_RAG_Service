{
 "cells": [
  {
   "cell_type": "code",
   "execution_count": 9,
   "id": "d10bae09",
   "metadata": {},
   "outputs": [
    {
     "data": {
      "text/plain": [
       "True"
      ]
     },
     "execution_count": 9,
     "metadata": {},
     "output_type": "execute_result"
    }
   ],
   "source": [
    "from dotenv import load_dotenv\n",
    "\n",
    "load_dotenv()"
   ]
  },
  {
   "cell_type": "code",
   "execution_count": 10,
   "id": "688be631",
   "metadata": {},
   "outputs": [],
   "source": [
    "import os\n",
    "\n",
    "OPENAI_API_KEY = os.getenv(\"OPENAI_API_KEY\")\n",
    "OPENAI_LLM_MODEL = os.getenv(\"OPENAI_LLM_MODEL\")\n",
    "OPENAI_EMBEDDING_MODEL = os.getenv(\"OPENAI_EMBEDDING_MODEL\")\n",
    "PINECONE_API_KEY = os.getenv(\"PINECONE_API_KEY\")\n",
    "PINECONE_ENVIRONMENT = os.getenv(\"PINECONE_ENVIRONMENT\")\n",
    "PINECONE_INDEX_REGION = os.getenv(\"PINECONE_INDEX_REGION\")\n",
    "PINECONE_INDEX_CLOUD = os.getenv(\"PINECONE_INDEX_CLOUD\")\n",
    "PINECONE_INDEX_NAME = os.getenv(\"PINECONE_INDEX_NAME\")\n",
    "PINECONE_INDEX_METRIC = os.getenv(\"PINECONE_INDEX_METRIC\")\n",
    "PINECONE_INDEX_DIMENSION = int(os.getenv(\"PINECONE_INDEX_DIMENSION\"))\n",
    "# PINECONE_API_KEY\n"
   ]
  },
  {
   "cell_type": "code",
   "execution_count": 11,
   "id": "6f78c185",
   "metadata": {},
   "outputs": [],
   "source": [
    "from langchain_openai import ChatOpenAI\n",
    "\n",
    "llm = ChatOpenAI(\n",
    "    model_name=OPENAI_LLM_MODEL,\n",
    "    temperature=0.2,\n",
    "    # max_tokens=1000,\n",
    "    openai_api_key=OPENAI_API_KEY,\n",
    ")"
   ]
  },
  {
   "cell_type": "code",
   "execution_count": 12,
   "id": "252e86fd",
   "metadata": {},
   "outputs": [],
   "source": [
    "sommelier = f'''You are a sommelier with expertise in wine selection and food pairing. Your role is to provide personalized wine recommendations based on individual preferences, specific occasions, and particular dishes. You have extensive knowledge of grape varieties, regions, tasting notes, and how different wines complement various foods. You stay updated on the latest trends in the wine world and can suggest both traditional and adventurous wines. Your goal is to enhance the dining experience through thoughtful wine pairings.\n",
    "Persona:\n",
    "\n",
    "\n",
    "            As a sommelier, I possess an extensive knowledge of wines, including grape varieties, regions, tasting notes, and food pairings. I am highly skilled in recommending wines based on individual preferences, specific occasions, and particular dishes. My expertise includes understanding wine production methods, flavor profiles, and how they interact with different foods. I also stay updated on the latest trends in the wine world and am capable of suggesting wines that are both traditional and adventurous. I strive to provide personalized, thoughtful recommendations to enhance the dining experience.\n",
    "\n",
    "\n",
    "            Role:\n",
    "\n",
    "\n",
    "            1. Wine & Food Pairing: I offer detailed wine recommendations that pair harmoniously with specific dishes, balancing flavors and enhancing the overall dining experience. Whether it's a simple snack or an elaborate meal, I suggest wines that complement the texture, taste, and style of the food.\n",
    "            2. Wine Selection Guidance: For various occasions (celebrations, formal dinners, casual gatherings), I assist in selecting wines that suit the event and align with the preferences of the individuals involved.\n",
    "            3. Wine Tasting Expertise: I can help identify wines based on tasting notes like acidity, tannin levels, sweetness, and body, providing insights into what makes a wine unique.\n",
    "            4. Explaining Wine Terminology: I simplify complex wine terminology, making it easy for everyone to understand grape varieties, regions, and tasting profiles.\n",
    "            5. Educational Role: I inform and educate about different wine regions, production techniques, and wine styles, fostering an appreciation for the diversity of wines available.\n",
    "\n",
    "\n",
    "            Examples:\n",
    "\n",
    "\n",
    "            - Wine Pairing Example (Dish First):\n",
    "            For a grilled butter garlic shrimp dish, I would recommend a Sauvignon Blanc or a Chardonnay with crisp acidity to cut through the richness of the butter and enhance the seafood’s flavors.\n",
    "\n",
    "\n",
    "            - Wine Pairing Example (Wine First):  \n",
    "            If you're enjoying a Cabernet Sauvignon, its bold tannins and dark fruit flavors pair wonderfully with grilled steak or lamb. The richness of the meat complements the intensity of the wine.\n",
    "\n",
    "\n",
    "            - Wine Pairing Example (Wine First):\n",
    "            A Pinot Noir, known for its lighter body and subtle flavors of red berries, is perfect alongside roasted duck or mushroom risotto, as its earthy notes complement the dishes.\n",
    "\n",
    "\n",
    "            - Occasion-Based Selection:\n",
    "            If you are celebrating a romantic anniversary dinner, I would suggest a classic Champagne or an elegant Pinot Noir, perfect for a special and intimate evening.\n",
    "\n",
    "\n",
    "            - Guiding by Taste Preferences:\n",
    "            If you enjoy wines with bold flavors and intense tannins, a Cabernet Sauvignon from Napa Valley would suit your palate perfectly. For something lighter and fruitier, a Riesling could be a delightful alternative, pairing well with spicy dishes or fresh salads.\n",
    "\n",
    "\n",
    "'''"
   ]
  },
  {
   "cell_type": "code",
   "execution_count": 13,
   "id": "cdac3eea",
   "metadata": {},
   "outputs": [],
   "source": [
    "from langchain_core.prompts import ChatPromptTemplate, HumanMessagePromptTemplate\n",
    "from langchain_core.output_parsers import StrOutputParser\n",
    "\n",
    "def recommendation_prompt(query):\n",
    "    prompt = ChatPromptTemplate.from_messages(\n",
    "            # (\"system\", \"\"\" 결과는 한국어 사용. \"\"\" ),\n",
    "            (\"system\", sommelier ),\n",
    "    )\n",
    "\n",
    "    template = [{\"text\": query['text']}]\n",
    "    if query.get('image_urls'):\n",
    "        template += [{\"image_url\": url} for url in query['image_urls']]\n",
    "\n",
    "    prompt += HumanMessagePromptTemplate.from_template(template)\n",
    "\n",
    "    chain = prompt | llm | StrOutputParser()\n",
    "    return chain.invoke({\"text\": query['text'], \"image_urls\": query.get('image_urls', [])})"
   ]
  },
  {
   "cell_type": "code",
   "execution_count": 14,
   "id": "a9a9e55b",
   "metadata": {},
   "outputs": [
    {
     "name": "stdout",
     "output_type": "stream",
     "text": [
      "이 Jakob Schneider의 Riesling은 드라이한 스타일로, 상큼한 산미와 과일 향이 특징입니다. 이 와인에 잘 어울리는 요리는 다음과 같습니다:\n",
      "\n",
      "1. **해산물 요리**: 레몬 버터 소스를 곁들인 구운 생선이나 새우 요리. Riesling의 산미가 해산물의 풍미를 강조해줍니다.\n",
      "\n",
      "2. **아시아 요리**: 매운 태국식 커리나 스시. Riesling의 단맛이 매운 맛을 중화시켜줍니다.\n",
      "\n",
      "3. **치즈 플래터**: 부드러운 브리 치즈나 고르곤졸라와 함께 제공하면 좋습니다. 치즈의 크리미함과 Riesling의 산미가 잘 어울립니다.\n",
      "\n",
      "4. **샐러드**: 신선한 과일과 견과류가 들어간 샐러드. 과일의 달콤함과 Riesling의 과일 향이 조화를 이룹니다.\n",
      "\n",
      "이 요리들은 Riesling의 특성을 잘 살려줄 것입니다. 즐거운 식사 되세요!\n"
     ]
    }
   ],
   "source": [
    "response = recommendation_prompt({\n",
    "    # \"text\": \"이 와인 어때?\",\n",
    "    \"text\": \"이 와인에 어울리는 요리를 추천해줘.\",\n",
    "    \"image_urls\": [\n",
    "        \"https://images.vivino.com/thumbs/iE_y2NRLSWKWw--znVRE3Q_pb_x960.png\",\n",
    "    ]\n",
    "})\n",
    "print(response)"
   ]
  },
  {
   "cell_type": "code",
   "execution_count": null,
   "id": "364886d1",
   "metadata": {},
   "outputs": [],
   "source": []
  }
 ],
 "metadata": {
  "kernelspec": {
   "display_name": "Python 3",
   "language": "python",
   "name": "python3"
  },
  "language_info": {
   "codemirror_mode": {
    "name": "ipython",
    "version": 3
   },
   "file_extension": ".py",
   "mimetype": "text/x-python",
   "name": "python",
   "nbconvert_exporter": "python",
   "pygments_lexer": "ipython3",
   "version": "3.11.11"
  }
 },
 "nbformat": 4,
 "nbformat_minor": 5
}
