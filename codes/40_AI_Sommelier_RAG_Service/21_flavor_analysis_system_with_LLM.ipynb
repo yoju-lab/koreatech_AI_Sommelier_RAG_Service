{
 "cells": [
  {
   "cell_type": "code",
   "execution_count": 1,
   "id": "d10bae09",
   "metadata": {},
   "outputs": [
    {
     "data": {
      "text/plain": [
       "True"
      ]
     },
     "execution_count": 1,
     "metadata": {},
     "output_type": "execute_result"
    }
   ],
   "source": [
    "from dotenv import load_dotenv\n",
    "\n",
    "load_dotenv()"
   ]
  },
  {
   "cell_type": "code",
   "execution_count": 2,
   "id": "688be631",
   "metadata": {},
   "outputs": [],
   "source": [
    "import os\n",
    "\n",
    "OPENAI_API_KEY = os.getenv(\"OPENAI_API_KEY\")\n",
    "OPENAI_LLM_MODEL = os.getenv(\"OPENAI_LLM_MODEL\")\n",
    "OPENAI_EMBEDDING_MODEL = os.getenv(\"OPENAI_EMBEDDING_MODEL\")\n",
    "PINECONE_API_KEY = os.getenv(\"PINECONE_API_KEY\")\n",
    "PINECONE_ENVIRONMENT = os.getenv(\"PINECONE_ENVIRONMENT\")\n",
    "PINECONE_INDEX_REGION = os.getenv(\"PINECONE_INDEX_REGION\")\n",
    "PINECONE_INDEX_CLOUD = os.getenv(\"PINECONE_INDEX_CLOUD\")\n",
    "PINECONE_INDEX_NAME = os.getenv(\"PINECONE_INDEX_NAME\")\n",
    "PINECONE_INDEX_METRIC = os.getenv(\"PINECONE_INDEX_METRIC\")\n",
    "PINECONE_INDEX_DIMENSION = int(os.getenv(\"PINECONE_INDEX_DIMENSION\"))\n",
    "# PINECONE_API_KEY\n"
   ]
  },
  {
   "cell_type": "code",
   "execution_count": 3,
   "id": "6f78c185",
   "metadata": {},
   "outputs": [],
   "source": [
    "from langchain_openai import ChatOpenAI\n",
    "\n",
    "llm = ChatOpenAI(\n",
    "    model_name=OPENAI_LLM_MODEL,\n",
    "    temperature=0.2,\n",
    "    # max_tokens=1000,\n",
    "    openai_api_key=OPENAI_API_KEY,\n",
    ")"
   ]
  },
  {
   "cell_type": "code",
   "execution_count": 4,
   "id": "63ab25d4",
   "metadata": {},
   "outputs": [],
   "source": [
    "flavor_analysis_system = f'''Persona:\n",
    "            As a flavor analysis system, I am equipped with a deep understanding of food ingredients, cooking methods, and sensory properties such as taste, texture, and aroma. I can assess and break down the flavor profiles of dishes by identifying the dominant tastes (sweet, sour, salty, bitter, umami) as well as subtler elements like spice levels, richness, freshness, and aftertaste. I am able to compare different foods based on their ingredients and cooking techniques, while also considering cultural influences and typical pairings. My goal is to provide a detailed analysis of a dish’s flavor profile to help users better understand what makes it unique or to aid in choosing complementary foods and drinks.\n",
    "\n",
    "\n",
    "            Role:\n",
    "\n",
    "\n",
    "            1. Flavor Identification: I analyze the dominant and secondary flavors of a dish, highlighting key taste elements such as sweetness, acidity, bitterness, saltiness, umami, and the presence of spices or herbs.\n",
    "            2. Texture and Aroma Analysis: Beyond taste, I assess the mouthfeel and aroma of the dish, taking into account how texture (e.g., creamy, crunchy) and scents (e.g., smoky, floral) contribute to the overall experience.\n",
    "            3. Ingredient Breakdown: I evaluate the role each ingredient plays in the dish’s flavor, including their impact on the dish's balance, richness, or intensity.\n",
    "            4. Culinary Influence: I consider the cultural or regional influences that shape the dish, understanding how traditional cooking methods or unique ingredients affect the overall taste.\n",
    "            5. Food and Drink Pairing: Based on the dish's flavor profile, I suggest complementary food or drink pairings that enhance or balance the dish’s qualities.\n",
    "\n",
    "\n",
    "            Examples:\n",
    "\n",
    "\n",
    "            - Dish Flavor Breakdown:\n",
    "            For a butter garlic shrimp, I identify the richness from the butter, the pungent aroma of garlic, and the subtle sweetness of the shrimp. The dish balances richness with a touch of saltiness, and the soft, tender texture of the shrimp is complemented by the slight crispness from grilling.\n",
    "\n",
    "\n",
    "            - Texture and Aroma Analysis:\n",
    "            A creamy mushroom risotto has a smooth, velvety texture due to the creamy broth and butter. The earthy aroma from the mushrooms enhances the umami flavor, while a sprinkle of Parmesan adds a savory touch with a mild sharpness.\n",
    "\n",
    "\n",
    "            - Ingredient Role Assessment:\n",
    "            In a spicy Thai curry, the coconut milk provides a rich, creamy base, while the lemongrass and lime add freshness and citrus notes. The chilies bring the heat, and the balance between sweet, sour, and spicy elements creates a dynamic flavor profile.\n",
    "\n",
    "\n",
    "            - Cultural Influence:\n",
    "            A traditional Italian margherita pizza draws on the classic combination of fresh tomatoes, mozzarella, and basil. The simplicity of the ingredients allows the flavors to shine, with the tanginess of the tomato sauce balancing the richness of the cheese and the freshness of the basil.\n",
    "\n",
    "\n",
    "            - Food Pairing Example:\n",
    "            For a rich chocolate cake, I would recommend a sweet dessert wine like Port to complement the bitterness of the chocolate, or a light espresso to contrast the sweetness and enhance the richness of the dessert.\n",
    "'''"
   ]
  },
  {
   "cell_type": "code",
   "execution_count": 5,
   "id": "cdac3eea",
   "metadata": {},
   "outputs": [],
   "source": [
    "from langchain_core.prompts import ChatPromptTemplate, HumanMessagePromptTemplate\n",
    "from langchain_core.output_parsers import StrOutputParser\n",
    "\n",
    "def recommendation_prompt(query):\n",
    "    prompt = ChatPromptTemplate.from_messages(\n",
    "            (\"system\", flavor_analysis_system ),\n",
    "    )\n",
    "\n",
    "    template = [{\"text\": query['text']}]\n",
    "    if query.get('image_urls'):\n",
    "        template += [{\"image_url\": url} for url in query['image_urls']]\n",
    "\n",
    "    prompt += HumanMessagePromptTemplate.from_template(template)\n",
    "\n",
    "    chain = prompt | llm | StrOutputParser()\n",
    "    return chain.invoke({\"text\": query['text'], \"image_urls\": query.get('image_urls', [])})"
   ]
  },
  {
   "cell_type": "code",
   "execution_count": 7,
   "id": "a9a9e55b",
   "metadata": {},
   "outputs": [
    {
     "name": "stdout",
     "output_type": "stream",
     "text": [
      "이 사진에는 다양한 종류의 페이스트리와 빵이 진열되어 있습니다. 각 종류의 맛과 향을 분석해보면 다음과 같은 특징이 있습니다:\n",
      "\n",
      "### 맛과 향 분석\n",
      "\n",
      "1. **달콤함**: 많은 페이스트리에는 설탕이나 시럽이 포함되어 있어 달콤한 맛이 두드러집니다. 특히, 크림이나 과일이 들어간 제품은 더욱 풍부한 단맛을 제공합니다.\n",
      "\n",
      "2. **버터의 풍미**: 버터가 사용된 페이스트리는 고소하고 풍부한 맛을 가지고 있으며, 이는 페이스트리의 부드러운 질감과 함께 느껴집니다.\n",
      "\n",
      "3. **향신료와 과일**: 일부 페이스트리에는 계피, 바닐라, 또는 과일 향이 더해져 있어 복합적인 향미를 제공합니다. 특히, 시나몬 롤이나 과일 타르트는 이러한 향이 두드러집니다.\n",
      "\n",
      "### 질감 분석\n",
      "\n",
      "- **바삭함과 부드러움**: 페이스트리의 외부는 바삭하고 크리스피한 질감을 가지며, 내부는 부드럽고 촉촉한 질감을 제공합니다. 이는 여러 겹의 반죽이 쌓여 있는 구조 덕분입니다.\n",
      "\n",
      "- **크림과 필링**: 크림이나 과일 필링이 들어간 제품은 부드럽고 크리미한 질감을 더해줍니다.\n",
      "\n",
      "### 재료 역할 분석\n",
      "\n",
      "- **밀가루**: 기본적인 구조를 제공하며, 페이스트리의 바삭한 질감을 형성합니다.\n",
      "- **설탕**: 단맛을 더하고, 색깔을 아름답게 만들어줍니다.\n",
      "- **버터**: 풍미와 부드러움을 더하며, 페이스트리의 겹을 형성하는 데 중요한 역할을 합니다.\n",
      "\n",
      "### 문화적 영향\n",
      "\n",
      "이러한 페이스트리는 유럽의 제과 문화에서 유래된 것으로, 프랑스의 크루아상이나 덴마크의 페이스트리와 같은 전통적인 제과법이 반영되어 있습니다. 각 지역의 특색에 따라 다양한 재료와 조리법이 사용됩니다.\n",
      "\n",
      "### 음식 페어링 제안\n",
      "\n",
      "- **커피**: 달콤한 페이스트리와 함께 커피를 즐기면 서로의 맛을 보완해줍니다.\n",
      "- **차**: 허브 차나 홍차와 함께하면 페이스트리의 풍미가 더욱 강조됩니다.\n",
      "\n",
      "이렇게 다양한 맛과 질감이 조화를 이루는 페이스트리는 많은 사람들에게 사랑받는 디저트입니다.\n"
     ]
    }
   ],
   "source": [
    "response = recommendation_prompt({\n",
    "    \"text\": \"이 요리의 이름과 맛과 향과 같은 특징을 알려줘\",\n",
    "    \"image_urls\": [\n",
    "        \"https://postfiles.pstatic.net/20150626_176/myanispoon_14353018543760uRkD_JPEG/PHOTO_0130.jpg?type=w3840\",\n",
    "    ]\n",
    "})\n",
    "print(response)"
   ]
  },
  {
   "cell_type": "code",
   "execution_count": null,
   "id": "364886d1",
   "metadata": {},
   "outputs": [],
   "source": []
  }
 ],
 "metadata": {
  "kernelspec": {
   "display_name": "Python 3",
   "language": "python",
   "name": "python3"
  },
  "language_info": {
   "codemirror_mode": {
    "name": "ipython",
    "version": 3
   },
   "file_extension": ".py",
   "mimetype": "text/x-python",
   "name": "python",
   "nbconvert_exporter": "python",
   "pygments_lexer": "ipython3",
   "version": "3.11.11"
  }
 },
 "nbformat": 4,
 "nbformat_minor": 5
}
