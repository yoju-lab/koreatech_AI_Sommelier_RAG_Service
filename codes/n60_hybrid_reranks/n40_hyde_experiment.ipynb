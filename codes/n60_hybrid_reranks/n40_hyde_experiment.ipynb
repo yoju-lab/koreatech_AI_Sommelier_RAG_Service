{
 "cells": [
  {
   "cell_type": "markdown",
   "id": "161c1eb8",
   "metadata": {},
   "source": [
    "### from : 04.hyde_experiment.md"
   ]
  },
  {
   "cell_type": "code",
   "execution_count": 1,
   "id": "05b25650",
   "metadata": {},
   "outputs": [
    {
     "name": "stdout",
     "output_type": "stream",
     "text": [
      "환경 변수 로딩 완료\n"
     ]
    }
   ],
   "source": [
    "import os\n",
    "from dotenv import load_dotenv\n",
    "\n",
    "# .env 파일 로드\n",
    "load_dotenv()\n",
    "\n",
    "# 환경 변수 가져오기\n",
    "OPENAI_API_KEY = os.getenv(\"OPENAI_API_KEY\")\n",
    "OPENAI_LLM_MODEL = os.getenv(\"OPENAI_LLM_MODEL\")\n",
    "OPENAI_EMBEDDING_MODEL = os.getenv(\"OPENAI_EMBEDDING_MODEL\")\n",
    "PINECONE_API_KEY = os.getenv(\"PINECONE_API_KEY\")\n",
    "PINECONE_INDEX_REGION = os.getenv(\"PINECONE_INDEX_REGION\")\n",
    "PINECONE_INDEX_CLOUD = os.getenv(\"PINECONE_INDEX_CLOUD\")\n",
    "PINECONE_INDEX_NAME = os.getenv(\"PINECONE_INDEX_NAME\")\n",
    "PINECONE_INDEX_METRIC = os.getenv(\"PINECONE_INDEX_METRIC\")\n",
    "PINECONE_INDEX_DIMENSION = int(os.getenv(\"PINECONE_INDEX_DIMENSION\"))\n",
    "\n",
    "print(\"환경 변수 로딩 완료\")"
   ]
  },
  {
   "cell_type": "code",
   "execution_count": 5,
   "id": "3330509d",
   "metadata": {},
   "outputs": [
    {
     "name": "stdout",
     "output_type": "stream",
     "text": [
      "문서 수: 30\n",
      "질의 수: 30\n"
     ]
    }
   ],
   "source": [
    "import pandas as pd\n",
    "\n",
    "# 문서 및 질의 데이터 로드\n",
    "documents_df = pd.read_csv(\"../../datas/documents.csv\")\n",
    "queries_df = pd.read_csv(\"../../datas/queries.csv\")\n",
    "\n",
    "print(f\"문서 수: {len(documents_df)}\")\n",
    "print(f\"질의 수: {len(queries_df)}\")"
   ]
  },
  {
   "cell_type": "code",
   "execution_count": 6,
   "id": "47a8fbe6",
   "metadata": {},
   "outputs": [],
   "source": [
    "from konlpy.tag import Okt\n",
    "from rank_bm25 import BM25Okapi\n",
    "\n",
    "# Mecab 형태소 분석기 초기화\n",
    "mecab = Okt()\n",
    "# 문서 토큰화\n",
    "tokenized_docs = [mecab.morphs(content) for content in documents_df['content']]\n",
    "bm25 = BM25Okapi(tokenized_docs)\n",
    "\n",
    "def bm25_search(query, top_k=5):\n",
    "    tokens = mecab.morphs(query)\n",
    "    scores = bm25.get_scores(tokens)\n",
    "    ranked_idx = sorted(range(len(scores)), key=lambda i: scores[i], reverse=True)\n",
    "    return [documents_df['doc_id'].iloc[i] for i in ranked_idx[:top_k]]"
   ]
  },
  {
   "cell_type": "code",
   "execution_count": 7,
   "id": "22d8ab3a",
   "metadata": {},
   "outputs": [
    {
     "name": "stderr",
     "output_type": "stream",
     "text": [
      "/usr/local/lib/python3.11/site-packages/tqdm/auto.py:21: TqdmWarning: IProgress not found. Please update jupyter and ipywidgets. See https://ipywidgets.readthedocs.io/en/stable/user_install.html\n",
      "  from .autonotebook import tqdm as notebook_tqdm\n"
     ]
    },
    {
     "name": "stdout",
     "output_type": "stream",
     "text": [
      "Dense Retrieval 설정 완료\n"
     ]
    }
   ],
   "source": [
    "from pinecone import Pinecone\n",
    "from langchain_openai import OpenAIEmbeddings\n",
    "from langchain_pinecone import PineconeVectorStore\n",
    "\n",
    "# Pinecone 연결 (기존 인덱스 사용)\n",
    "pc = Pinecone(api_key=PINECONE_API_KEY)\n",
    "index = pc.Index(PINECONE_INDEX_NAME)\n",
    "\n",
    "# 임베딩 모델 준비 (OpenAI)\n",
    "embedding_model = OpenAIEmbeddings(model=OPENAI_EMBEDDING_MODEL, openai_api_key=OPENAI_API_KEY)\n",
    "# Dense 벡터 스토어 초기화\n",
    "vector_store = PineconeVectorStore(index_name=PINECONE_INDEX_NAME, embedding=embedding_model)\n",
    "\n",
    "print(\"Dense Retrieval 설정 완료\")"
   ]
  },
  {
   "cell_type": "code",
   "execution_count": 8,
   "id": "b864bb5f",
   "metadata": {},
   "outputs": [
    {
     "name": "stdout",
     "output_type": "stream",
     "text": [
      "HyDE LCEL 파이프라인 구성 완료\n"
     ]
    }
   ],
   "source": [
    "from langchain_openai import ChatOpenAI\n",
    "from langchain_core.prompts import PromptTemplate\n",
    "from langchain_core.output_parsers import StrOutputParser\n",
    "\n",
    "# ChatOpenAI 인스턴스 생성 (OpenAI LLM 모델 사용)\n",
    "chat_model = ChatOpenAI(\n",
    "    model_name=OPENAI_LLM_MODEL,\n",
    "    openai_api_key=OPENAI_API_KEY,\n",
    "    temperature=0.3\n",
    ")\n",
    "\n",
    "# HyDE용 프롬프트 템플릿 설정\n",
    "hyde_prompt = PromptTemplate(\n",
    "    input_variables=[\"query\"],\n",
    "    template=\"\"\"\n",
    "질문: {query}\n",
    "아래 질문에 대해 실제 문서가 아니어도 좋으니 짧게 가상의 답변을 생성하세요:\n",
    "\"\"\"\n",
    ")\n",
    "\n",
    "# 출력 파서 설정\n",
    "output_parser = StrOutputParser()\n",
    "\n",
    "# 프롬프트 -> LLM -> 출력파서를 연결하여 체인 생성\n",
    "hyde_chain = hyde_prompt | chat_model | output_parser\n",
    "\n",
    "print(\"HyDE LCEL 파이프라인 구성 완료\")"
   ]
  },
  {
   "cell_type": "code",
   "execution_count": 9,
   "id": "0b94022f",
   "metadata": {},
   "outputs": [],
   "source": [
    "import numpy as np\n",
    "\n",
    "def parse_relevant(relevant_str):\n",
    "    pairs = relevant_str.split(';')\n",
    "    rel_dict = { }\n",
    "    for pair in pairs:\n",
    "        doc_id, grade = pair.split('=')\n",
    "        rel_dict[doc_id] = int(grade)\n",
    "    return rel_dict\n",
    "\n",
    "def compute_metrics(predicted, relevant_dict, k=5):\n",
    "    hits = sum(1 for doc in predicted[:k] if doc in relevant_dict)\n",
    "    precision = hits / k\n",
    "    total_relevant = len(relevant_dict)\n",
    "    recall = hits / total_relevant if total_relevant > 0 else 0\n",
    "    rr = 0\n",
    "    for idx, doc in enumerate(predicted):\n",
    "        if doc in relevant_dict:\n",
    "            rr = 1 / (idx + 1)\n",
    "            break\n",
    "    num_correct = 0\n",
    "    precisions = []\n",
    "    for i, doc in enumerate(predicted[:k]):\n",
    "        if doc in relevant_dict:\n",
    "            num_correct += 1\n",
    "            precisions.append(num_correct / (i + 1))\n",
    "    ap = np.mean(precisions) if precisions else 0\n",
    "    return precision, recall, rr, ap\n",
    "\n",
    "def evaluate_all(results_dict, queries_df, k=5):\n",
    "    prec_list, rec_list, rr_list, ap_list = [], [], [], []\n",
    "    for idx, row in queries_df.iterrows():\n",
    "        qid = row['query_id']\n",
    "        relevant = parse_relevant(row['relevant_doc_ids'])\n",
    "        predicted = results_dict[qid]\n",
    "        p, r, rr, ap = compute_metrics(predicted, relevant, k)\n",
    "        prec_list.append(p)\n",
    "        rec_list.append(r)\n",
    "        rr_list.append(rr)\n",
    "        ap_list.append(ap)\n",
    "    return {\n",
    "        'P@5': np.mean(prec_list),\n",
    "        'R@5': np.mean(rec_list),\n",
    "        'MRR': np.mean(rr_list),\n",
    "        'MAP': np.mean(ap_list)\n",
    "    }"
   ]
  },
  {
   "cell_type": "code",
   "execution_count": 10,
   "id": "2022bf4a",
   "metadata": {},
   "outputs": [
    {
     "name": "stdout",
     "output_type": "stream",
     "text": [
      "HyDE 가상 답변 생성 완료\n"
     ]
    }
   ],
   "source": [
    "import time\n",
    "\n",
    "# 질의마다 가상 답변 생성 (HyDE 체인 사용)\n",
    "hyde_pseudo = {}\n",
    "for idx, row in queries_df.iterrows():\n",
    "    qid = row['query_id']\n",
    "    query_text = row['query_text']\n",
    "    # HyDE 체인으로 가상 답변 생성\n",
    "    pseudo_answer = hyde_chain.invoke({\"query\": query_text})\n",
    "    hyde_pseudo[qid] = pseudo_answer\n",
    "    time.sleep(0.5)  # API rate limit 대비 약간의 지연\n",
    "\n",
    "print(\"HyDE 가상 답변 생성 완료\")"
   ]
  },
  {
   "cell_type": "code",
   "execution_count": 11,
   "id": "04501369",
   "metadata": {},
   "outputs": [
    {
     "name": "stdout",
     "output_type": "stream",
     "text": [
      "Dense 및 HyDE 검색 결과 저장 완료\n"
     ]
    }
   ],
   "source": [
    "# Dense Retrieval (원본 질의 사용)\n",
    "dense_results = {}\n",
    "for idx, row in queries_df.iterrows():\n",
    "    qid = row['query_id']\n",
    "    query_text = row['query_text']\n",
    "    docs = vector_store.similarity_search(query_text, k=5)\n",
    "    dense_results[qid] = [doc.metadata['doc_id'] for doc in docs]\n",
    "\n",
    "# HyDE Retrieval (가상 답변 사용)\n",
    "hyde_results = {}\n",
    "for qid, pseudo in hyde_pseudo.items():\n",
    "    docs = vector_store.similarity_search(pseudo, k=5)\n",
    "    hyde_results[qid] = [doc.metadata['doc_id'] for doc in docs]\n",
    "\n",
    "print(\"Dense 및 HyDE 검색 결과 저장 완료\")"
   ]
  },
  {
   "cell_type": "code",
   "execution_count": 12,
   "id": "18f931d1",
   "metadata": {},
   "outputs": [
    {
     "data": {
      "text/html": [
       "<div>\n",
       "<style scoped>\n",
       "    .dataframe tbody tr th:only-of-type {\n",
       "        vertical-align: middle;\n",
       "    }\n",
       "\n",
       "    .dataframe tbody tr th {\n",
       "        vertical-align: top;\n",
       "    }\n",
       "\n",
       "    .dataframe thead th {\n",
       "        text-align: right;\n",
       "    }\n",
       "</style>\n",
       "<table border=\"1\" class=\"dataframe\">\n",
       "  <thead>\n",
       "    <tr style=\"text-align: right;\">\n",
       "      <th></th>\n",
       "      <th>Metric</th>\n",
       "      <th>Dense</th>\n",
       "      <th>HyDE</th>\n",
       "    </tr>\n",
       "  </thead>\n",
       "  <tbody>\n",
       "    <tr>\n",
       "      <th>0</th>\n",
       "      <td>P@5</td>\n",
       "      <td>0.466667</td>\n",
       "      <td>0.480000</td>\n",
       "    </tr>\n",
       "    <tr>\n",
       "      <th>1</th>\n",
       "      <td>R@5</td>\n",
       "      <td>1.716667</td>\n",
       "      <td>1.711111</td>\n",
       "    </tr>\n",
       "    <tr>\n",
       "      <th>2</th>\n",
       "      <td>MRR</td>\n",
       "      <td>0.977778</td>\n",
       "      <td>0.966667</td>\n",
       "    </tr>\n",
       "    <tr>\n",
       "      <th>3</th>\n",
       "      <td>MAP</td>\n",
       "      <td>0.978148</td>\n",
       "      <td>0.957778</td>\n",
       "    </tr>\n",
       "  </tbody>\n",
       "</table>\n",
       "</div>"
      ],
      "text/plain": [
       "  Metric     Dense      HyDE\n",
       "0    P@5  0.466667  0.480000\n",
       "1    R@5  1.716667  1.711111\n",
       "2    MRR  0.977778  0.966667\n",
       "3    MAP  0.978148  0.957778"
      ]
     },
     "execution_count": 12,
     "metadata": {},
     "output_type": "execute_result"
    }
   ],
   "source": [
    "import pandas as pd\n",
    "\n",
    "# 평가 수행 (각각 P@5, R@5, MRR, MAP 계산)\n",
    "dense_metrics = evaluate_all(dense_results, queries_df, k=5)\n",
    "hyde_metrics = evaluate_all(hyde_results, queries_df, k=5)\n",
    "\n",
    "# 데이터프레임으로 결과 정리\n",
    "df = pd.DataFrame({\n",
    "    'Metric': dense_metrics.keys(),\n",
    "    'Dense': dense_metrics.values(),\n",
    "    'HyDE': hyde_metrics.values()\n",
    "})\n",
    "df"
   ]
  }
 ],
 "metadata": {
  "kernelspec": {
   "display_name": "Python 3",
   "language": "python",
   "name": "python3"
  },
  "language_info": {
   "codemirror_mode": {
    "name": "ipython",
    "version": 3
   },
   "file_extension": ".py",
   "mimetype": "text/x-python",
   "name": "python",
   "nbconvert_exporter": "python",
   "pygments_lexer": "ipython3",
   "version": "3.11.11"
  }
 },
 "nbformat": 4,
 "nbformat_minor": 5
}
