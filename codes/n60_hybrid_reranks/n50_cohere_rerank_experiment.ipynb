{
 "cells": [
  {
   "cell_type": "markdown",
   "id": "161c1eb8",
   "metadata": {},
   "source": [
    "### from : 04.hyde_experiment.md"
   ]
  },
  {
   "cell_type": "code",
   "execution_count": 1,
   "id": "05b25650",
   "metadata": {},
   "outputs": [
    {
     "name": "stdout",
     "output_type": "stream",
     "text": [
      "환경 변수 로딩 완료\n"
     ]
    }
   ],
   "source": [
    "import os\n",
    "from dotenv import load_dotenv\n",
    "\n",
    "# .env 파일 로드\n",
    "load_dotenv()\n",
    "\n",
    "# 환경 변수 가져오기\n",
    "OPENAI_API_KEY = os.getenv(\"OPENAI_API_KEY\")\n",
    "OPENAI_LLM_MODEL = os.getenv(\"OPENAI_LLM_MODEL\")\n",
    "OPENAI_EMBEDDING_MODEL = os.getenv(\"OPENAI_EMBEDDING_MODEL\")\n",
    "PINECONE_API_KEY = os.getenv(\"PINECONE_API_KEY\")\n",
    "PINECONE_INDEX_REGION = os.getenv(\"PINECONE_INDEX_REGION\")\n",
    "PINECONE_INDEX_CLOUD = os.getenv(\"PINECONE_INDEX_CLOUD\")\n",
    "PINECONE_INDEX_NAME = os.getenv(\"PINECONE_INDEX_NAME\")\n",
    "PINECONE_INDEX_METRIC = os.getenv(\"PINECONE_INDEX_METRIC\")\n",
    "PINECONE_INDEX_DIMENSION = int(os.getenv(\"PINECONE_INDEX_DIMENSION\"))\n",
    "COHERE_API_KEY = os.getenv(\"COHERE_API_KEY\")\n",
    "\n",
    "print(\"환경 변수 로딩 완료\")"
   ]
  },
  {
   "cell_type": "code",
   "execution_count": 3,
   "id": "3330509d",
   "metadata": {},
   "outputs": [
    {
     "name": "stdout",
     "output_type": "stream",
     "text": [
      "문서 수: 30\n",
      "질의 수: 30\n"
     ]
    }
   ],
   "source": [
    "import pandas as pd\n",
    "\n",
    "# 문서 및 질의 데이터 로드\n",
    "documents_df = pd.read_csv(\"../../datas/documents.csv\")\n",
    "queries_df = pd.read_csv(\"../../datas/queries.csv\")\n",
    "\n",
    "print(f\"문서 수: {len(documents_df)}\")\n",
    "print(f\"질의 수: {len(queries_df)}\")"
   ]
  },
  {
   "cell_type": "code",
   "execution_count": 4,
   "id": "47a8fbe6",
   "metadata": {},
   "outputs": [
    {
     "name": "stdout",
     "output_type": "stream",
     "text": [
      "BM25 예시 상위 5: ['D1', 'D12', 'D2', 'D3', 'D4']\n"
     ]
    }
   ],
   "source": [
    "from konlpy.tag import Okt\n",
    "from rank_bm25 import BM25Okapi\n",
    "\n",
    "# Mecab 형태소 분석기 초기화\n",
    "mecab = Okt()\n",
    "# 문서 토큰화\n",
    "tokenized_docs = [mecab.morphs(content) for content in documents_df['content']]\n",
    "bm25 = BM25Okapi(tokenized_docs)\n",
    "\n",
    "def bm25_search(query, top_k=20):\n",
    "    tokens = mecab.morphs(query)\n",
    "    scores = bm25.get_scores(tokens)\n",
    "    ranked_idx = sorted(range(len(scores)), key=lambda i: scores[i], reverse=True)\n",
    "    return [documents_df['doc_id'].iloc[i] for i in ranked_idx[:top_k]]\n",
    "\n",
    "print(\"BM25 예시 상위 5:\", bm25_search(\"제주도 관광 명소\", top_k=5))"
   ]
  },
  {
   "cell_type": "code",
   "execution_count": 5,
   "id": "22d8ab3a",
   "metadata": {},
   "outputs": [
    {
     "name": "stderr",
     "output_type": "stream",
     "text": [
      "/usr/local/lib/python3.11/site-packages/tqdm/auto.py:21: TqdmWarning: IProgress not found. Please update jupyter and ipywidgets. See https://ipywidgets.readthedocs.io/en/stable/user_install.html\n",
      "  from .autonotebook import tqdm as notebook_tqdm\n"
     ]
    },
    {
     "name": "stdout",
     "output_type": "stream",
     "text": [
      "Dense Retrieval 설정 완료\n"
     ]
    }
   ],
   "source": [
    "from pinecone import Pinecone\n",
    "from langchain_openai import OpenAIEmbeddings\n",
    "from langchain_pinecone import PineconeVectorStore\n",
    "\n",
    "# Pinecone 클라이언트 연결\n",
    "pc = Pinecone(api_key=PINECONE_API_KEY)\n",
    "index = pc.Index(PINECONE_INDEX_NAME)\n",
    "\n",
    "# 임베딩 모델 생성\n",
    "embedding_model = OpenAIEmbeddings(model=OPENAI_EMBEDDING_MODEL, openai_api_key=OPENAI_API_KEY)\n",
    "# Dense 벡터 스토어 설정\n",
    "vector_store = PineconeVectorStore(index_name=PINECONE_INDEX_NAME, embedding=embedding_model)\n",
    "\n",
    "print(\"Dense Retrieval 설정 완료\")"
   ]
  },
  {
   "cell_type": "code",
   "execution_count": 6,
   "id": "0b94022f",
   "metadata": {},
   "outputs": [],
   "source": [
    "import numpy as np\n",
    "\n",
    "def parse_relevant(relevant_str):\n",
    "    pairs = relevant_str.split(';')\n",
    "    rel_dict = { }\n",
    "    for pair in pairs:\n",
    "        doc_id, grade = pair.split('=')\n",
    "        rel_dict[doc_id] = int(grade)\n",
    "    return rel_dict\n",
    "\n",
    "def compute_metrics(predicted, relevant_dict, k=5):\n",
    "    hits = sum(1 for doc in predicted[:k] if doc in relevant_dict)\n",
    "    precision = hits / k\n",
    "    total_relevant = len(relevant_dict)\n",
    "    recall = hits / total_relevant if total_relevant > 0 else 0\n",
    "    rr = 0\n",
    "    for idx, doc in enumerate(predicted):\n",
    "        if doc in relevant_dict:\n",
    "            rr = 1 / (idx + 1)\n",
    "            break\n",
    "    num_correct = 0\n",
    "    precisions = []\n",
    "    for i, doc in enumerate(predicted[:k]):\n",
    "        if doc in relevant_dict:\n",
    "            num_correct += 1\n",
    "            precisions.append(num_correct / (i + 1))\n",
    "    ap = np.mean(precisions) if precisions else 0\n",
    "    return precision, recall, rr, ap\n",
    "\n",
    "def evaluate_all(results_dict, queries_df, k=5):\n",
    "    prec_list, rec_list, rr_list, ap_list = [], [], [], []\n",
    "    for idx, row in queries_df.iterrows():\n",
    "        qid = row['query_id']\n",
    "        relevant = parse_relevant(row['relevant_doc_ids'])\n",
    "        predicted = results_dict[qid]\n",
    "        p, r, rr, ap = compute_metrics(predicted, relevant, k)\n",
    "        prec_list.append(p)\n",
    "        rec_list.append(r)\n",
    "        rr_list.append(rr)\n",
    "        ap_list.append(ap)\n",
    "    return {\n",
    "        'P@5': np.mean(prec_list),\n",
    "        'R@5': np.mean(rec_list),\n",
    "        'MRR': np.mean(rr_list),\n",
    "        'MAP': np.mean(ap_list)\n",
    "    }"
   ]
  },
  {
   "cell_type": "code",
   "execution_count": 7,
   "id": "2022bf4a",
   "metadata": {},
   "outputs": [
    {
     "name": "stdout",
     "output_type": "stream",
     "text": [
      "BM25 & Dense 후보 생성 완료\n"
     ]
    }
   ],
   "source": [
    "# BM25 상위 20 후보 생성\n",
    "bm25_candidates = {}\n",
    "for idx, row in queries_df.iterrows():\n",
    "    qid = row['query_id']\n",
    "    query_text = row['query_text']\n",
    "    bm25_candidates[qid] = bm25_search(query_text, top_k=20)\n",
    "\n",
    "# Dense Retrieval 상위 20 후보 생성\n",
    "dense_candidates = {}\n",
    "for idx, row in queries_df.iterrows():\n",
    "    qid = row['query_id']\n",
    "    query_text = row['query_text']\n",
    "    docs = vector_store.similarity_search(query_text, k=20)\n",
    "    dense_candidates[qid] = [doc.metadata['doc_id'] for doc in docs]\n",
    "\n",
    "print(\"BM25 & Dense 후보 생성 완료\")"
   ]
  },
  {
   "cell_type": "code",
   "execution_count": 8,
   "id": "51f0d61c",
   "metadata": {},
   "outputs": [
    {
     "name": "stdout",
     "output_type": "stream",
     "text": [
      "Cohere Reranking 완료 (상위 5 저장됨)\n"
     ]
    }
   ],
   "source": [
    "import cohere\n",
    "import time\n",
    "from cohere import TooManyRequestsError\n",
    "\n",
    "# Cohere 클라이언트 초기화\n",
    "co = cohere.Client(COHERE_API_KEY)\n",
    "\n",
    "def cohere_rerank(query, candidate_ids):\n",
    "    texts = [\n",
    "        documents_df.loc[documents_df['doc_id'] == cid, 'content'].values[0]\n",
    "        for cid in candidate_ids\n",
    "    ]\n",
    "    try:\n",
    "        response = co.rerank(\n",
    "            model='rerank-multilingual-v3.0',\n",
    "            query=query,\n",
    "            documents=texts\n",
    "        )\n",
    "        ranked = sorted(response.results, key=lambda x: x.relevance_score, reverse=True)\n",
    "        return [candidate_ids[r.index] for r in ranked]\n",
    "\n",
    "    except TooManyRequestsError:\n",
    "        # 429 에러 발생 시 잠깐 대기 후 재시도\n",
    "        print(\"TooManyRequestsError 발생, 10초 대기 후 재시도합니다.\")\n",
    "        time.sleep(10)\n",
    "        response = co.rerank(\n",
    "            model='rerank-multilingual-v3.0',\n",
    "            query=query,\n",
    "            documents=texts\n",
    "        )\n",
    "        ranked = sorted(response.results, key=lambda x: x.relevance_score, reverse=True)\n",
    "        return [candidate_ids[r.index] for r in ranked]\n",
    "\n",
    "# Reranked results 저장 (상위 5)\n",
    "rerank_results = {}\n",
    "for idx, row in queries_df.iterrows():\n",
    "    qid = row['query_id']\n",
    "    candidates = list(dict.fromkeys(bm25_candidates[qid] + dense_candidates[qid]))\n",
    "    query_text = row['query_text']\n",
    "    rerank_results[qid] = cohere_rerank(query_text, candidates)[:5]\n",
    "    time.sleep(6)  # 호출 간 최소 6초 대기 → 분당 약 10회 이하로 제한\n",
    "\n",
    "print(\"Cohere Reranking 완료 (상위 5 저장됨)\")"
   ]
  },
  {
   "cell_type": "code",
   "execution_count": 9,
   "id": "22731a5c",
   "metadata": {},
   "outputs": [
    {
     "data": {
      "text/html": [
       "<div>\n",
       "<style scoped>\n",
       "    .dataframe tbody tr th:only-of-type {\n",
       "        vertical-align: middle;\n",
       "    }\n",
       "\n",
       "    .dataframe tbody tr th {\n",
       "        vertical-align: top;\n",
       "    }\n",
       "\n",
       "    .dataframe thead th {\n",
       "        text-align: right;\n",
       "    }\n",
       "</style>\n",
       "<table border=\"1\" class=\"dataframe\">\n",
       "  <thead>\n",
       "    <tr style=\"text-align: right;\">\n",
       "      <th></th>\n",
       "      <th>Metric</th>\n",
       "      <th>BM25</th>\n",
       "      <th>Dense</th>\n",
       "      <th>Cohere</th>\n",
       "    </tr>\n",
       "  </thead>\n",
       "  <tbody>\n",
       "    <tr>\n",
       "      <th>0</th>\n",
       "      <td>P@5</td>\n",
       "      <td>0.253333</td>\n",
       "      <td>0.466667</td>\n",
       "      <td>0.260000</td>\n",
       "    </tr>\n",
       "    <tr>\n",
       "      <th>1</th>\n",
       "      <td>R@5</td>\n",
       "      <td>0.894444</td>\n",
       "      <td>1.716667</td>\n",
       "      <td>0.922222</td>\n",
       "    </tr>\n",
       "    <tr>\n",
       "      <th>2</th>\n",
       "      <td>MRR</td>\n",
       "      <td>0.966667</td>\n",
       "      <td>0.977778</td>\n",
       "      <td>0.966667</td>\n",
       "    </tr>\n",
       "    <tr>\n",
       "      <th>3</th>\n",
       "      <td>MAP</td>\n",
       "      <td>0.957407</td>\n",
       "      <td>0.978148</td>\n",
       "      <td>0.964074</td>\n",
       "    </tr>\n",
       "  </tbody>\n",
       "</table>\n",
       "</div>"
      ],
      "text/plain": [
       "  Metric      BM25     Dense    Cohere\n",
       "0    P@5  0.253333  0.466667  0.260000\n",
       "1    R@5  0.894444  1.716667  0.922222\n",
       "2    MRR  0.966667  0.977778  0.966667\n",
       "3    MAP  0.957407  0.978148  0.964074"
      ]
     },
     "execution_count": 9,
     "metadata": {},
     "output_type": "execute_result"
    }
   ],
   "source": [
    "import pandas as pd\n",
    "\n",
    "# BM25 상위 5, Dense 상위 5\n",
    "bm25_results_5 = {qid: lst[:5] for qid, lst in bm25_candidates.items()}\n",
    "dense_results_5 = {qid: lst[:5] for qid, lst in dense_candidates.items()}\n",
    "\n",
    "# 평가\n",
    "bm25_metrics = evaluate_all(bm25_results_5, queries_df, k=5)\n",
    "dense_metrics = evaluate_all(dense_results_5, queries_df, k=5)\n",
    "rerank_metrics = evaluate_all(rerank_results, queries_df, k=5)\n",
    "\n",
    "df_metrics = pd.DataFrame({\n",
    "    'Metric': ['P@5', 'R@5', 'MRR', 'MAP'],\n",
    "    'BM25': [bm25_metrics['P@5'], bm25_metrics['R@5'], bm25_metrics['MRR'], bm25_metrics['MAP']],\n",
    "    'Dense': [dense_metrics['P@5'], dense_metrics['R@5'], dense_metrics['MRR'], dense_metrics['MAP']],\n",
    "    'Cohere': [rerank_metrics['P@5'], rerank_metrics['R@5'], rerank_metrics['MRR'], rerank_metrics['MAP']]\n",
    "})\n",
    "df_metrics"
   ]
  }
 ],
 "metadata": {
  "kernelspec": {
   "display_name": "Python 3",
   "language": "python",
   "name": "python3"
  },
  "language_info": {
   "codemirror_mode": {
    "name": "ipython",
    "version": 3
   },
   "file_extension": ".py",
   "mimetype": "text/x-python",
   "name": "python",
   "nbconvert_exporter": "python",
   "pygments_lexer": "ipython3",
   "version": "3.11.11"
  }
 },
 "nbformat": 4,
 "nbformat_minor": 5
}
