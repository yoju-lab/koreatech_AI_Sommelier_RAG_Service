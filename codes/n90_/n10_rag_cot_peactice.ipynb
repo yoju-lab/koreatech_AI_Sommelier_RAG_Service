{
 "cells": [
  {
   "cell_type": "markdown",
   "id": "66363189",
   "metadata": {},
   "source": [
    "### from : rag_cot_peactice.md"
   ]
  },
  {
   "cell_type": "markdown",
   "id": "e2dc03fa",
   "metadata": {},
   "source": [
    "## 환경 정보"
   ]
  },
  {
   "cell_type": "code",
   "execution_count": 1,
   "id": "eea508b2",
   "metadata": {},
   "outputs": [],
   "source": [
    "# .env 로드 & LLM 초기화\n",
    "import os\n",
    "from dotenv import load_dotenv\n",
    "from langchain_openai import ChatOpenAI\n",
    "\n",
    "load_dotenv()\n",
    "llm = ChatOpenAI(\n",
    "    model_name=os.getenv(\"OPENAI_LLM_MODEL\"),\n",
    "    openai_api_key=os.getenv(\"OPENAI_API_KEY\"),\n",
    "    temperature=0.0\n",
    ")"
   ]
  },
  {
   "cell_type": "markdown",
   "id": "37d0d029",
   "metadata": {},
   "source": [
    "## AnswerParser"
   ]
  },
  {
   "cell_type": "code",
   "execution_count": 3,
   "id": "74af23da",
   "metadata": {},
   "outputs": [],
   "source": [
    "# 가짜 Retriever (Top-3 문서 반환)\n",
    "docs = {\n",
    "    \"doc1\": \"대한민국의 수도는 서울입니다. 서울은 한강을 끼고 발달한 도시입니다.\",\n",
    "    \"doc2\": \"서울의 대표적 관광지는 경복궁, 남산타워, 명동 등이 있습니다.\",\n",
    "    \"doc3\": \"서울의 인구는 약 천만 명이며, 교통·문화 인프라가 잘 갖춰져 있습니다.\"\n",
    "}\n",
    "def fake_retriever(query: str, top_k: int = 3):\n",
    "    return [docs[f\"doc{i}\"] for i in range(1, top_k+1)]\n",
    "\n",
    "# OutputParser 정의\n",
    "import re\n",
    "from langchain.schema import BaseOutputParser\n",
    "\n",
    "class FinalAnswerParser(BaseOutputParser):\n",
    "    def parse(self, text: str) -> str:\n",
    "        pattern = r\"3\\.\\s*\\*\\*?최종\\s*답변\\*{0,2}[:\\s]*(.+)$\"\n",
    "        m = re.search(pattern, text, re.DOTALL | re.MULTILINE)\n",
    "        if m:\n",
    "            return m.group(1).strip()\n",
    "        fb = re.search(r\"최종\\s*답변[:\\s]*(.+)\", text, re.DOTALL)\n",
    "        return fb.group(1).strip() if fb else text.strip()"
   ]
  },
  {
   "cell_type": "markdown",
   "id": "6cc9649c",
   "metadata": {},
   "source": [
    "### 난이도 하 (Easy)"
   ]
  },
  {
   "cell_type": "code",
   "execution_count": 8,
   "id": "22027612",
   "metadata": {},
   "outputs": [
    {
     "data": {
      "text/plain": [
       "['대한민국의 수도는 서울입니다. 서울은 한강을 끼고 발달한 도시입니다.',\n",
       " '서울의 대표적 관광지는 경복궁, 남산타워, 명동 등이 있습니다.']"
      ]
     },
     "execution_count": 8,
     "metadata": {},
     "output_type": "execute_result"
    }
   ],
   "source": [
    "query = \"서울의 수도는 어디인가요?\"\n",
    "retrieved = fake_retriever(query, top_k=2)\n",
    "retrieved\n"
   ]
  },
  {
   "cell_type": "code",
   "execution_count": 15,
   "id": "cd61c170",
   "metadata": {},
   "outputs": [],
   "source": [
    "template_normal = \"\"\"=== 문서1 ===\n",
    "{doc1}\n",
    "\n",
    "=== 문서2 ===\n",
    "{doc2}\n",
    "\n",
    "=== 문서3 ===\n",
    "{doc3}\n",
    "\n",
    "질문: {question}\n",
    "지시사항:\n",
    "1. 핵심 정보 추출  \n",
    "2. 정보를 조합  \n",
    "3. **최종 답변**:\n",
    "\"\"\"     # Normal Instructions \n",
    "\n",
    "template_cot = \"\"\"=== 문서1 ===\n",
    "{doc1}\n",
    "\n",
    "=== 문서2 ===\n",
    "{doc2}\n",
    "\n",
    "=== 문서3 ===\n",
    "{doc3}\n",
    "\n",
    "질문: {question}\n",
    "\n",
    "[지시사항]\n",
    "1. 핵심 정보 추출  \n",
    "2. 정보를 조합  \n",
    "3. **최종 답변**:\n",
    "\"\"\"     # COT Instructions "
   ]
  },
  {
   "cell_type": "code",
   "execution_count": null,
   "id": "8a6ab7d8",
   "metadata": {},
   "outputs": [
    {
     "name": "stdout",
     "output_type": "stream",
     "text": [
      "Easy 결과: 1. **핵심 정보 추출**  \n",
      "   - 서울의 인구: 약 천만 명  \n",
      "   - 서울의 대표적 관광지: 경복궁, 남산타워, 명동 등  \n",
      "   - 교통·문화 인프라: 잘 갖춰져 있음  \n",
      "\n",
      "2. **정보 조합**  \n",
      "   서울은 약 천만 명의 인구를 가진 대도시로, 다양한 문화와 역사를 경험할 수 있는 관광지가 풍부합니다. 대표적인 관광지인 경복궁은 한국의 전통 문화를 체험할 수 있는 장소이며, 남산타워는 서울의 전경을 한눈에 볼 수 있는 명소입니다. 또한, 명동은 쇼핑과 먹거리를 즐길 수 있는 활기찬 거리로, 많은 관광객들이 찾는 곳입니다. 이러한 관광지들은 서울의 풍부한 문화적 자산을 반영하고 있습니다. 더불어, 서울은 교통과 문화 인프라가 잘 갖춰져 있어, 대중교통을 이용해 쉽게 이동할 수 있으며, 다양한 문화 행사와 프로그램이 진행되어 여행객들이 편리하게 즐길 수 있는 환경을 제공합니다.\n",
      "\n",
      "3. **최종 답변**:  \n",
      "서울은 약 천만 명의 인구가 거주하는 대도시로, 경복궁, 남산타워, 명동과 같은 다양한 관광지를 보유하고 있습니다. 이러한 관광지는 서울의 풍부한 역사와 문화를 체험할 수 있는 기회를 제공합니다. 또한, 잘 갖춰진 교통·문화 인프라 덕분에 여행객들은 편리하게 이동하며 다양한 문화적 경험을 즐길 수 있습니다. 따라서 서울은 여행하기에 매우 좋은 도시입니다.\n"
     ]
    }
   ],
   "source": [
    "from langchain_core.prompts import PromptTemplate\n",
    "from langchain_core.output_parsers import StrOutputParser\n",
    "\n",
    "prompt_easy = PromptTemplate(\n",
    "    input_variables=[\"doc1\", \"doc2\", \"doc3\", \"question\"],   # Contexts\n",
    "    # template=template_normal,\n",
    "    template=template_cot,\n",
    ")\n",
    "\n",
    "chain_easy = prompt_easy | llm | StrOutputParser()\n",
    "# chain_easy = prompt_easy | llm | FinalAnswerParser()\n",
    "result_easy = chain_easy.invoke({\n",
    "    \"doc1\": retrieved[0],\n",
    "    \"doc2\": retrieved[1],\n",
    "    \"doc3\": retrieved[2] if len(retrieved) > 2 else \"\",\n",
    "    \"question\": query\n",
    "})\n",
    "print(\"Easy 결과:\", result_easy)"
   ]
  },
  {
   "cell_type": "markdown",
   "id": "fdb0505e",
   "metadata": {},
   "source": [
    "### 난이도 중 (Medium)"
   ]
  },
  {
   "cell_type": "code",
   "execution_count": 10,
   "id": "f9b9fbb9",
   "metadata": {},
   "outputs": [
    {
     "data": {
      "text/plain": [
       "['대한민국의 수도는 서울입니다. 서울은 한강을 끼고 발달한 도시입니다.',\n",
       " '서울의 대표적 관광지는 경복궁, 남산타워, 명동 등이 있습니다.',\n",
       " '서울의 인구는 약 천만 명이며, 교통·문화 인프라가 잘 갖춰져 있습니다.']"
      ]
     },
     "execution_count": 10,
     "metadata": {},
     "output_type": "execute_result"
    }
   ],
   "source": [
    "query = \"서울의 주요 관광지 3곳과 특징을 알려주세요.\"\n",
    "retrieved = fake_retriever(query, top_k=3)\n",
    "retrieved\n"
   ]
  },
  {
   "cell_type": "code",
   "execution_count": 11,
   "id": "9ccfe142",
   "metadata": {},
   "outputs": [
    {
     "name": "stdout",
     "output_type": "stream",
     "text": [
      "Medium 결과: 1) 각 문서에서 핵심 키워드 추출  \n",
      "- 문서1: 서울, 수도, 한강, 발달  \n",
      "- 문서2: 관광지, 경복궁, 남산타워, 명동  \n",
      "- 문서3: 인구, 천만 명, 교통, 문화 인프라  \n",
      "\n",
      "2) 관광지별 특징 정리  \n",
      "- 경복궁: 조선 왕조의 주요 궁궐로, 역사적 가치가 높고 아름다운 건축물과 정원이 있음.  \n",
      "- 남산타워: 서울의 상징적인 전망대이며, 서울 전경을 한눈에 볼 수 있는 장소로 유명함.  \n",
      "- 명동: 쇼핑과 음식 문화가 발달한 지역으로, 많은 관광객이 방문하는 번화가임.  \n",
      "\n",
      "3) **최종 답변**  \n",
      "\n",
      "| 관광지     | 특징                                               |\n",
      "|------------|----------------------------------------------------|\n",
      "| 경복궁     | 조선 왕조의 주요 궁궐, 역사적 가치와 아름다운 건축물 |\n",
      "| 남산타워   | 서울의 상징적인 전망대, 서울 전경을 볼 수 있는 장소 |\n",
      "| 명동       | 쇼핑과 음식 문화가 발달한 번화가, 많은 관광객 방문 |\n"
     ]
    }
   ],
   "source": [
    "prompt_med = PromptTemplate(\n",
    "    input_variables=[\"doc1\",\"doc2\",\"doc3\",\"question\"],\n",
    "    template=\"\"\"문서들을 읽고 단계별로 답하세요.\n",
    "\n",
    "=== 문서1 ===\n",
    "{doc1}\n",
    "\n",
    "=== 문서2 ===\n",
    "{doc2}\n",
    "\n",
    "=== 문서3 ===\n",
    "{doc3}\n",
    "\n",
    "질문: {question}\n",
    "\n",
    "[지시사항]\n",
    "1) 각 문서에서 핵심 키워드 추출  \n",
    "2) 관광지별 특징 정리  \n",
    "3) **최종 답변**을 표 형태로 제시\n",
    "\"\"\"\n",
    ")\n",
    "\n",
    "chain_med = prompt_med | llm | StrOutputParser()\n",
    "# chain_med = prompt_med | llm | FinalAnswerParser()\n",
    "result_med = chain_med.invoke({\n",
    "    \"doc1\": retrieved[0],\n",
    "    \"doc2\": retrieved[1],\n",
    "    \"doc3\": retrieved[2] if len(retrieved) > 2 else \"\",\n",
    "    \"question\": query\n",
    "})\n",
    "print(\"Medium 결과:\", result_med)"
   ]
  },
  {
   "cell_type": "markdown",
   "id": "175d18ce",
   "metadata": {},
   "source": [
    "### 난이도 상 (Hard)"
   ]
  },
  {
   "cell_type": "code",
   "execution_count": 12,
   "id": "9376ff3f",
   "metadata": {},
   "outputs": [
    {
     "data": {
      "text/plain": [
       "['대한민국의 수도는 서울입니다. 서울은 한강을 끼고 발달한 도시입니다.',\n",
       " '서울의 대표적 관광지는 경복궁, 남산타워, 명동 등이 있습니다.',\n",
       " '서울의 인구는 약 천만 명이며, 교통·문화 인프라가 잘 갖춰져 있습니다.']"
      ]
     },
     "execution_count": 12,
     "metadata": {},
     "output_type": "execute_result"
    }
   ],
   "source": [
    "query = \"서울의 인구, 관광지, 교통 인프라를 종합해 여행하기 좋은 이유를 논리적으로 설명해주세요.\"\n",
    "retrieved = fake_retriever(query, top_k=3)\n",
    "retrieved\n"
   ]
  },
  {
   "cell_type": "code",
   "execution_count": 13,
   "id": "89c37738",
   "metadata": {},
   "outputs": [
    {
     "name": "stdout",
     "output_type": "stream",
     "text": [
      "Hard 결과: ### 1. 문서별 핵심 데이터 정리\n",
      "\n",
      "- **문서1**: \n",
      "  - 수도: 서울\n",
      "  - 위치: 한강을 끼고 발달한 도시\n",
      "\n",
      "- **문서2**: \n",
      "  - 대표적 관광지: 경복궁, 남산타워, 명동 등\n",
      "\n",
      "- **문서3**: \n",
      "  - 인구: 약 천만 명\n",
      "  - 교통·문화 인프라: 잘 갖춰져 있음\n",
      "\n",
      "### 2. 데이터 간 상호관계 분석\n",
      "\n",
      "- **인구와 관광지**: 서울의 인구가 약 천만 명이라는 것은 도시가 활기차고 다양한 문화적 활동이 이루어짐을 의미한다. 많은 인구는 관광객들에게 다양한 경험을 제공할 수 있는 기반이 된다. 예를 들어, 경복궁과 같은 역사적 장소는 많은 방문객을 수용할 수 있는 인프라와 서비스가 필요하다.\n",
      "\n",
      "- **관광지와 교통 인프라**: 서울의 대표 관광지들은 교통 인프라가 잘 갖춰져 있어 접근성이 뛰어나다. 예를 들어, 경복궁은 지하철과 버스 등 대중교통으로 쉽게 접근할 수 있으며, 남산타워와 명동 또한 대중교통으로 연결되어 있어 관광객들이 편리하게 이동할 수 있다.\n",
      "\n",
      "- **인구와 교통 인프라**: 천만 명의 인구를 수용하기 위해 서울은 교통 인프라를 지속적으로 발전시켜왔다. 이는 관광객들이 서울을 방문할 때 편리하게 이동할 수 있도록 도와준다. 잘 발달된 교통망은 관광지 간의 이동을 원활하게 하여 여행의 효율성을 높인다.\n",
      "\n",
      "### 3. 분석 기반 이유 서술\n",
      "\n",
      "서울은 약 천만 명의 인구가 거주하는 대도시로, 다양한 문화와 역사를 경험할 수 있는 관광지가 풍부하다. 경복궁, 남산타워, 명동과 같은 대표적인 관광지는 서울의 역사적, 문화적 가치를 잘 보여준다. 이러한 관광지는 대중교통으로 쉽게 접근할 수 있어, 관광객들이 편리하게 여행할 수 있는 환경을 제공한다. 또한, 서울의 교통 인프라는 잘 갖춰져 있어, 관광객들이 여러 관광지를 효율적으로 방문할 수 있도록 돕는다. \n",
      "\n",
      "### 4. 최종 답변\n",
      "\n",
      "**서론**  \n",
      "서울은 대한민국의 수도로서, 한강을 끼고 발달한 도시입니다. 이 도시는 약 천만 명의 인구가 거주하며, 다양한 관광지와 잘 갖춰진 교통 인프라를 자랑합니다. 이러한 요소들은 서울을 여행하기에 매우 매력적인 도시로 만들어 줍니다.\n",
      "\n",
      "**본론**  \n",
      "서울의 인구는 도시의 활기와 다양한 문화적 경험을 가능하게 합니다. 경복궁, 남산타워, 명동과 같은 대표 관광지는 서울의 역사와 문화를 체험할 수 있는 기회를 제공합니다. 이러한 관광지는 대중교통으로 쉽게 접근할 수 있어, 관광객들이 편리하게 이동할 수 있는 환경을 조성합니다. 또한, 서울의 교통 인프라는 천만 명의 인구를 수용하기 위해 지속적으로 발전해왔으며, 이는 관광객들이 여러 관광지를 효율적으로 방문할 수 있도록 돕습니다.\n",
      "\n",
      "**결론**  \n",
      "결론적으로, 서울은 풍부한 인구와 다양한 관광지, 잘 갖춰진 교통 인프라 덕분에 여행하기에 매우 좋은 도시입니다. 이러한 요소들은 관광객들에게 편리하고 즐거운 여행 경험을 제공하며, 서울을 방문할 이유를 더욱 강화합니다.\n"
     ]
    }
   ],
   "source": [
    "prompt_hard = PromptTemplate(\n",
    "    input_variables=[\"doc1\",\"doc2\",\"doc3\",\"question\"],\n",
    "    template=\"\"\"아래 문서들을 바탕으로 심층 분석을 수행하세요.\n",
    "\n",
    "=== 문서1 ===\n",
    "{doc1}\n",
    "\n",
    "=== 문서2 ===\n",
    "{doc2}\n",
    "\n",
    "=== 문서3 ===\n",
    "{doc3}\n",
    "\n",
    "질문: {question}\n",
    "\n",
    "[지시사항]\n",
    "1. 문서별 핵심 데이터(인구·관광·교통) 정리  \n",
    "2. 데이터 간 상호관계 분석  \n",
    "3. 분석 기반 이유 서술  \n",
    "4. **최종 답변**: 서론·본론·결론 구조로 제시\n",
    "\"\"\"\n",
    ")\n",
    "\n",
    "chain_hard = prompt_hard | llm | StrOutputParser()\n",
    "# chain_hard = prompt_hard | llm | FinalAnswerParser()\n",
    "result_hard = chain_hard.invoke({\n",
    "    \"doc1\": retrieved[0],\n",
    "    \"doc2\": retrieved[1],\n",
    "    \"doc3\": retrieved[2] if len(retrieved) > 2 else \"\",\n",
    "    \"question\": query\n",
    "})\n",
    "print(\"Hard 결과:\", result_hard)"
   ]
  },
  {
   "cell_type": "code",
   "execution_count": null,
   "id": "2dc899f4",
   "metadata": {},
   "outputs": [],
   "source": []
  }
 ],
 "metadata": {
  "kernelspec": {
   "display_name": "Python 3",
   "language": "python",
   "name": "python3"
  },
  "language_info": {
   "codemirror_mode": {
    "name": "ipython",
    "version": 3
   },
   "file_extension": ".py",
   "mimetype": "text/x-python",
   "name": "python",
   "nbconvert_exporter": "python",
   "pygments_lexer": "ipython3",
   "version": "3.11.11"
  }
 },
 "nbformat": 4,
 "nbformat_minor": 5
}
